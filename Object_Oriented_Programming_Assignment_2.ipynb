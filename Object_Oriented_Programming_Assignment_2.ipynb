{
  "nbformat": 4,
  "nbformat_minor": 0,
  "metadata": {
    "colab": {
      "provenance": [],
      "authorship_tag": "ABX9TyMyXWyGLdNPPDOrAJ5gd+Ob",
      "include_colab_link": true
    },
    "kernelspec": {
      "name": "python3",
      "display_name": "Python 3"
    },
    "language_info": {
      "name": "python"
    }
  },
  "cells": [
    {
      "cell_type": "markdown",
      "metadata": {
        "id": "view-in-github",
        "colab_type": "text"
      },
      "source": [
        "<a href=\"https://colab.research.google.com/github/Ragorfish/Pyhton-Developement-Intern/blob/main/Object_Oriented_Programming_Assignment_2.ipynb\" target=\"_parent\"><img src=\"https://colab.research.google.com/assets/colab-badge.svg\" alt=\"Open In Colab\"/></a>"
      ]
    },
    {
      "cell_type": "code",
      "execution_count": 1,
      "metadata": {
        "id": "t3TdgVPxUSv8"
      },
      "outputs": [],
      "source": [
        "#1: Explain the importance of Functions."
      ]
    },
    {
      "cell_type": "markdown",
      "source": [
        "Functions are essential in programming because they serve as building blocks for creating efficient, reusable, and maintainable code. Here's why they are important:\n",
        "\n",
        "1. Code Reusability\n",
        "Functions allow you to write a block of code once and reuse it multiple times throughout your program. This reduces redundancy and saves time.\n",
        "2. Modularity\n",
        "Functions break a program into smaller, manageable parts. Each function performs a specific task, making the code easier to read, understand, and debug.\n",
        "3. Improved Maintainability\n",
        "Since functions encapsulate logic, any changes or updates can be made within the function without affecting the rest of the program. This simplifies the process of maintaining and extending code.\n",
        "4. Readability and Organization\n",
        "Functions make the code more structured and organized. By giving descriptive names to functions, the intent of the code becomes clearer, improving readability.\n",
        "5. Abstraction\n",
        "Functions hide the implementation details, exposing only what’s necessary. This abstraction lets you focus on what the function does rather than how it achieves it.\n",
        "6. Scalability\n",
        "When working on large projects, functions allow teams to work collaboratively. Each team member can work on different functions or modules without interfering with others.\n",
        "7. Debugging and Testing\n",
        "Functions can be tested individually (unit testing), making it easier to identify and fix bugs. This modular testing reduces the chances of errors in the overall program.\n",
        "8. Code Efficiency\n",
        "Functions avoid repeating logic, reducing the overall size of the code and improving its efficiency. They also make use of the program's memory more effectively by using parameters and local variables.\n",
        "Example"
      ],
      "metadata": {
        "id": "nSfp8KFYUvSM"
      }
    },
    {
      "cell_type": "code",
      "source": [
        "#2: Write a basic function to greet students.\n",
        "\n",
        "def greet_student(name):\n",
        "    \"\"\"\n",
        "    Greets a student by their name.\n",
        "    \"\"\"\n",
        "    print(f\"Hello, {name}! Welcome to the class.\")\n",
        "\n",
        "# Example usage:\n",
        "greet_student(\"Alice\")\n",
        "greet_student(\"Bob\")\n",
        "\n"
      ],
      "metadata": {
        "colab": {
          "base_uri": "https://localhost:8080/"
        },
        "id": "L7GsCCuiU6j-",
        "outputId": "ee476b6a-6218-46d8-ddda-0029f99c743a"
      },
      "execution_count": 2,
      "outputs": [
        {
          "output_type": "stream",
          "name": "stdout",
          "text": [
            "Hello, Alice! Welcome to the class.\n",
            "Hello, Bob! Welcome to the class.\n"
          ]
        }
      ]
    },
    {
      "cell_type": "code",
      "source": [
        "#3: What is the difference between print and return statements"
      ],
      "metadata": {
        "id": "kPAigTthVPeZ"
      },
      "execution_count": null,
      "outputs": []
    },
    {
      "cell_type": "markdown",
      "source": [
        "The print and return statements are both commonly used in programming, but they serve very different purposes. Here's a breakdown of their differences:\n",
        "\n",
        "1. Purpose\n",
        "print: Displays information to the user or console. It is used for output during the program's execution but does not affect the program's internal logic.\n",
        "return: Sends a value back to the calling function. It is used to pass results from a function to the rest of the program for further processing.\n",
        "2. Scope of Use\n",
        "print: Typically used for debugging or displaying output to the screen.\n",
        "return: Used when you need the result of a function for further computation or logic.\n",
        "3. Output vs. Result\n",
        "print: Only outputs a value to the console; the value is not stored or used elsewhere.\n",
        "return: Outputs a value back to the caller, making it reusable in the program."
      ],
      "metadata": {
        "id": "Kici5IvPVSkO"
      }
    },
    {
      "cell_type": "code",
      "source": [
        "#4: What are *args and **kwargs?"
      ],
      "metadata": {
        "id": "CZ601_qlVcrS"
      },
      "execution_count": null,
      "outputs": []
    },
    {
      "cell_type": "markdown",
      "source": [
        "*args (Non-Keyword Arguments)\n",
        "Purpose: Allows a function to accept a variable number of positional arguments (non-keyword arguments).\n",
        "How It Works: The *args syntax collects additional positional arguments into a tuple.\n",
        "\n",
        "**kwargs (Keyword Arguments)\n",
        "Purpose: Allows a function to accept a variable number of keyword arguments (arguments passed as key=value pairs).\n",
        "How It Works: The **kwargs syntax collects additional keyword arguments into a dictionary."
      ],
      "metadata": {
        "id": "XVh4mIgsViAc"
      }
    },
    {
      "cell_type": "code",
      "source": [
        "#5:  Explain the iterator function?"
      ],
      "metadata": {
        "id": "bpZOYTenVvNk"
      },
      "execution_count": null,
      "outputs": []
    },
    {
      "cell_type": "markdown",
      "source": [
        "An iterator function is a function that allows you to traverse through the elements of a collection (like a list, tuple, dictionary, or set) one element at a time. In Python, iterators are a core part of how loops and data traversal work, and they are implemented using the iterator protocol.\n",
        "\n",
        "1. Key Concepts of Iterators\n",
        "Iterator: An object that represents a stream of data and returns one element at a time when iterated.\n",
        "Iterable: Any object that can return an iterator. Examples include lists, tuples, strings, dictionaries, and sets.\n",
        "2. The Iterator Protocol\n",
        "To create and use an iterator, two methods are important:\n",
        "\n",
        "__iter__():\n",
        "\n",
        "This method is called to initialize the iterator object.\n",
        "It should return the iterator object itself.\n",
        "__next__():\n",
        "\n",
        "This method is called to retrieve the next value in the sequence.\n",
        "It raises a StopIteration exception when there are no more items to return."
      ],
      "metadata": {
        "id": "ft04VBo9V0LL"
      }
    },
    {
      "cell_type": "code",
      "source": [
        "#6: Write a code that generates the squares of numbers from 1 to n using a generator.\n",
        "\n",
        "def generate_squares(n):\n",
        "    \"\"\"\n",
        "    A generator that yields the squares of numbers from 1 to n.\n",
        "    \"\"\"\n",
        "    for i in range(1, n + 1):\n",
        "        yield i ** 2\n",
        "\n",
        "# Example usage\n",
        "n = 5  # You can change this value to any positive integer\n",
        "for square in generate_squares(n):\n",
        "    print(square)\n"
      ],
      "metadata": {
        "colab": {
          "base_uri": "https://localhost:8080/"
        },
        "id": "OsT8NFC3V-x3",
        "outputId": "c2abdf32-576f-44cb-dd8c-a2bda85846f4"
      },
      "execution_count": 3,
      "outputs": [
        {
          "output_type": "stream",
          "name": "stdout",
          "text": [
            "1\n",
            "4\n",
            "9\n",
            "16\n",
            "25\n"
          ]
        }
      ]
    },
    {
      "cell_type": "code",
      "source": [
        "#7: Write a code that generates palindromic numbers up to n using a generator\n",
        "\n",
        "def generate_palindromes(n):\n",
        "    \"\"\"\n",
        "    A generator that yields palindromic numbers up to n.\n",
        "    \"\"\"\n",
        "    for num in range(1, n + 1):\n",
        "        if str(num) == str(num)[::-1]:  # Check if the number is a palindrome\n",
        "            yield num\n",
        "\n",
        "# Example usage\n",
        "n = 100  # You can change this value to set the upper limit\n",
        "for palindrome in generate_palindromes(n):\n",
        "    print(palindrome)\n"
      ],
      "metadata": {
        "colab": {
          "base_uri": "https://localhost:8080/"
        },
        "id": "i6-59IfFWQh8",
        "outputId": "7757d4cf-43ae-46f9-ac19-45001997680d"
      },
      "execution_count": 4,
      "outputs": [
        {
          "output_type": "stream",
          "name": "stdout",
          "text": [
            "1\n",
            "2\n",
            "3\n",
            "4\n",
            "5\n",
            "6\n",
            "7\n",
            "8\n",
            "9\n",
            "11\n",
            "22\n",
            "33\n",
            "44\n",
            "55\n",
            "66\n",
            "77\n",
            "88\n",
            "99\n"
          ]
        }
      ]
    },
    {
      "cell_type": "code",
      "source": [
        "#8: Write a code that generates even numbers from 2 to n using a generator\n",
        "\n",
        "def generate_evens(n):\n",
        "    \"\"\"\n",
        "    A generator that yields even numbers from 2 to n.\n",
        "    \"\"\"\n",
        "    for num in range(2, n + 1, 2):  # Start at 2, step by 2\n",
        "        yield num\n",
        "\n",
        "# Example usage\n",
        "n = 20  # You can change this to any positive integer\n",
        "for even in generate_evens(n):\n",
        "    print(even)\n"
      ],
      "metadata": {
        "colab": {
          "base_uri": "https://localhost:8080/"
        },
        "id": "zHoVwXMqWZgT",
        "outputId": "b89f19c3-d054-4148-86b8-1bc97bfcf581"
      },
      "execution_count": 5,
      "outputs": [
        {
          "output_type": "stream",
          "name": "stdout",
          "text": [
            "2\n",
            "4\n",
            "6\n",
            "8\n",
            "10\n",
            "12\n",
            "14\n",
            "16\n",
            "18\n",
            "20\n"
          ]
        }
      ]
    },
    {
      "cell_type": "code",
      "source": [
        "#9: Write a code that generates powers of two up to n using a generator\n",
        "\n",
        "def generate_powers_of_two(n):\n",
        "    \"\"\"\n",
        "    A generator that yields powers of two up to n.\n",
        "    \"\"\"\n",
        "    power = 1\n",
        "    while power <= n:\n",
        "        yield power\n",
        "        power *= 2  # Multiply by 2 to get the next power of two\n",
        "\n",
        "# Example usage\n",
        "n = 100  # You can change this to any positive integer\n",
        "for power in generate_powers_of_two(n):\n",
        "    print(power)\n"
      ],
      "metadata": {
        "colab": {
          "base_uri": "https://localhost:8080/"
        },
        "id": "9yC4NA6qWjYG",
        "outputId": "40e5f8fc-45bf-4d96-9ed5-d2a497ad4b73"
      },
      "execution_count": 6,
      "outputs": [
        {
          "output_type": "stream",
          "name": "stdout",
          "text": [
            "1\n",
            "2\n",
            "4\n",
            "8\n",
            "16\n",
            "32\n",
            "64\n"
          ]
        }
      ]
    },
    {
      "cell_type": "code",
      "source": [
        "#10: Write a code that generates prime numbers up to n using a generator\n",
        "\n",
        "def is_prime(num):\n",
        "    \"\"\"Helper function to check if a number is prime.\"\"\"\n",
        "    if num < 2:\n",
        "        return False\n",
        "    for i in range(2, int(num ** 0.5) + 1):\n",
        "        if num % i == 0:\n",
        "            return False\n",
        "    return True\n",
        "\n",
        "def generate_primes(n):\n",
        "    \"\"\"A generator that yields prime numbers up to n.\"\"\"\n",
        "    for num in range(2, n + 1):\n",
        "        if is_prime(num):\n",
        "            yield num\n",
        "\n",
        "# Example usage\n",
        "n = 30  # You can change this to any positive integer\n",
        "for prime in generate_primes(n):\n",
        "    print(prime)\n"
      ],
      "metadata": {
        "colab": {
          "base_uri": "https://localhost:8080/"
        },
        "id": "kDS6WpuEWrn2",
        "outputId": "fc92ac8e-ed11-4a9f-b673-ebad9456b681"
      },
      "execution_count": 7,
      "outputs": [
        {
          "output_type": "stream",
          "name": "stdout",
          "text": [
            "2\n",
            "3\n",
            "5\n",
            "7\n",
            "11\n",
            "13\n",
            "17\n",
            "19\n",
            "23\n",
            "29\n"
          ]
        }
      ]
    },
    {
      "cell_type": "code",
      "source": [
        "#11: Write a code that uses a lambda function to calculate the sum of two numbers\n",
        "\n",
        "# Lambda function to calculate the sum of two numbers\n",
        "sum_numbers = lambda x, y: x + y\n",
        "\n",
        "# Example usage\n",
        "result = sum_numbers(5, 3)\n",
        "print(\"The sum is:\", result)\n"
      ],
      "metadata": {
        "colab": {
          "base_uri": "https://localhost:8080/"
        },
        "id": "NgO5mY5dW2-8",
        "outputId": "384d1732-73da-4cdc-94c2-1b5a8b68f199"
      },
      "execution_count": 8,
      "outputs": [
        {
          "output_type": "stream",
          "name": "stdout",
          "text": [
            "The sum is: 8\n"
          ]
        }
      ]
    },
    {
      "cell_type": "code",
      "source": [
        "#12: Write a code that uses a lambda function to calculate the square of a given number\n",
        "\n",
        "# Lambda function to calculate the square of a number\n",
        "square = lambda x: x ** 2\n",
        "\n",
        "# Example usage\n",
        "result = square(5)\n",
        "print(\"The square is:\", result)\n"
      ],
      "metadata": {
        "colab": {
          "base_uri": "https://localhost:8080/"
        },
        "id": "Hnd-s2plW-0n",
        "outputId": "bc1c72be-2bff-4a70-8f79-97817bf3ccd0"
      },
      "execution_count": 9,
      "outputs": [
        {
          "output_type": "stream",
          "name": "stdout",
          "text": [
            "The square is: 25\n"
          ]
        }
      ]
    },
    {
      "cell_type": "code",
      "source": [
        "#13: Write a code that uses a lambda function to check whether a given number is even or odd\n",
        "\n",
        "# Lambda function to check if a number is even or odd\n",
        "even_or_odd = lambda x: \"Even\" if x % 2 == 0 else \"Odd\"\n",
        "\n",
        "# Example usage\n",
        "result = even_or_odd(7)\n",
        "print(f\"The number is {result}\")\n",
        "\n",
        "result = even_or_odd(10)\n",
        "print(f\"The number is {result}\")\n"
      ],
      "metadata": {
        "colab": {
          "base_uri": "https://localhost:8080/"
        },
        "id": "Rb7rI2crXGeZ",
        "outputId": "b554544a-9c36-47f5-d554-e71992b9562b"
      },
      "execution_count": 10,
      "outputs": [
        {
          "output_type": "stream",
          "name": "stdout",
          "text": [
            "The number is Odd\n",
            "The number is Even\n"
          ]
        }
      ]
    },
    {
      "cell_type": "code",
      "source": [
        "#15: Write a code that uses a lambda function to concatenate two strings\n",
        "\n",
        "# Lambda function to concatenate two strings\n",
        "concatenate = lambda str1, str2: str1 + str2\n",
        "\n",
        "# Example usage\n",
        "result = concatenate(\"Hello, \", \"world!\")\n",
        "print(result)\n"
      ],
      "metadata": {
        "colab": {
          "base_uri": "https://localhost:8080/"
        },
        "id": "70rpHUG7XNSU",
        "outputId": "40c40c7d-65b0-4b8e-c259-045d7370a0de"
      },
      "execution_count": 11,
      "outputs": [
        {
          "output_type": "stream",
          "name": "stdout",
          "text": [
            "Hello, world!\n"
          ]
        }
      ]
    },
    {
      "cell_type": "code",
      "source": [
        "#16: Write a code that uses a lambda function to find the maximum of three given numbers\n",
        "\n",
        "# Lambda function to find the maximum of three numbers\n",
        "max_of_three = lambda x, y, z: max(x, y, z)\n",
        "\n",
        "# Example usage\n",
        "result = max_of_three(5, 8, 3)\n",
        "print(f\"The maximum number is {result}\")\n"
      ],
      "metadata": {
        "colab": {
          "base_uri": "https://localhost:8080/"
        },
        "id": "F7DAC517XaUl",
        "outputId": "45963051-c0db-4a51-b30c-8dc3574e8188"
      },
      "execution_count": 12,
      "outputs": [
        {
          "output_type": "stream",
          "name": "stdout",
          "text": [
            "The maximum number is 8\n"
          ]
        }
      ]
    },
    {
      "cell_type": "code",
      "source": [
        "#17: Write a code that generates the squares of even numbers from a given list\n",
        "\n",
        "# Given list of numbers\n",
        "numbers = [1, 2, 3, 4, 5, 6, 7, 8, 9, 10]\n",
        "\n",
        "# List comprehension to generate squares of even numbers\n",
        "even_squares = [num ** 2 for num in numbers if num % 2 == 0]\n",
        "\n",
        "# Output the result\n",
        "print(even_squares)\n"
      ],
      "metadata": {
        "colab": {
          "base_uri": "https://localhost:8080/"
        },
        "id": "_iXPq_1EXi0L",
        "outputId": "aa919040-c2c1-476f-9069-d9aab310a984"
      },
      "execution_count": 13,
      "outputs": [
        {
          "output_type": "stream",
          "name": "stdout",
          "text": [
            "[4, 16, 36, 64, 100]\n"
          ]
        }
      ]
    },
    {
      "cell_type": "code",
      "source": [
        "#18: Write a code that calculates the product of positive numbers from a given list\n",
        "\n",
        "import functools\n",
        "\n",
        "# Given list of numbers\n",
        "numbers = [1, -2, 3, 4, -5, 6, 7]\n",
        "\n",
        "# Filter positive numbers and calculate the product\n",
        "positive_numbers = filter(lambda x: x > 0, numbers)\n",
        "product = functools.reduce(lambda x, y: x * y, positive_numbers, 1)\n",
        "\n",
        "# Output the result\n",
        "print(f\"The product of positive numbers is: {product}\")\n"
      ],
      "metadata": {
        "colab": {
          "base_uri": "https://localhost:8080/"
        },
        "id": "7xB3FY11XnsT",
        "outputId": "a79abd7b-f3f9-4abb-d5da-be3358549e22"
      },
      "execution_count": 14,
      "outputs": [
        {
          "output_type": "stream",
          "name": "stdout",
          "text": [
            "The product of positive numbers is: 504\n"
          ]
        }
      ]
    },
    {
      "cell_type": "code",
      "source": [
        "#19: Write a code that doubles the values of odd numbers from a given list\n",
        "\n",
        "# Given list of numbers\n",
        "numbers = [1, 2, 3, 4, 5, 6, 7, 8, 9]\n",
        "\n",
        "# List comprehension to double the odd numbers\n",
        "doubled_odds = [num * 2 if num % 2 != 0 else num for num in numbers]\n",
        "\n",
        "# Output the result\n",
        "print(doubled_odds)\n"
      ],
      "metadata": {
        "colab": {
          "base_uri": "https://localhost:8080/"
        },
        "id": "KZPMRngKXzbV",
        "outputId": "e76ec3f6-19c5-43d5-d903-a2e375cb96f0"
      },
      "execution_count": 15,
      "outputs": [
        {
          "output_type": "stream",
          "name": "stdout",
          "text": [
            "[2, 2, 6, 4, 10, 6, 14, 8, 18]\n"
          ]
        }
      ]
    },
    {
      "cell_type": "code",
      "source": [
        "#20: Write a code that calculates the sum of cubes of numbers from a given list\n",
        "\n",
        "# Given list of numbers\n",
        "numbers = [1, 2, 3, 4, 5]\n",
        "\n",
        "# Calculate the sum of cubes using a generator expression\n",
        "sum_of_cubes = sum(num ** 3 for num in numbers)\n",
        "\n",
        "# Output the result\n",
        "print(f\"The sum of cubes is: {sum_of_cubes}\")\n"
      ],
      "metadata": {
        "colab": {
          "base_uri": "https://localhost:8080/"
        },
        "id": "u_vgTF4LX4TF",
        "outputId": "e1de670b-6015-4586-d5d9-0816b43cb54b"
      },
      "execution_count": 16,
      "outputs": [
        {
          "output_type": "stream",
          "name": "stdout",
          "text": [
            "The sum of cubes is: 225\n"
          ]
        }
      ]
    },
    {
      "cell_type": "code",
      "source": [
        "#21: Write a code that filters out prime numbers from a given list\n",
        "\n",
        "def is_prime(num):\n",
        "    \"\"\"Helper function to check if a number is prime.\"\"\"\n",
        "    if num < 2:\n",
        "        return False\n",
        "    for i in range(2, int(num ** 0.5) + 1):\n",
        "        if num % i == 0:\n",
        "            return False\n",
        "    return True\n",
        "\n",
        "# Given list of numbers\n",
        "numbers = [1, 2, 3, 4, 5, 6, 7, 8, 9, 10, 11, 13, 15]\n",
        "\n",
        "# Filter out prime numbers\n",
        "non_primes = [num for num in numbers if not is_prime(num)]\n",
        "\n",
        "# Output the result\n",
        "print(f\"Non-prime numbers: {non_primes}\")\n"
      ],
      "metadata": {
        "colab": {
          "base_uri": "https://localhost:8080/"
        },
        "id": "B0c6QGdPYDFw",
        "outputId": "9362fd33-f45e-47cd-8529-0d1c9d42bcc2"
      },
      "execution_count": 17,
      "outputs": [
        {
          "output_type": "stream",
          "name": "stdout",
          "text": [
            "Non-prime numbers: [1, 4, 6, 8, 9, 10, 15]\n"
          ]
        }
      ]
    },
    {
      "cell_type": "code",
      "source": [
        "#22: Write a code that uses a lambda function to calculate the sum of two numbers\n",
        "\n",
        "# Lambda function to calculate the sum of two numbers\n",
        "sum_numbers = lambda x, y: x + y\n",
        "\n",
        "# Example usage\n",
        "result = sum_numbers(10, 20)\n",
        "print(f\"The sum is: {result}\")\n"
      ],
      "metadata": {
        "colab": {
          "base_uri": "https://localhost:8080/"
        },
        "id": "CebZfRRJYH25",
        "outputId": "659527e7-c9fb-42df-dc79-0db632deeb89"
      },
      "execution_count": 18,
      "outputs": [
        {
          "output_type": "stream",
          "name": "stdout",
          "text": [
            "The sum is: 30\n"
          ]
        }
      ]
    },
    {
      "cell_type": "code",
      "source": [
        "#23: Write a code that uses a lambda function to calculate the square of a given number\n",
        "\n",
        "# Lambda function to calculate the square of a number\n",
        "square = lambda x: x ** 2\n",
        "\n",
        "# Example usage\n",
        "result = square(5)\n",
        "print(f\"The square is: {result}\")\n"
      ],
      "metadata": {
        "colab": {
          "base_uri": "https://localhost:8080/"
        },
        "id": "QEmYsh6nYTy4",
        "outputId": "132aeec0-9a40-43fa-d0ac-78420fba12ed"
      },
      "execution_count": 19,
      "outputs": [
        {
          "output_type": "stream",
          "name": "stdout",
          "text": [
            "The square is: 25\n"
          ]
        }
      ]
    },
    {
      "cell_type": "code",
      "source": [
        "#24: Write a code that uses a lambda function to check whether a given number is even or odd\n",
        "\n",
        "# Lambda function to check if a number is even or odd\n",
        "even_or_odd = lambda x: \"Even\" if x % 2 == 0 else \"Odd\"\n",
        "\n",
        "# Example usage\n",
        "result = even_or_odd(7)\n",
        "print(f\"The number is {result}\")\n",
        "\n",
        "result = even_or_odd(10)\n",
        "print(f\"The number is {result}\")\n",
        "\n"
      ],
      "metadata": {
        "colab": {
          "base_uri": "https://localhost:8080/"
        },
        "id": "pWGRXEMGYYtp",
        "outputId": "e24cb21c-5e85-4bc4-cb41-c2bd73428427"
      },
      "execution_count": 20,
      "outputs": [
        {
          "output_type": "stream",
          "name": "stdout",
          "text": [
            "The number is Odd\n",
            "The number is Even\n"
          ]
        }
      ]
    },
    {
      "cell_type": "code",
      "source": [
        "#25: Write a code that uses a lambda function to concatenate two strings\n",
        "\n",
        "# Lambda function to concatenate two strings\n",
        "concatenate = lambda str1, str2: str1 + str2\n",
        "\n",
        "# Example usage\n",
        "result = concatenate(\"Hello, \", \"world!\")\n",
        "print(result)\n"
      ],
      "metadata": {
        "colab": {
          "base_uri": "https://localhost:8080/"
        },
        "id": "RUA0MNpCYkzR",
        "outputId": "676811a0-17df-405d-be04-1496c043239f"
      },
      "execution_count": 21,
      "outputs": [
        {
          "output_type": "stream",
          "name": "stdout",
          "text": [
            "Hello, world!\n"
          ]
        }
      ]
    },
    {
      "cell_type": "code",
      "source": [
        "#26: Write a code that uses a lambda function to find the maximum of three given numbers\n",
        "\n",
        "# Lambda function to find the maximum of three numbers\n",
        "max_of_three = lambda x, y, z: max(x, y, z)\n",
        "\n",
        "# Example usage\n",
        "result = max_of_three(5, 8, 3)\n",
        "print(f\"The maximum number is: {result}\")\n"
      ],
      "metadata": {
        "colab": {
          "base_uri": "https://localhost:8080/"
        },
        "id": "DKH4jJUSYtJP",
        "outputId": "addbdba2-03a2-4e1b-b7cc-7c3129112b00"
      },
      "execution_count": 22,
      "outputs": [
        {
          "output_type": "stream",
          "name": "stdout",
          "text": [
            "The maximum number is: 8\n"
          ]
        }
      ]
    },
    {
      "cell_type": "code",
      "source": [
        "#27: What is encapsulation in OOP?"
      ],
      "metadata": {
        "id": "ptkc7Lg1Y0tb"
      },
      "execution_count": null,
      "outputs": []
    },
    {
      "cell_type": "markdown",
      "source": [
        "Encapsulation is a mechanism to protect the internal state of an object from external interference and misuse by limiting access to its attributes. It achieves this by providing controlled access through methods, which helps in maintaining the integrity and security of the data."
      ],
      "metadata": {
        "id": "E_LxeRTnY228"
      }
    },
    {
      "cell_type": "code",
      "source": [
        "#28: Explain the use of access modifiers in Python classes?"
      ],
      "metadata": {
        "id": "Z7b0BB5TY-Fp"
      },
      "execution_count": null,
      "outputs": []
    },
    {
      "cell_type": "markdown",
      "source": [
        "a: Encapsulation: Restrict access to an object's internal state to maintain integrity and avoid unwanted modifications.\n",
        "\n",
        "b: Preventing Accidental Access: Using protected or private attributes/methods signals to developers not to access or modify certain parts of the code directly.\n",
        "\n",
        "c: Code Maintenance: Encapsulation makes it easier to change the internal implementation without affecting external code that uses the class."
      ],
      "metadata": {
        "id": "FM23DqgKY_wa"
      }
    },
    {
      "cell_type": "code",
      "source": [
        "#29: What is inheritance in OOP?"
      ],
      "metadata": {
        "id": "hJwU6O92ZWjH"
      },
      "execution_count": null,
      "outputs": []
    },
    {
      "cell_type": "markdown",
      "source": [
        "Inheritance is a fundamental concept in Object-Oriented Programming (OOP) that allows one class to inherit the properties and behaviors (attributes and methods) of another class. This allows for code reusability, where common functionality can be written in a parent class (also known as the base class or superclass) and reused in one or more child classes (also known as derived classes or subclasses).\n",
        "\n",
        "Inheritance helps to establish a relationship between different classes, where the child class can extend or modify the functionality of the parent class while retaining its structure."
      ],
      "metadata": {
        "id": "9qa4jZWTZYDI"
      }
    },
    {
      "cell_type": "code",
      "source": [
        "#30: Define polymorphism in OOP?"
      ],
      "metadata": {
        "id": "DbJJdKsDZiJ6"
      },
      "execution_count": null,
      "outputs": []
    },
    {
      "cell_type": "markdown",
      "source": [
        "Polymorphism is another fundamental concept in Object-Oriented Programming (OOP), which allows objects of different classes to be treated as objects of a common superclass. The word polymorphism means \"many forms,\" and it enables one interface to be used for a general class of actions. The specific action that occurs depends on the type of object that is invoking the method.\n",
        "\n",
        "In simple terms, polymorphism allows methods to do different things based on the object it is acting upon. This is achieved in two primary ways:\n",
        "\n",
        "1: Method Overloading (Compile-time Polymorphism)\n",
        "2: Method Overriding (Runtime Polymorphism)"
      ],
      "metadata": {
        "id": "rtYabwttZkQQ"
      }
    },
    {
      "cell_type": "code",
      "source": [
        "#31: Explain method overriding in Python?"
      ],
      "metadata": {
        "id": "kPwE9CDbZrnK"
      },
      "execution_count": null,
      "outputs": []
    },
    {
      "cell_type": "markdown",
      "source": [
        "Method Overriding (Runtime Polymorphism):\n",
        "\n",
        "Method overriding occurs when a subclass provides a specific implementation of a method that is already defined in its superclass. The method in the subclass overrides the method in the parent class.The method that gets called is determined at runtime, based on the object (either parent or child) that is being referred to."
      ],
      "metadata": {
        "id": "Q9-lE2zlZzEl"
      }
    },
    {
      "cell_type": "code",
      "source": [
        "\"\"\"32: Define a parent class Animal with a method make_sound that prints \"Generic animal sound\". Create a\n",
        "child class Dog inheriting from Animal with a method make_sound that prints \"Woof!\"\"\"\n",
        "\n",
        "# Parent class Animal\n",
        "class Animal:\n",
        "    def make_sound(self):\n",
        "        print(\"Generic animal sound\")\n",
        "\n",
        "# Child class Dog inheriting from Animal\n",
        "class Dog(Animal):\n",
        "    def make_sound(self):  # Overriding the make_sound method\n",
        "        print(\"Woof!\")\n",
        "\n",
        "# Creating an object of Dog\n",
        "dog = Dog()\n",
        "\n",
        "# Calling the make_sound method\n",
        "dog.make_sound()  # Output: Woof!\n"
      ],
      "metadata": {
        "colab": {
          "base_uri": "https://localhost:8080/"
        },
        "id": "gvM2GApFZ4RI",
        "outputId": "ce335f57-baa1-42ce-d13f-b054990a014d"
      },
      "execution_count": 23,
      "outputs": [
        {
          "output_type": "stream",
          "name": "stdout",
          "text": [
            "Woof!\n"
          ]
        }
      ]
    },
    {
      "cell_type": "code",
      "source": [
        "\"\"\"33: Define a method move in the Animal class that prints \"Animal moves\". Override the move method in the\n",
        "Dog class to print \"Dog runs\".\"\"\"\n",
        "\n",
        "# Parent class Animal\n",
        "class Animal:\n",
        "    def make_sound(self):\n",
        "        print(\"Generic animal sound\")\n",
        "\n",
        "    def move(self):\n",
        "        print(\"Animal moves\")  # Default behavior for animals\n",
        "\n",
        "# Child class Dog inheriting from Animal\n",
        "class Dog(Animal):\n",
        "    def make_sound(self):  # Overriding the make_sound method\n",
        "        print(\"Woof!\")\n",
        "\n",
        "    def move(self):  # Overriding the move method\n",
        "        print(\"Dog runs\")\n",
        "\n",
        "# Creating an object of Dog\n",
        "dog = Dog()\n",
        "\n",
        "# Calling the methods\n",
        "dog.move()        # Output: Dog runs\n"
      ],
      "metadata": {
        "colab": {
          "base_uri": "https://localhost:8080/"
        },
        "id": "1gPXE41Varil",
        "outputId": "63aa5d2f-dd27-4560-864a-85542f371cb2"
      },
      "execution_count": 27,
      "outputs": [
        {
          "output_type": "stream",
          "name": "stdout",
          "text": [
            "Dog runs\n"
          ]
        }
      ]
    },
    {
      "cell_type": "code",
      "source": [
        "\"\"\"34:  Create a class Mammal with a method reproduce that prints \"Giving birth to live young.\" Create a class\n",
        "DogMammal inheriting from both Dog and Mammal\"\"\"\n",
        "\n",
        "# Parent class Animal\n",
        "class Animal:\n",
        "    def make_sound(self):\n",
        "        print(\"Generic animal sound\")\n",
        "\n",
        "    def move(self):\n",
        "        print(\"Animal moves\")\n",
        "\n",
        "# Parent class Mammal\n",
        "class Mammal:\n",
        "    def reproduce(self):\n",
        "        print(\"Giving birth to live young.\")\n",
        "\n",
        "# Child class Dog inheriting from Animal\n",
        "class Dog(Animal):\n",
        "    def make_sound(self):\n",
        "        print(\"Woof!\")\n",
        "\n",
        "    def move(self):\n",
        "        print(\"Dog runs\")\n",
        "\n",
        "# Child class DogMammal inheriting from both Dog and Mammal\n",
        "class DogMammal(Dog, Mammal):\n",
        "    pass  # DogMammal inherits methods from both Dog and Mammal\n",
        "\n",
        "# Creating an object of DogMammal\n",
        "dog_mammal = DogMammal()\n",
        "\n",
        "# Calling methods from Dog and Mammal classes\n",
        "dog_mammal.reproduce()   # Output: Giving birth to live young.\n"
      ],
      "metadata": {
        "colab": {
          "base_uri": "https://localhost:8080/"
        },
        "id": "IZ1uhuFla1uR",
        "outputId": "73ab3e1b-1310-43ac-93f0-214ed35ef75c"
      },
      "execution_count": 28,
      "outputs": [
        {
          "output_type": "stream",
          "name": "stdout",
          "text": [
            "Giving birth to live young.\n"
          ]
        }
      ]
    },
    {
      "cell_type": "code",
      "source": [
        "\"\"\"35: Create a class GermanShepherd inheriting from Dog and override the make_sound method to print\n",
        "\"Bark!\"\"\"\n",
        "\n",
        "# Parent class Dog\n",
        "class Dog:\n",
        "    def make_sound(self):\n",
        "        print(\"Woof!\")  # Default sound for a Dog\n",
        "\n",
        "    def move(self):\n",
        "        print(\"Dog runs\")\n",
        "\n",
        "# Child class GermanShepherd inheriting from Dog\n",
        "class GermanShepherd(Dog):\n",
        "    def make_sound(self):  # Overriding the make_sound method\n",
        "        print(\"Bark!\")  # Specific sound for a German Shepherd\n",
        "\n",
        "# Creating an object of GermanShepherd\n",
        "german_shepherd = GermanShepherd()\n",
        "\n",
        "# Calling the make_sound method\n",
        "german_shepherd.make_sound()  # Output: Bark!\n"
      ],
      "metadata": {
        "colab": {
          "base_uri": "https://localhost:8080/"
        },
        "id": "fAxYafLCbb6U",
        "outputId": "00fc1af4-93ba-4708-bd26-3fe214ff2877"
      },
      "execution_count": 29,
      "outputs": [
        {
          "output_type": "stream",
          "name": "stdout",
          "text": [
            "Bark!\n"
          ]
        }
      ]
    },
    {
      "cell_type": "code",
      "source": [
        "#36: Define constructors in both the Animal and Dog classes with different initialization parameters\n",
        "\n",
        "# Parent class Animal\n",
        "class Animal:\n",
        "    def __init__(self, name):\n",
        "        self.name = name  # Animal class constructor initializing name\n",
        "        print(f\"Animal {self.name} created.\")\n",
        "\n",
        "    def make_sound(self):\n",
        "        print(\"Generic animal sound\")\n",
        "\n",
        "# Child class Dog inheriting from Animal\n",
        "class Dog(Animal):\n",
        "    def __init__(self, name, breed):\n",
        "        super().__init__(name)  # Call the constructor of the Animal class\n",
        "        self.breed = breed  # Additional parameter for breed\n",
        "        print(f\"Dog breed: {self.breed}\")\n",
        "\n",
        "    def make_sound(self):\n",
        "        print(\"Woof!\")\n",
        "\n",
        "# Creating an object of Dog\n",
        "dog = Dog(\"Buddy\", \"Golden Retriever\")\n",
        "\n",
        "\n"
      ],
      "metadata": {
        "colab": {
          "base_uri": "https://localhost:8080/"
        },
        "id": "Uj_786kIbo2a",
        "outputId": "22e0015a-51af-4484-af88-c6593eaa2d3d"
      },
      "execution_count": 30,
      "outputs": [
        {
          "output_type": "stream",
          "name": "stdout",
          "text": [
            "Animal Buddy created.\n",
            "Dog breed: Golden Retriever\n"
          ]
        }
      ]
    },
    {
      "cell_type": "code",
      "source": [
        "#37: What is abstraction in Python? How is it implemented"
      ],
      "metadata": {
        "id": "UmD8RDvHb5yz"
      },
      "execution_count": null,
      "outputs": []
    },
    {
      "cell_type": "markdown",
      "source": [
        "Abstraction in Python, as in other object-oriented programming (OOP) languages, refers to the concept of hiding the implementation details and showing only the essential features or functionalities to the user. This helps in reducing complexity and allows the programmer to focus on what an object does, rather than how it does it.\n",
        "\n",
        "Key Points of Abstraction:\n",
        "* Hiding implementation details: The user does not need to know how the internal workings are done, just how to use the object.\n",
        "* Simplifying interaction with complex systems: Users interact with a simplified interface, abstracting away the underlying complexity."
      ],
      "metadata": {
        "id": "QGd4oRL8b7NU"
      }
    },
    {
      "cell_type": "code",
      "source": [
        "#38:  Explain the importance of abstraction in object-oriented programming"
      ],
      "metadata": {
        "id": "Bj-10HBUcCnr"
      },
      "execution_count": null,
      "outputs": []
    },
    {
      "cell_type": "markdown",
      "source": [
        "1. Simplifies Complexity:\n",
        "Abstraction helps in managing the complexity of large software systems by providing a high-level interface for the user while hiding the intricate implementation details.\n",
        "By abstracting away the unnecessary details, programmers and users only interact with the important functionalities and do not have to worry about how things are implemented internally.\n",
        "Example: In a car, you don't need to understand how the engine works to drive it. You only need to know how to use the steering wheel, accelerator, and brakes, which is the abstraction of the car's functionality.\n",
        "\n",
        "2. Improves Code Reusability:\n",
        "With abstraction, once you define an abstract class or an interface with common behaviors, you can reuse these definitions in multiple subclasses or concrete classes.\n",
        "This promotes code reuse and reduces redundancy because the implementation of common features can be shared while allowing specific behaviors to be customized in subclasses.\n",
        "Example: An abstract class Shape might define methods like area() and perimeter(), and different subclasses like Circle, Rectangle, and Triangle would implement these methods based on their specific logic.\n",
        "\n",
        "3. Enhances Flexibility and Maintainability:\n",
        "By decoupling the high-level functionality from the low-level details, abstraction provides greater flexibility in software design.\n",
        "Changes made to the implementation details in a class won't affect other parts of the system that interact with the class via its abstract interface.\n",
        "Example: If you change how data is processed inside a Database class, the parts of the application that use it through an abstract interface (e.g., connect(), query()) will not need to change.\n",
        "\n",
        "4. Encourages Modularity:\n",
        "Abstraction helps in breaking down the system into smaller, more manageable pieces or modules, which makes it easier to understand and test individual components of the system.\n",
        "Each module can be designed independently as long as it adheres to the specified interface or abstract class, leading to better modularity and separation of concerns.\n",
        "Example: A payment processing system might have an abstract class PaymentProcessor with different implementations for CreditCardProcessor, PayPalProcessor, etc. The user interacts with the PaymentProcessor interface, without needing to know the details of each specific processor.\n",
        "\n",
        "5. Improves Code Readability and Clarity:\n",
        "Abstraction makes the code more readable by eliminating unnecessary details that might confuse a developer or user interacting with the class.\n",
        "It allows you to create meaningful names for methods and properties, abstracting away the underlying complexity.\n",
        "Example: A method calculate_salary() in an Employee class hides the complexity of how the salary is calculated and just focuses on the logic that is important to the user.\n",
        "\n",
        "6. Enforces a Clear Contract (Interface):\n",
        "Abstraction helps define clear \"contracts\" between components in the system. The abstract class or interface defines the methods and behavior that a subclass should implement, which ensures that all subclasses provide the same set of functionalities.\n",
        "Example: An abstract class Drawable might define an abstract method draw(), ensuring that any subclass (like Circle, Rectangle, Triangle) provides its own implementation of the draw() method.\n",
        "\n",
        "7. Supports Polymorphism:\n",
        "Abstraction works closely with polymorphism (another core OOP concept), where different classes can define their own implementations of an abstract method but are accessed through the same interface or abstract type.\n",
        "This allows for dynamic method invocation based on the object's actual class, enhancing the flexibility of the code.\n",
        "Example: An abstract method make_sound() in an Animal class can have different implementations in subclasses like Dog (which makes a \"Bark!\" sound) and Cat (which makes a \"Meow!\" sound), but you can call make_sound() on any Animal object without knowing which subclass it belongs to.\n",
        "\n",
        "8. Security and Data Hiding:\n",
        "Abstraction can also be used to hide sensitive data or internal details from the user, making the system more secure by exposing only the necessary information.\n",
        "Example: In a bank application, the internal structure of an Account class (like balance or transaction details) is hidden from the user. Instead, the user interacts with high-level methods like deposit(), withdraw(), or check_balance().\n"
      ],
      "metadata": {
        "id": "OdSQiiG7cJU3"
      }
    },
    {
      "cell_type": "code",
      "source": [
        "#39:  How are abstract methods different from regular methods in Python?"
      ],
      "metadata": {
        "id": "iDzF7fbtcXlT"
      },
      "execution_count": null,
      "outputs": []
    },
    {
      "cell_type": "markdown",
      "source": [
        "**Abstract Methods:**\n",
        "\n",
        "Abstract methods are defined in abstract classes and do not contain any implementation in the base class. They only provide a method signature (i.e., the method name, parameters, etc.).\n",
        "\n",
        "The purpose of an abstract method is to define a contract that must be implemented by subclasses. The subclasses are responsible for providing the actual implementation.\n",
        "\n",
        "Abstract methods cannot be called directly from the abstract class—they must be implemented in a subclass for them to be used.\n",
        "\n",
        "**Regular Methods:**\n",
        "\n",
        "Regular methods can be defined in both abstract and concrete (non-abstract) classes and contain an implementation.\n",
        "\n",
        "These methods can be called directly from instances of the class or its subclasses, provided the method is accessible (based on access modifiers like public, protected, or private)."
      ],
      "metadata": {
        "id": "q4yurYpqcdOX"
      }
    },
    {
      "cell_type": "code",
      "source": [
        "#40: How can you achieve abstraction using interfaces in Python?"
      ],
      "metadata": {
        "id": "FNNm36bicuZs"
      },
      "execution_count": null,
      "outputs": []
    },
    {
      "cell_type": "markdown",
      "source": [
        "In Python, interfaces as a formal concept don't exist in the same way they do in languages like Java or C#. However, abstraction can be achieved using abstract base classes (ABCs), which can act similarly to interfaces by defining method signatures without implementations. This allows you to enforce certain behaviors across classes, achieving abstraction.\n",
        "\n",
        "Here’s how you can achieve abstraction using abstract classes (which serve the role of interfaces in Python) by leveraging the abc module:\n",
        "\n",
        "1. Using Abstract Base Classes (ABCs) as Interfaces:\n",
        "An interface in Python can be simulated by creating an abstract base class with abstract methods that need to be implemented by any subclass.\n",
        "Abstract methods in the base class define a contract or interface that concrete classes must follow.\n",
        "Unlike abstract methods, regular methods in ABCs can have implementations, but if you want a true interface-like behavior (where methods only have signatures and no implementations), you can only define abstract methods.\n",
        "\n",
        "2. Creating an Interface Using ABCs:\n",
        "You can define an abstract base class with abstract methods to specify a common interface that subclasses must implement."
      ],
      "metadata": {
        "id": "MbJOGzHic5eh"
      }
    },
    {
      "cell_type": "code",
      "source": [
        "\"\"\"41: Can you provide an example of how abstraction can be utilized to create a common interface for a group\n",
        "of related classes in Python?\"\"\"\n",
        "\n",
        "\n",
        "from abc import ABC, abstractmethod\n",
        "\n",
        "# Abstract base class acting as an interface\n",
        "class Vehicle(ABC):\n",
        "    @abstractmethod\n",
        "    def start(self):\n",
        "        pass  # No implementation in the base class\n",
        "\n",
        "    @abstractmethod\n",
        "    def stop(self):\n",
        "        pass  # No implementation in the base class\n",
        "\n",
        "# Concrete class for Car\n",
        "class Car(Vehicle):\n",
        "    def start(self):\n",
        "        print(\"Car engine started.\")\n",
        "\n",
        "    def stop(self):\n",
        "        print(\"Car engine stopped.\")\n",
        "\n",
        "# Concrete class for Bike\n",
        "class Bike(Vehicle):\n",
        "    def start(self):\n",
        "        print(\"Bike started.\")\n",
        "\n",
        "    def stop(self):\n",
        "        print(\"Bike stopped.\")\n",
        "\n",
        "# Concrete class for Truck\n",
        "class Truck(Vehicle):\n",
        "    def start(self):\n",
        "        print(\"Truck engine started.\")\n",
        "\n",
        "    def stop(self):\n",
        "        print(\"Truck engine stopped.\")\n",
        "\n",
        "# Instantiate the objects and demonstrate their behavior\n",
        "car = Car()\n",
        "bike = Bike()\n",
        "truck = Truck()\n",
        "\n",
        "vehicles = [car, bike, truck]\n",
        "\n",
        "for vehicle in vehicles:\n",
        "    vehicle.start()\n",
        "    vehicle.stop()\n",
        "    print()  # Print a blank line for separation\n"
      ],
      "metadata": {
        "colab": {
          "base_uri": "https://localhost:8080/"
        },
        "id": "BIuizMobdCXt",
        "outputId": "d15de6b6-adab-4c24-a328-a8f5362f8534"
      },
      "execution_count": 32,
      "outputs": [
        {
          "output_type": "stream",
          "name": "stdout",
          "text": [
            "Car engine started.\n",
            "Car engine stopped.\n",
            "\n",
            "Bike started.\n",
            "Bike stopped.\n",
            "\n",
            "Truck engine started.\n",
            "Truck engine stopped.\n",
            "\n"
          ]
        }
      ]
    },
    {
      "cell_type": "code",
      "source": [
        "#42: How does Python achieve polymorphism through method overriding?\n",
        "\n",
        "# Parent Class\n",
        "class Animal:\n",
        "    def speak(self):\n",
        "        print(\"Animal makes a sound.\")\n",
        "\n",
        "# Child Class Dog\n",
        "class Dog(Animal):\n",
        "    def speak(self):\n",
        "        print(\"Dog barks.\")\n",
        "\n",
        "# Child Class Cat\n",
        "class Cat(Animal):\n",
        "    def speak(self):\n",
        "        print(\"Cat meows.\")\n",
        "\n",
        "# Child Class Cow\n",
        "class Cow(Animal):\n",
        "    def speak(self):\n",
        "        print(\"Cow moos.\")\n",
        "\n",
        "# Instantiate objects of different classes\n",
        "animals = [Dog(), Cat(), Cow()]\n",
        "\n",
        "# Loop through the objects and call the speak() method\n",
        "for animal in animals:\n",
        "    animal.speak()  # The correct speak method is called based on the object type\n"
      ],
      "metadata": {
        "colab": {
          "base_uri": "https://localhost:8080/"
        },
        "id": "IyZl1yIBdkr5",
        "outputId": "edaa034a-8aaa-4d25-9a3d-0e4bfa190dc8"
      },
      "execution_count": 33,
      "outputs": [
        {
          "output_type": "stream",
          "name": "stdout",
          "text": [
            "Dog barks.\n",
            "Cat meows.\n",
            "Cow moos.\n"
          ]
        }
      ]
    },
    {
      "cell_type": "code",
      "source": [
        "#43:  Define a base class with a method and a subclass that overrides the method?\n",
        "\n",
        "# Base Class\n",
        "class Animal:\n",
        "    def describe(self):\n",
        "        print(\"This is a generic animal.\")\n",
        "\n",
        "# Subclass Dog\n",
        "class Dog(Animal):\n",
        "    def describe(self):\n",
        "        print(\"This is a dog. It barks.\")\n",
        "\n",
        "# Subclass Cat\n",
        "class Cat(Animal):\n",
        "    def describe(self):\n",
        "        print(\"This is a cat. It meows.\")\n",
        "\n",
        "# Instantiate objects of each class\n",
        "animal = Animal()\n",
        "dog = Dog()\n",
        "cat = Cat()\n",
        "\n",
        "# Call the describe method on each object\n",
        "animal.describe()  # Output: This is a generic animal.\n",
        "dog.describe()     # Output: This is a dog. It barks.\n",
        "cat.describe()     # Output: This is a cat. It meows.\n"
      ],
      "metadata": {
        "colab": {
          "base_uri": "https://localhost:8080/"
        },
        "id": "7ctgSxGqd1sH",
        "outputId": "c16f8d40-534c-45ff-c0ec-5199b7d35232"
      },
      "execution_count": 34,
      "outputs": [
        {
          "output_type": "stream",
          "name": "stdout",
          "text": [
            "This is a generic animal.\n",
            "This is a dog. It barks.\n",
            "This is a cat. It meows.\n"
          ]
        }
      ]
    },
    {
      "cell_type": "code",
      "source": [
        "#44: Define a base class and multiple subclasses with overridden methods.\n",
        "\n",
        "# Base Class\n",
        "class Vehicle:\n",
        "    def move(self):\n",
        "        print(\"The vehicle is moving.\")\n",
        "\n",
        "# Subclass Car\n",
        "class Car(Vehicle):\n",
        "    def move(self):\n",
        "        print(\"The car is driving on the road.\")\n",
        "\n",
        "# Subclass Bike\n",
        "class Bike(Vehicle):\n",
        "    def move(self):\n",
        "        print(\"The bike is cycling on the path.\")\n",
        "\n",
        "# Subclass Truck\n",
        "class Truck(Vehicle):\n",
        "    def move(self):\n",
        "        print(\"The truck is hauling cargo on the highway.\")\n",
        "\n",
        "# Instantiate objects of each class\n",
        "vehicle = Vehicle()\n",
        "car = Car()\n",
        "bike = Bike()\n",
        "truck = Truck()\n",
        "\n",
        "# Call the move method on each object\n",
        "vehicle.move()  # Output: The vehicle is moving.\n",
        "car.move()      # Output: The car is driving on the road.\n",
        "bike.move()     # Output: The bike is cycling on the path.\n",
        "truck.move()    # Output: The truck is hauling cargo on the highway.\n"
      ],
      "metadata": {
        "colab": {
          "base_uri": "https://localhost:8080/"
        },
        "id": "JN7d-_fLd8S3",
        "outputId": "233df872-34b5-4153-82f4-52c76a51aa51"
      },
      "execution_count": 35,
      "outputs": [
        {
          "output_type": "stream",
          "name": "stdout",
          "text": [
            "The vehicle is moving.\n",
            "The car is driving on the road.\n",
            "The bike is cycling on the path.\n",
            "The truck is hauling cargo on the highway.\n"
          ]
        }
      ]
    },
    {
      "cell_type": "code",
      "source": [
        "#45: How does polymorphism improve code readability and reusability?"
      ],
      "metadata": {
        "id": "tmpJnb-teMBw"
      },
      "execution_count": null,
      "outputs": []
    },
    {
      "cell_type": "markdown",
      "source": [
        "**Improved Readability:**\n",
        "\n",
        "Allows the use of a common method interface across different object types.\n",
        "Makes code simpler by calling the same method on various objects without worrying about the specific class.\n",
        "\n",
        "**Increased Reusability:**\n",
        "\n",
        "Generalizes code to work with multiple subclasses.\n",
        "Enables reuse of functions/methods across different classes that implement the same method signature.\n",
        "\n",
        "**Simplified Maintenance and Extension:**\n",
        "\n",
        "New subclasses can be added without modifying existing code.\n",
        "Allows easy extension by just adding new classes that adhere to the common interface.\n",
        "\n",
        "**Cleaner and More Modular Code:**\n",
        "\n",
        "Promotes object-oriented design with modular, abstract code that focuses on behavior rather than specific implementation details.\n",
        "Encourages decoupling, making it easier to modify or extend functionality.\n",
        "In summary, polymorphism makes code more readable, reusable, maintainable, and adaptable to future changes."
      ],
      "metadata": {
        "id": "Fk6ymZWHeO_E"
      }
    },
    {
      "cell_type": "code",
      "source": [
        "#46:  Describe how Python supports polymorphism with duck typing."
      ],
      "metadata": {
        "id": "G3MmVeA_erJ3"
      },
      "execution_count": null,
      "outputs": []
    },
    {
      "cell_type": "markdown",
      "source": [
        "With duck typing, polymorphism is achieved without needing a shared interface or superclass. Objects from different classes can be used interchangeably as long as they implement the necessary methods or attributes. Python doesn't enforce a strict type hierarchy, so as long as an object supports the operations you need, it can be treated as the correct type for that context."
      ],
      "metadata": {
        "id": "IbxiIJyTe3fh"
      }
    },
    {
      "cell_type": "code",
      "source": [
        "#47: How do you achieve encapsulation in Python?"
      ],
      "metadata": {
        "id": "vg5sMNJae_mC"
      },
      "execution_count": null,
      "outputs": []
    },
    {
      "cell_type": "markdown",
      "source": [
        "**Public Attributes & Methods (Default):**\n",
        "\n",
        "All attributes and methods are accessible from outside the class by default.\n",
        "\n",
        "**Private Attributes & Methods:**\n",
        "\n",
        "Use __ (double underscore) to make attributes and methods private.\n",
        "Example: self.__attribute\n",
        "\n",
        "**Access via Getter/Setter Methods:**\n",
        "\n",
        "Define public methods to access or modify private attributes.\n",
        "Example: get_attribute(), set_attribute(value)\n",
        "Property\n",
        "\n",
        "**Decorators:**\n",
        "\n",
        "Use @property for getter methods and @property_name.setter for setter methods.\n",
        "\n",
        "**Name Mangling:**\n",
        "\n",
        "Python uses name mangling (e.g., self.__attribute becomes self._ClassName__attribute), but accessing this directly is discouraged.\n",
        "Benefits:\n",
        "\n",
        "**Data hiding: **\n",
        "\n",
        "Limits direct access to internal data.\n",
        "Security: Allows controlled access through methods.\n",
        "Modularity: Changes to internal data won’t affect external code."
      ],
      "metadata": {
        "id": "oH_0il8bfXhL"
      }
    },
    {
      "cell_type": "code",
      "source": [
        "#48: Can encapsulation be bypassed in Python? If so, how?"
      ],
      "metadata": {
        "id": "rxP7kHmnfzoS"
      },
      "execution_count": null,
      "outputs": []
    },
    {
      "cell_type": "markdown",
      "source": [
        "Encapsulation can be bypassed in Python. Here's how:\n",
        "\n",
        "**Name Mangling:**\n",
        "\n",
        "Private attributes (with __ prefix) can be accessed using the mangled name.\n",
        "Example: obj._ClassName__attribute\n",
        "\n",
        "**Using getattr and setattr:**\n",
        "\n",
        "You can access or modify private attributes dynamically.\n",
        "\n",
        "**Subclass Access:**\n",
        "\n",
        "In subclasses, private attributes can be accessed using the mangled names.\n",
        "\n",
        "**Bypassing Property Methods:**\n",
        "\n",
        "If encapsulation uses @property, it can be bypassed by directly modifying the private attribute using setattr()."
      ],
      "metadata": {
        "id": "YfRvgGesf_4o"
      }
    },
    {
      "cell_type": "code",
      "source": [
        "\"\"\"49: Implement a class BankAccount with a private balance attribute. Include methods to deposit, withdraw,\n",
        "and check the balance\"\"\"\n",
        "\n",
        "class BankAccount:\n",
        "    def __init__(self, initial_balance=0):\n",
        "        self.__balance = initial_balance  # Private attribute\n",
        "\n",
        "    # Method to deposit money\n",
        "    def deposit(self, amount):\n",
        "        if amount > 0:\n",
        "            self.__balance += amount\n",
        "            print(f\"Deposited {amount}. New balance: {self.__balance}\")\n",
        "        else:\n",
        "            print(\"Deposit amount must be positive.\")\n",
        "\n",
        "    # Method to withdraw money\n",
        "    def withdraw(self, amount):\n",
        "        if amount > 0 and amount <= self.__balance:\n",
        "            self.__balance -= amount\n",
        "            print(f\"Withdrew {amount}. New balance: {self.__balance}\")\n",
        "        else:\n",
        "            print(\"Invalid withdrawal amount or insufficient funds.\")\n",
        "\n",
        "    # Method to check the balance\n",
        "    def check_balance(self):\n",
        "        return self.__balance\n",
        "\n",
        "# Usage example\n",
        "account = BankAccount(100)  # Initial balance is 100\n",
        "account.deposit(50)         # Deposit 50\n",
        "account.withdraw(30)        # Withdraw 30\n",
        "print(\"Current balance:\", account.check_balance())  # Check balance\n"
      ],
      "metadata": {
        "colab": {
          "base_uri": "https://localhost:8080/"
        },
        "id": "G1QjPy3dgLup",
        "outputId": "54822579-5899-463a-a9e2-c8b5b81264be"
      },
      "execution_count": 36,
      "outputs": [
        {
          "output_type": "stream",
          "name": "stdout",
          "text": [
            "Deposited 50. New balance: 150\n",
            "Withdrew 30. New balance: 120\n",
            "Current balance: 120\n"
          ]
        }
      ]
    },
    {
      "cell_type": "code",
      "source": [
        "#50: Develop a Person class with private attributes name and email, and methods to set and get the email\n",
        "\n",
        "class Person:\n",
        "    def __init__(self, name, email):\n",
        "        self.__name = name  # Private attribute for name\n",
        "        self.__email = email  # Private attribute for email\n",
        "\n",
        "    # Getter method for email\n",
        "    def get_email(self):\n",
        "        return self.__email\n",
        "\n",
        "    # Setter method for email\n",
        "    def set_email(self, email):\n",
        "        if \"@\" in email:  # Basic validation for email format\n",
        "            self.__email = email\n",
        "            print(f\"Email updated to: {self.__email}\")\n",
        "        else:\n",
        "            print(\"Invalid email format.\")\n",
        "\n",
        "    # Optional: Getter for name, if needed\n",
        "    def get_name(self):\n",
        "        return self.__name\n",
        "\n",
        "# Usage example\n",
        "person = Person(\"John Doe\", \"john.doe@example.com\")\n",
        "\n",
        "# Getting the email\n",
        "print(person.get_email())  # Output: john.doe@example.com\n",
        "\n",
        "# Setting a new email\n",
        "person.set_email(\"new.email@example.com\")  # Output: Email updated to: new.email@example.com\n",
        "\n",
        "# Trying to set an invalid email\n",
        "person.set_email(\"invalid-email\")  # Output: Invalid email format.\n",
        "\n",
        "# Getting name (optional)\n",
        "print(person.get_name())  # Output: John Doe\n"
      ],
      "metadata": {
        "colab": {
          "base_uri": "https://localhost:8080/"
        },
        "id": "F4ibVDw1gg2c",
        "outputId": "7eab9fde-6b46-442a-a56c-eabf87f93729"
      },
      "execution_count": 37,
      "outputs": [
        {
          "output_type": "stream",
          "name": "stdout",
          "text": [
            "john.doe@example.com\n",
            "Email updated to: new.email@example.com\n",
            "Invalid email format.\n",
            "John Doe\n"
          ]
        }
      ]
    },
    {
      "cell_type": "code",
      "source": [
        "#51: Why is encapsulation considered a pillar of object-oriented programming (OOP)?"
      ],
      "metadata": {
        "id": "cJ9tm6SmgtPG"
      },
      "execution_count": null,
      "outputs": []
    },
    {
      "cell_type": "markdown",
      "source": [
        "Encapsulation is considered a pillar of Object-Oriented Programming (OOP) for several important reasons:\n",
        "\n",
        "1. Data Hiding\n",
        "Encapsulation allows the internal state of an object to be hidden from the outside world, exposing only necessary parts through well-defined methods (getters and setters).\n",
        "This helps prevent unauthorized access and modification of an object's internal data, protecting the integrity of the object.\n",
        "\n",
        "2. Improved Modularity\n",
        "By encapsulating data and behavior within objects, code is organized into distinct modules. Each class manages its own data and behavior, making the system easier to manage and maintain.\n",
        "This separation allows developers to focus on specific parts of the code without worrying about unrelated sections.\n",
        "\n",
        "3. Control Over Data\n",
        "Encapsulation provides the ability to control how data is accessed or modified. For instance, with getter and setter methods, you can validate data before it is set or processed, ensuring that the object remains in a valid state.\n",
        "This provides more flexibility in managing an object's behavior.\n",
        "\n",
        "4. Reduced Complexity\n",
        "By hiding the complex internal workings of an object and only exposing essential functionality, encapsulation helps reduce the complexity of the system from the outside perspective.\n",
        "Users of the object interact with a simple interface, without needing to understand the details of how the object performs its tasks.\n",
        "\n",
        "5. Code Flexibility and Maintenance\n",
        "Encapsulation enables changes to the internal implementation without affecting the external code. For example, you can change how data is stored internally without changing how other parts of the program interact with the object (as long as the public interface remains the same).\n",
        "This makes maintaining and evolving the codebase easier, as changes to internal logic don’t break the external usage.\n",
        "\n",
        "6. Improved Security\n",
        "By restricting access to internal data, encapsulation reduces the risk of accidental or malicious interference with the object’s state. Only authorized methods can modify the data, enhancing the security of the program.\n",
        "\n",
        "7. Reusability\n",
        "Encapsulated objects are self-contained, making them easier to reuse in different contexts or projects. Since the internal workings are hidden, the object can be treated as a black box and reused wherever needed without concern for how it is implemented."
      ],
      "metadata": {
        "id": "u4EGNzS1guy2"
      }
    },
    {
      "cell_type": "code",
      "source": [
        "\"\"\"52: Create a decorator in Python that adds functionality to a simple function by printing a message before\n",
        "and after the function execution\"\"\"\n",
        "\n",
        "# Define the decorator\n",
        "def print_messages(func):\n",
        "    def wrapper(*args, **kwargs):\n",
        "        print(\"Before function execution.\")\n",
        "        result = func(*args, **kwargs)  # Call the original function\n",
        "        print(\"After function execution.\")\n",
        "        return result\n",
        "    return wrapper\n",
        "\n",
        "# Apply the decorator to a simple function\n",
        "@print_messages\n",
        "def simple_function():\n",
        "    print(\"Function is running...\")\n",
        "\n",
        "# Call the function\n",
        "simple_function()\n"
      ],
      "metadata": {
        "colab": {
          "base_uri": "https://localhost:8080/"
        },
        "id": "tjy8VKG1g3u5",
        "outputId": "77205332-b05d-47ba-853a-0d5879ba57dc"
      },
      "execution_count": 38,
      "outputs": [
        {
          "output_type": "stream",
          "name": "stdout",
          "text": [
            "Before function execution.\n",
            "Function is running...\n",
            "After function execution.\n"
          ]
        }
      ]
    },
    {
      "cell_type": "code",
      "source": [
        "#53: Modify the decorator to accept arguments and print the function name along with the message\n",
        "\n",
        "# Define the decorator that accepts arguments\n",
        "def print_messages(func):\n",
        "    def wrapper(*args, **kwargs):\n",
        "        # Get the name of the function\n",
        "        func_name = func.__name__\n",
        "\n",
        "        print(f\"Before executing {func_name}.\")\n",
        "        result = func(*args, **kwargs)  # Call the original function\n",
        "        print(f\"After executing {func_name}.\")\n",
        "        return result\n",
        "    return wrapper\n",
        "\n",
        "# Apply the decorator to a simple function\n",
        "@print_messages\n",
        "def simple_function():\n",
        "    print(\"Function is running...\")\n",
        "\n",
        "# Apply the decorator to another function\n",
        "@print_messages\n",
        "def greet(name):\n",
        "    print(f\"Hello, {name}!\")\n",
        "\n",
        "# Call the functions\n",
        "simple_function()\n",
        "print()  # For spacing\n",
        "greet(\"Alice\")\n"
      ],
      "metadata": {
        "colab": {
          "base_uri": "https://localhost:8080/"
        },
        "id": "gx28YYEvhDvr",
        "outputId": "4cb802b9-51e1-42c3-a882-a57d4dfd127b"
      },
      "execution_count": 39,
      "outputs": [
        {
          "output_type": "stream",
          "name": "stdout",
          "text": [
            "Before executing simple_function.\n",
            "Function is running...\n",
            "After executing simple_function.\n",
            "\n",
            "Before executing greet.\n",
            "Hello, Alice!\n",
            "After executing greet.\n"
          ]
        }
      ]
    },
    {
      "cell_type": "code",
      "source": [
        "\"\"\"54: Create two decorators, and apply them to a single function. Ensure that they execute in the order they are\n",
        "applied?\"\"\"\n",
        "\n",
        "# Define the first decorator\n",
        "def decorator_one(func):\n",
        "    def wrapper(*args, **kwargs):\n",
        "        print(\"Executing decorator_one before function call.\")\n",
        "        result = func(*args, **kwargs)  # Call the original function\n",
        "        print(\"Executing decorator_one after function call.\")\n",
        "        return result\n",
        "    return wrapper\n",
        "\n",
        "# Define the second decorator\n",
        "def decorator_two(func):\n",
        "    def wrapper(*args, **kwargs):\n",
        "        print(\"Executing decorator_two before function call.\")\n",
        "        result = func(*args, **kwargs)  # Call the original function\n",
        "        print(\"Executing decorator_two after function call.\")\n",
        "        return result\n",
        "    return wrapper\n",
        "\n",
        "# Apply both decorators to the same function\n",
        "@decorator_one\n",
        "@decorator_two\n",
        "def my_function():\n",
        "    print(\"Function is running...\")\n",
        "\n",
        "# Call the function\n",
        "my_function()\n"
      ],
      "metadata": {
        "colab": {
          "base_uri": "https://localhost:8080/"
        },
        "id": "csEU81CKhOjR",
        "outputId": "7667c5c7-f822-4cab-a7f0-a6ebeabf81c4"
      },
      "execution_count": 40,
      "outputs": [
        {
          "output_type": "stream",
          "name": "stdout",
          "text": [
            "Executing decorator_one before function call.\n",
            "Executing decorator_two before function call.\n",
            "Function is running...\n",
            "Executing decorator_two after function call.\n",
            "Executing decorator_one after function call.\n"
          ]
        }
      ]
    },
    {
      "cell_type": "code",
      "source": [
        "#55: Modify the decorator to accept and pass function arguments to the wrapped function\n",
        "\n",
        "# Define the first decorator that accepts arguments and passes them\n",
        "def decorator_one(func):\n",
        "    def wrapper(*args, **kwargs):\n",
        "        print(\"Executing decorator_one before function call.\")\n",
        "        result = func(*args, **kwargs)  # Pass the arguments to the original function\n",
        "        print(\"Executing decorator_one after function call.\")\n",
        "        return result\n",
        "    return wrapper\n",
        "\n",
        "# Define the second decorator that accepts arguments and passes them\n",
        "def decorator_two(func):\n",
        "    def wrapper(*args, **kwargs):\n",
        "        print(\"Executing decorator_two before function call.\")\n",
        "        result = func(*args, **kwargs)  # Pass the arguments to the original function\n",
        "        print(\"Executing decorator_two after function call.\")\n",
        "        return result\n",
        "    return wrapper\n",
        "\n",
        "# Apply both decorators to the same function\n",
        "@decorator_one\n",
        "@decorator_two\n",
        "def my_function(x, y):\n",
        "    print(f\"Function is running with arguments: {x} and {y}\")\n",
        "\n",
        "# Call the function with arguments\n",
        "my_function(5, 10)\n"
      ],
      "metadata": {
        "colab": {
          "base_uri": "https://localhost:8080/"
        },
        "id": "qWQKRxqvhn6W",
        "outputId": "ad1ca077-b614-4350-aee6-45bd96fb2ff1"
      },
      "execution_count": 41,
      "outputs": [
        {
          "output_type": "stream",
          "name": "stdout",
          "text": [
            "Executing decorator_one before function call.\n",
            "Executing decorator_two before function call.\n",
            "Function is running with arguments: 5 and 10\n",
            "Executing decorator_two after function call.\n",
            "Executing decorator_one after function call.\n"
          ]
        }
      ]
    },
    {
      "cell_type": "code",
      "source": [
        "#56: Create a decorator that preserves the metadata of the original function.\n",
        "\n",
        "import functools\n",
        "\n",
        "# Define a decorator that preserves metadata\n",
        "def preserve_metadata(func):\n",
        "    @functools.wraps(func)  # Preserve the original function's metadata\n",
        "    def wrapper(*args, **kwargs):\n",
        "        print(f\"Executing {func.__name__} with arguments: {args}, {kwargs}\")\n",
        "        result = func(*args, **kwargs)  # Call the original function\n",
        "        return result\n",
        "    return wrapper\n",
        "\n",
        "# Apply the decorator to a function\n",
        "@preserve_metadata\n",
        "def my_function(x, y):\n",
        "    \"\"\"This is the original function's docstring.\"\"\"\n",
        "    print(f\"Function is running with {x} and {y}\")\n",
        "\n",
        "# Call the function\n",
        "my_function(5, 10)\n",
        "\n",
        "# Access metadata\n",
        "print(f\"Function Name: {my_function.__name__}\")\n",
        "print(f\"Docstring: {my_function.__doc__}\")\n"
      ],
      "metadata": {
        "colab": {
          "base_uri": "https://localhost:8080/"
        },
        "id": "7ZFPKsOrh0MC",
        "outputId": "d11e1f52-2931-4ebc-c50f-cc6f18910475"
      },
      "execution_count": 42,
      "outputs": [
        {
          "output_type": "stream",
          "name": "stdout",
          "text": [
            "Executing my_function with arguments: (5, 10), {}\n",
            "Function is running with 5 and 10\n",
            "Function Name: my_function\n",
            "Docstring: This is the original function's docstring.\n"
          ]
        }
      ]
    },
    {
      "cell_type": "code",
      "source": [
        "\"\"\"57: Create a Python class `Calculator` with a static method `add` that takes in two numbers and returns their\n",
        "sum\"\"\"\n",
        "\n",
        "class Calculator:\n",
        "    # Static method to add two numbers\n",
        "    @staticmethod\n",
        "    def add(x, y):\n",
        "        return x + y\n",
        "\n",
        "# Usage example\n",
        "result = Calculator.add(5, 10)  # Call the static method without creating an instance\n",
        "print(\"Sum:\", result)  # Output: Sum: 15\n"
      ],
      "metadata": {
        "colab": {
          "base_uri": "https://localhost:8080/"
        },
        "id": "39SMmuNTh-jV",
        "outputId": "01cd3a94-bc2d-46e6-8537-ce2402b93843"
      },
      "execution_count": 43,
      "outputs": [
        {
          "output_type": "stream",
          "name": "stdout",
          "text": [
            "Sum: 15\n"
          ]
        }
      ]
    },
    {
      "cell_type": "code",
      "source": [
        "\"\"\"58:  Create a Python class `Employee` with a class `method get_employee_count` that returns the total\n",
        "number of employees created?\"\"\"\n",
        "\n",
        "class Employee:\n",
        "    # Class variable to keep track of the number of employees\n",
        "    employee_count = 0\n",
        "\n",
        "    def __init__(self, name, position):\n",
        "        self.name = name\n",
        "        self.position = position\n",
        "        Employee.employee_count += 1  # Increment the employee count each time a new employee is created\n",
        "\n",
        "    # Class method to get the total number of employees\n",
        "    @classmethod\n",
        "    def get_employee_count(cls):\n",
        "        return cls.employee_count\n",
        "\n",
        "# Usage example\n",
        "emp1 = Employee(\"Alice\", \"Manager\")\n",
        "emp2 = Employee(\"Bob\", \"Developer\")\n",
        "emp3 = Employee(\"Charlie\", \"Designer\")\n",
        "\n",
        "# Get the total number of employees\n",
        "print(\"Total number of employees:\", Employee.get_employee_count())  # Output: Total number of employees: 3\n"
      ],
      "metadata": {
        "colab": {
          "base_uri": "https://localhost:8080/"
        },
        "id": "WJWzn-P1iOBB",
        "outputId": "67cec831-2c8c-43ed-d3c3-b19e58bd51c0"
      },
      "execution_count": 44,
      "outputs": [
        {
          "output_type": "stream",
          "name": "stdout",
          "text": [
            "Total number of employees: 3\n"
          ]
        }
      ]
    },
    {
      "cell_type": "code",
      "source": [
        "\"\"\"59: Create a Python class `StringFormatter` with a static method `reverse_string` that takes a string as input\n",
        "and returns its reverse\"\"\"\n",
        "\n",
        "class StringFormatter:\n",
        "    # Static method to reverse a string\n",
        "    @staticmethod\n",
        "    def reverse_string(input_string):\n",
        "        return input_string[::-1]\n",
        "\n",
        "# Usage example\n",
        "reversed_string = StringFormatter.reverse_string(\"hello\")\n",
        "print(\"Reversed String:\", reversed_string)  # Output: Reversed String: olleh\n"
      ],
      "metadata": {
        "colab": {
          "base_uri": "https://localhost:8080/"
        },
        "id": "Yz46Ym1AibnK",
        "outputId": "5f30396f-a155-4b27-b431-401d7a92d61f"
      },
      "execution_count": 45,
      "outputs": [
        {
          "output_type": "stream",
          "name": "stdout",
          "text": [
            "Reversed String: olleh\n"
          ]
        }
      ]
    },
    {
      "cell_type": "code",
      "source": [
        "\"\"\"60: Create a Python class `Circle` with a class method `calculate_area` that calculates the area of a circle\n",
        "given its radius\"\"\"\n",
        "\n",
        "\n",
        "\n",
        "import math\n",
        "\n",
        "class Circle:\n",
        "    @classmethod\n",
        "    def calculate_area(cls, radius):\n",
        "        \"\"\"Calculates the area of a circle given its radius.\"\"\"\n",
        "        return math.pi * radius ** 2\n",
        "\n",
        "# Example usage\n",
        "radius = 5\n",
        "area = Circle.calculate_area(radius)\n",
        "print(f\"The area of the circle with radius {radius} is {area:.2f}\")\n"
      ],
      "metadata": {
        "colab": {
          "base_uri": "https://localhost:8080/"
        },
        "id": "YAGZxcA0ilRV",
        "outputId": "c687684a-562a-4703-9856-dddf44be542a"
      },
      "execution_count": 46,
      "outputs": [
        {
          "output_type": "stream",
          "name": "stdout",
          "text": [
            "The area of the circle with radius 5 is 78.54\n"
          ]
        }
      ]
    },
    {
      "cell_type": "code",
      "source": [
        "\"\"\"61: Create a Python class `TemperatureConverter` with a static method `celsius_to_fahrenheit` that converts\n",
        "Celsius to Fahrenheit\"\"\"\n",
        "\n",
        "class TemperatureConverter:\n",
        "    @staticmethod\n",
        "    def celsius_to_fahrenheit(celsius):\n",
        "        \"\"\"Converts Celsius to Fahrenheit.\"\"\"\n",
        "        return (celsius * 9/5) + 32\n",
        "\n",
        "# Example usage\n",
        "celsius_temp = 25\n",
        "fahrenheit_temp = TemperatureConverter.celsius_to_fahrenheit(celsius_temp)\n",
        "print(f\"{celsius_temp}°C is equal to {fahrenheit_temp}°F\")\n"
      ],
      "metadata": {
        "colab": {
          "base_uri": "https://localhost:8080/"
        },
        "id": "VTUHqCI_ixWJ",
        "outputId": "5a43283e-66a4-4ca3-f72c-18581d8b496f"
      },
      "execution_count": 47,
      "outputs": [
        {
          "output_type": "stream",
          "name": "stdout",
          "text": [
            "25°C is equal to 77.0°F\n"
          ]
        }
      ]
    },
    {
      "cell_type": "code",
      "source": [
        "#62: What is the purpose of the __str__() method in Python classes? Provide an example?\n",
        "\n",
        "\"\"\"The __str__() method in Python classes is used to define how an object should be represented as a string. This method is called when you use str() on an object or when you print the object using print(). It allows you to customize the string representation of the object to make it more readable or meaningful.\n",
        "\n",
        "By default, if __str__() is not implemented, Python uses the __repr__() method to return a string representation of the object, which is typically less user-friendly.\n",
        "\n",
        "Purpose of __str__():\n",
        "Custom String Representation: It allows you to provide a human-readable string representation of your object.\n",
        "Print Customization: It is used to make your objects more descriptive when printed.\"\"\"\n",
        "\n",
        "\"\"\"EXAMPLE\"\"\"\n",
        "\n",
        "class Person:\n",
        "    def __init__(self, name, age):\n",
        "        self.name = name\n",
        "        self.age = age\n",
        "\n",
        "    def __str__(self):\n",
        "        return f\"Person(Name: {self.name}, Age: {self.age})\"\n",
        "\n",
        "# Example usage\n",
        "person = Person(\"Alice\", 30)\n",
        "print(person)  # This will call the __str__ method\n"
      ],
      "metadata": {
        "colab": {
          "base_uri": "https://localhost:8080/"
        },
        "id": "5DHpOCN8i9am",
        "outputId": "61bc24e0-f289-40fc-beb5-49635b11661d"
      },
      "execution_count": 48,
      "outputs": [
        {
          "output_type": "stream",
          "name": "stdout",
          "text": [
            "Person(Name: Alice, Age: 30)\n"
          ]
        }
      ]
    },
    {
      "cell_type": "code",
      "source": [
        "#63: How does the __len__() method work in Python? Provide an example?\n",
        "\n",
        "\"\"\"The __len__() method in Python is a special method used to define the behavior of the len() function for objects of a custom class. It allows you to specify what \"length\" means for your class, enabling you to use len() on instances of that class.\n",
        "\n",
        "When you call len() on an object, Python internally calls the __len__() method to return the \"length\" of the object. For example, the __len__() method is typically used to return the number of elements in a container-like class, such as a list, string, or dictionary.\n",
        "\n",
        "Purpose of __len__():\n",
        "To allow the use of the len() function on custom objects.\n",
        "To define what \"length\" means for your class, such as the number of items in a collection, the number of characters in a string, etc.\"\"\"\n",
        "\n",
        "\"\"\"EXAMPLE\"\"\"\n",
        "\n",
        "class Book:\n",
        "    def __init__(self, title, pages):\n",
        "        self.title = title\n",
        "        self.pages = pages  # Number of pages in the book\n",
        "\n",
        "    def __len__(self):\n",
        "        return self.pages  # Length is defined as the number of pages in the book\n",
        "\n",
        "# Example usage\n",
        "book = Book(\"Python Programming\", 300)\n",
        "print(len(book))  # This will call the __len__ method\n"
      ],
      "metadata": {
        "colab": {
          "base_uri": "https://localhost:8080/"
        },
        "id": "RjYtJasIjRtY",
        "outputId": "82c8d4f7-e670-4e9d-e12e-cd2ea7260964"
      },
      "execution_count": 49,
      "outputs": [
        {
          "output_type": "stream",
          "name": "stdout",
          "text": [
            "300\n"
          ]
        }
      ]
    },
    {
      "cell_type": "code",
      "source": [
        "#64:  Explain the usage of the __add__() method in Python classes. Provide an example\n",
        "\n",
        "\"\"\"The __add__() method in Python is a special method used to define the behavior of the addition (+) operator for objects of a custom class. When you use the + operator between two objects of a class, Python automatically calls the __add__() method of one of the objects and passes the other object as an argument.\n",
        "\n",
        "This method allows you to customize how objects of your class are added together, such as combining data, performing arithmetic, or merging attributes.\n",
        "\n",
        "Purpose of __add__():\n",
        "To define how the + operator behaves for instances of your class.\n",
        "To support addition operations between objects, allowing you to control the result.\n",
        "Example:\"\"\"\n",
        "\n",
        "class Vector:\n",
        "    def __init__(self, x, y):\n",
        "        self.x = x\n",
        "        self.y = y\n",
        "\n",
        "    def __add__(self, other):\n",
        "        \"\"\"Override the + operator to add two vectors.\"\"\"\n",
        "        return Vector(self.x + other.x, self.y + other.y)\n",
        "\n",
        "    def __str__(self):\n",
        "        return f\"Vector({self.x}, {self.y})\"\n",
        "\n",
        "# Example usage\n",
        "v1 = Vector(2, 3)\n",
        "v2 = Vector(4, 5)\n",
        "\n",
        "result = v1 + v2  # This will call the __add__ method\n",
        "print(result)  # Output: Vector(6, 8)\n"
      ],
      "metadata": {
        "colab": {
          "base_uri": "https://localhost:8080/"
        },
        "id": "OE68WRXIjhAq",
        "outputId": "0ca300b1-d3e5-46a0-b496-03817006cfc5"
      },
      "execution_count": 50,
      "outputs": [
        {
          "output_type": "stream",
          "name": "stdout",
          "text": [
            "Vector(6, 8)\n"
          ]
        }
      ]
    },
    {
      "cell_type": "code",
      "source": [
        "#65: What is the purpose of the __getitem__() method in Python? Provide an example\n",
        "\n",
        "\"\"\"The __getitem__() method in Python is a special method used to define how an object behaves when accessing its elements using square brackets ([]). This method allows objects of a custom class to behave like containers (e.g., lists, dictionaries, tuples) and enables you to access elements from those objects in a similar way to accessing items from built-in collections.\n",
        "\n",
        "Purpose of __getitem__():\n",
        "To allow index-based access to objects (i.e., using obj[index]).\n",
        "To define custom behavior for retrieving elements from your class (e.g., allowing access to a list-like or dictionary-like structure).\n",
        "This method can be used for a variety of purposes, such as working with sequences, mappings, or even more complex data structures.\n",
        "Example:\"\"\"\n",
        "\n",
        "class CustomList:\n",
        "    def __init__(self, data):\n",
        "        self.data = data  # Store data as a list\n",
        "\n",
        "    def __getitem__(self, index):\n",
        "        \"\"\"Override the [] operator to get an element from the list.\"\"\"\n",
        "        return self.data[index]\n",
        "\n",
        "    def __str__(self):\n",
        "        return str(self.data)\n",
        "\n",
        "# Example usage\n",
        "my_list = CustomList([10, 20, 30, 40, 50])\n",
        "\n",
        "print(my_list[2])  # Access the element at index 2, should print 30\n",
        "print(my_list[4])  # Access the element at index 4, should print 50\n"
      ],
      "metadata": {
        "colab": {
          "base_uri": "https://localhost:8080/"
        },
        "id": "bVLjIQhQj1-9",
        "outputId": "fe195308-85d8-4085-bec7-5a492fb83a78"
      },
      "execution_count": 51,
      "outputs": [
        {
          "output_type": "stream",
          "name": "stdout",
          "text": [
            "30\n",
            "50\n"
          ]
        }
      ]
    },
    {
      "cell_type": "code",
      "source": [
        "\"\"\"66: Explain the usage of the __iter__() and __next__() methods in Python. Provide an example using\n",
        "iterators?\n",
        "\n",
        "\n",
        "\n",
        "\n",
        "In Python, the __iter__() and __next__() methods are used to implement iterators, which allow you to iterate over a sequence of elements one at a time. These methods are part of the iterator protocol, which defines how objects should behave when they are used in a loop or with functions like next().\n",
        "\n",
        "Purpose of __iter__() and __next__():\n",
        "__iter__(): This method is responsible for returning an iterator object from an iterable. An iterable is any object that can return an iterator, which allows it to be looped over (e.g., in a for loop). The __iter__() method should return self if the object is both an iterable and an iterator.\n",
        "\n",
        "__next__(): This method defines how to get the next item from the iterator. Each time next() is called, __next__() should return the next item in the sequence. If there are no more items, __next__() should raise a StopIteration exception to signal the end of the iteration.\n",
        "\n",
        "Example:\"\"\"\n",
        "\n",
        "class Countdown:\n",
        "    def __init__(self, start):\n",
        "        self.start = start  # The starting number of the countdown\n",
        "        self.current = start\n",
        "\n",
        "    def __iter__(self):\n",
        "        # The object itself is returned as the iterator\n",
        "        return self\n",
        "\n",
        "    def __next__(self):\n",
        "        # If the current value is greater than 0, return it and decrement\n",
        "        if self.current > 0:\n",
        "            self.current -= 1\n",
        "            return self.current + 1\n",
        "        else:\n",
        "            # If the countdown reaches 0, raise StopIteration to end the iteration\n",
        "            raise StopIteration\n",
        "\n",
        "# Example usage\n",
        "countdown = Countdown(5)\n",
        "\n",
        "# Using a for loop to iterate through the countdown\n",
        "for number in countdown:\n",
        "    print(number)\n"
      ],
      "metadata": {
        "colab": {
          "base_uri": "https://localhost:8080/"
        },
        "id": "57m0TKKYj_RU",
        "outputId": "0db506ae-a314-4887-9710-66d34e2fe04e"
      },
      "execution_count": 52,
      "outputs": [
        {
          "output_type": "stream",
          "name": "stdout",
          "text": [
            "5\n",
            "4\n",
            "3\n",
            "2\n",
            "1\n"
          ]
        }
      ]
    },
    {
      "cell_type": "code",
      "source": [
        "\"\"\"67: What is the purpose of a getter method in Python? Provide an example demonstrating the use of a getter\n",
        "method using property decorators?\n",
        "\n",
        "\n",
        "\n",
        "In Python, a getter method is a method that is used to access the value of a private or protected attribute of a class. The primary purpose of getter methods is to provide controlled access to attributes, allowing you to add logic or validation when getting their values, even though they are accessed as if they were public.\n",
        "\n",
        "In Python, you can use property decorators (@property) to create getter methods that allow you to access attributes in a more natural way, without needing to explicitly call a method. This allows you to access the attribute as if it were a normal instance variable, but with the functionality of a method behind the scenes.\n",
        "\n",
        "Purpose of a Getter Method:\n",
        "Encapsulation: It helps in keeping the data safe from direct access by the outside world.\n",
        "Validation: You can validate or modify the returned value when getting an attribute.\n",
        "Read-only Attributes: You can make an attribute effectively read-only by providing a getter without a corresponding setter.\n",
        "Example Using Property Decorators:\"\"\"\n",
        "\n",
        "class Person:\n",
        "    def __init__(self, name, age):\n",
        "        self.name = name\n",
        "        self._age = age  # _age is a private attribute\n",
        "\n",
        "    @property\n",
        "    def age(self):\n",
        "        \"\"\"Getter method for the age attribute.\"\"\"\n",
        "        return self._age\n",
        "\n",
        "    @age.setter\n",
        "    def age(self, value):\n",
        "        \"\"\"Setter method for the age attribute.\"\"\"\n",
        "        if value < 0:\n",
        "            raise ValueError(\"Age cannot be negative\")\n",
        "        self._age = value\n",
        "\n",
        "# Example usage\n",
        "person = Person(\"Alice\", 30)\n",
        "\n",
        "# Accessing age through the getter method (automatically called)\n",
        "print(person.age)  # Output: 30\n",
        "\n",
        "# Modifying age through the setter method (automatically called)\n",
        "person.age = 35\n",
        "print(person.age)  # Output: 35\n",
        "\n",
        "# Trying to set a negative age raises an exception\n",
        "try:\n",
        "    person.age = -5\n",
        "except ValueError as e:\n",
        "    print(e)  # Output: Age cannot be negative\n"
      ],
      "metadata": {
        "colab": {
          "base_uri": "https://localhost:8080/"
        },
        "id": "xpw7F4Khkirm",
        "outputId": "0524095b-4bd6-4d4e-cbfb-fb8165cf3358"
      },
      "execution_count": 53,
      "outputs": [
        {
          "output_type": "stream",
          "name": "stdout",
          "text": [
            "30\n",
            "35\n",
            "Age cannot be negative\n"
          ]
        }
      ]
    },
    {
      "cell_type": "code",
      "source": [
        "\"\"\"68: Explain the role of setter methods in Python. Demonstrate how to use a setter method to modify a class\n",
        "attribute using property decorators?\n",
        "\n",
        "\n",
        "\n",
        "In Python, setter methods are used to modify the value of a private or protected attribute in a class. They are part of the property mechanism and allow you to control how an attribute is set. Like getter methods, setter methods provide a way to encapsulate access to attributes and enforce validation or other logic when modifying them.\n",
        "\n",
        "Purpose of Setter Methods:\n",
        "Encapsulation: Setter methods help protect the internal state of an object by controlling how attributes are set.\n",
        "Validation: You can add logic to check if the new value is valid before assigning it to the attribute.\n",
        "Read/Write Control: You can make attributes read-only by defining only getter methods, or read-write by defining both getter and setter methods.\n",
        "In Python, setter methods are typically defined using the @property decorator for the getter and the @<property_name>.setter decorator for the setter.\n",
        "\n",
        "Example Using Property Decorators for Setter Methods:\"\"\"\n",
        "\n",
        "class Person:\n",
        "    def __init__(self, name, age):\n",
        "        self.name = name\n",
        "        self._age = age  # Private attribute for age\n",
        "\n",
        "    @property\n",
        "    def age(self):\n",
        "        \"\"\"Getter method for age.\"\"\"\n",
        "        return self._age\n",
        "\n",
        "    @age.setter\n",
        "    def age(self, value):\n",
        "        \"\"\"Setter method for age.\"\"\"\n",
        "        if value < 0:\n",
        "            raise ValueError(\"Age cannot be negative\")\n",
        "        self._age = value\n",
        "\n",
        "# Example usage\n",
        "person = Person(\"Alice\", 30)\n",
        "\n",
        "# Accessing the age using the getter method (automatically called)\n",
        "print(person.age)  # Output: 30\n",
        "\n",
        "# Modifying the age using the setter method (automatically called)\n",
        "person.age = 35\n",
        "print(person.age)  # Output: 35\n",
        "\n",
        "# Trying to set an invalid (negative) age raises an exception\n",
        "try:\n",
        "    person.age = -5\n",
        "except ValueError as e:\n",
        "    print(e)  # Output: Age cannot be negative\n"
      ],
      "metadata": {
        "colab": {
          "base_uri": "https://localhost:8080/"
        },
        "id": "eHmYaMetkzFL",
        "outputId": "f6f29019-71a0-4a9a-dcaf-4ea97e3c77e8"
      },
      "execution_count": 54,
      "outputs": [
        {
          "output_type": "stream",
          "name": "stdout",
          "text": [
            "30\n",
            "35\n",
            "Age cannot be negative\n"
          ]
        }
      ]
    },
    {
      "cell_type": "code",
      "source": [
        "#69: What is the purpose of the @property decorator in Python? Provide an example illustrating its usage?\n",
        "\n",
        "\"\"\"The @property decorator in Python is used to define a getter method for an attribute. It allows you to define a method that behaves like an attribute, so you can access it as if it were a regular instance variable, while still having the ability to execute some logic behind the scenes. This is particularly useful when you want to calculate or process the value of an attribute before returning it, or when you want to prevent direct access to an attribute and encapsulate its logic.\n",
        "\n",
        "Purpose of @property Decorator:\n",
        "Encapsulation: It allows you to hide the internal implementation of an attribute while exposing a clean interface to the outside world.\n",
        "Read-Only Attributes: You can create read-only attributes by defining only a getter with @property, without a setter.\n",
        "Validation: The @property decorator can help you manage how data is accessed and ensure validation without changing the external interface of the object.\n",
        "Computed Properties: You can define attributes whose value is computed dynamically, such as based on other instance variables.\n",
        "How @property Works:\n",
        "When you use @property to decorate a method, it allows that method to be accessed like an attribute. Instead of calling object.method(), you can access it directly as object.method.\n",
        "\n",
        "Example:\"\"\"\n",
        "\n",
        "class Circle:\n",
        "    def __init__(self, radius):\n",
        "        self._radius = radius  # Private attribute\n",
        "\n",
        "    @property\n",
        "    def radius(self):\n",
        "        \"\"\"Getter method for radius.\"\"\"\n",
        "        return self._radius\n",
        "\n",
        "    @property\n",
        "    def area(self):\n",
        "        \"\"\"Computed property for the area of the circle.\"\"\"\n",
        "        return 3.14159 * self._radius ** 2\n",
        "\n",
        "# Example usage\n",
        "circle = Circle(5)\n",
        "\n",
        "# Accessing the radius (getter method)\n",
        "print(f\"Radius: {circle.radius}\")  # Output: Radius: 5\n",
        "\n",
        "# Accessing the area (computed property)\n",
        "print(f\"Area: {circle.area}\")  # Output: Area: 78.53975\n"
      ],
      "metadata": {
        "colab": {
          "base_uri": "https://localhost:8080/"
        },
        "id": "WTuaKUVZk9Jz",
        "outputId": "c324b844-5a33-4f5a-ff4b-c273c627e4a5"
      },
      "execution_count": 55,
      "outputs": [
        {
          "output_type": "stream",
          "name": "stdout",
          "text": [
            "Radius: 5\n",
            "Area: 78.53975\n"
          ]
        }
      ]
    },
    {
      "cell_type": "code",
      "source": [
        "#70: Explain the use of the @deleter decorator in Python property decorators. Provide a code example\n",
        "#demonstrating its application?\n",
        "\n",
        "\"\"\"The @deleter decorator in Python is part of the property decorators mechanism. It is used to define a method that handles the deletion of an attribute in a class. By using the @deleter decorator, you can control how an attribute is deleted, perform cleanup tasks, or prevent the deletion of an attribute altogether.\n",
        "\n",
        "Purpose of @deleter:\n",
        "Control Deletion: You can control what happens when an attribute is deleted.\n",
        "Clean-Up: It provides a place where you can handle clean-up logic when an attribute is deleted (e.g., closing files or releasing resources).\n",
        "Prevent Deletion: If you don't want an attribute to be deleted, you can raise an exception inside the deleter method to prevent deletion.\n",
        "Syntax of @deleter:\n",
        "To use the @deleter decorator, you define a method with the @<property_name>.deleter decorator, and it will be called when the del statement is used on the property.\n",
        "\n",
        "Example with @deleter:\"\"\"\n",
        "\n",
        "class Person:\n",
        "    def __init__(self, name):\n",
        "        self._name = name\n",
        "\n",
        "    @property\n",
        "    def name(self):\n",
        "        \"\"\"Getter method for name.\"\"\"\n",
        "        return self._name\n",
        "\n",
        "    @name.setter\n",
        "    def name(self, value):\n",
        "        \"\"\"Setter method for name.\"\"\"\n",
        "        self._name = value\n",
        "\n",
        "    @name.deleter\n",
        "    def name(self):\n",
        "        \"\"\"Deleter method for name.\"\"\"\n",
        "        print(\"Deletion of name is not allowed.\")\n",
        "        # Prevent deletion by raising an exception\n",
        "        raise AttributeError(\"Cannot delete name attribute.\")\n",
        "\n",
        "# Example usage\n",
        "person = Person(\"Alice\")\n",
        "\n",
        "# Accessing name using the getter method\n",
        "print(person.name)  # Output: Alice\n",
        "\n",
        "# Modifying name using the setter\n",
        "person.name = \"Bob\"\n",
        "print(person.name)  # Output: Bob\n",
        "\n",
        "# Trying to delete the name will trigger the deleter\n",
        "try:\n",
        "    del person.name\n",
        "except AttributeError as e:\n",
        "    print(e)  # Output: Cannot delete name attribute.\n"
      ],
      "metadata": {
        "colab": {
          "base_uri": "https://localhost:8080/"
        },
        "id": "BZ5nQX7ClNFq",
        "outputId": "64185024-1b4b-4951-dfaa-05e2a0fe0af9"
      },
      "execution_count": 56,
      "outputs": [
        {
          "output_type": "stream",
          "name": "stdout",
          "text": [
            "Alice\n",
            "Bob\n",
            "Deletion of name is not allowed.\n",
            "Cannot delete name attribute.\n"
          ]
        }
      ]
    },
    {
      "cell_type": "code",
      "source": [
        "#71: How does encapsulation relate to property decorators in Python? Provide an example showcasing\n",
        "#encapsulation using property decorators?\n",
        "\n",
        "\n",
        "\n",
        "\"\"\"In Python, encapsulation is one of the core principles of object-oriented programming. It refers to the concept of restricting access to certain details of an object's internal state and providing a controlled interface to interact with that state. Encapsulation helps protect the integrity of the data and allows you to define how an attribute is accessed and modified, which is crucial for maintaining a clean and manageable codebase.\n",
        "\n",
        "Encapsulation and Property Decorators:\n",
        "Property decorators (@property, @<property>.setter, and @<property>.deleter) in Python play a key role in achieving encapsulation. By using these decorators, you can:\n",
        "\n",
        "Control Access to Internal Attributes: Instead of allowing direct access to instance variables, you can control how those variables are accessed or modified.\n",
        "Add Validation or Logic: You can add logic or validation when getting or setting an attribute, thus ensuring that the internal state remains valid and consistent.\n",
        "Hide Internal Details: You can hide the complexity or implementation details of how an attribute is stored or calculated, exposing only a clean and intuitive interface to the outside world.\n",
        "Key Concepts:\n",
        "Getter (@property): Defines a method that provides access to the value of an attribute, without directly exposing the internal attribute.\n",
        "Setter (@<property>.setter): Allows you to define how an attribute can be modified, ensuring that only valid values are assigned.\n",
        "Deleter (@<property>.deleter): Provides a way to control the deletion of an attribute.\n",
        "Example Demonstrating Encapsulation Using Property Decorators:\"\"\"\n",
        "\n",
        "\n",
        "class Person:\n",
        "    def __init__(self, name, age):\n",
        "        self.name = name\n",
        "        self._age = age  # Private attribute (convention)\n",
        "\n",
        "    @property\n",
        "    def age(self):\n",
        "        \"\"\"Getter method for the age attribute.\"\"\"\n",
        "        return self._age\n",
        "\n",
        "    @age.setter\n",
        "    def age(self, value):\n",
        "        \"\"\"Setter method for the age attribute.\"\"\"\n",
        "        if value < 0:\n",
        "            raise ValueError(\"Age cannot be negative\")\n",
        "        self._age = value\n",
        "\n",
        "    @age.deleter\n",
        "    def age(self):\n",
        "        \"\"\"Deleter method for the age attribute.\"\"\"\n",
        "        print(\"Age attribute is being deleted.\")\n",
        "        del self._age\n",
        "\n",
        "# Example usage\n",
        "person = Person(\"Alice\", 30)\n",
        "\n",
        "# Accessing the age using the getter method (encapsulated access)\n",
        "print(person.age)  # Output: 30\n",
        "\n",
        "# Modifying the age using the setter method (with validation)\n",
        "person.age = 35\n",
        "print(person.age)  # Output: 35\n",
        "\n",
        "# Attempting to set an invalid (negative) age raises an exception\n",
        "try:\n",
        "    person.age = -5\n",
        "except ValueError as e:\n",
        "    print(e)  # Output: Age cannot be negative\n",
        "\n",
        "# Deleting the age attribute triggers the deleter\n",
        "del person.age  # Output: Age attribute is being deleted.\n"
      ],
      "metadata": {
        "colab": {
          "base_uri": "https://localhost:8080/"
        },
        "id": "eboUGbdxlkib",
        "outputId": "9aa0b1bb-8957-4f34-85ca-c10389c03b10"
      },
      "execution_count": 57,
      "outputs": [
        {
          "output_type": "stream",
          "name": "stdout",
          "text": [
            "30\n",
            "35\n",
            "Age cannot be negative\n",
            "Age attribute is being deleted.\n"
          ]
        }
      ]
    }
  ]
}