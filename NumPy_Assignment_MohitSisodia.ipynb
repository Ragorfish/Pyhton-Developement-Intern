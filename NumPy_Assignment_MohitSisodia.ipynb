{
  "nbformat": 4,
  "nbformat_minor": 0,
  "metadata": {
    "colab": {
      "provenance": [],
      "authorship_tag": "ABX9TyM334TqSVNMVbljH5aDTM2u",
      "include_colab_link": true
    },
    "kernelspec": {
      "name": "python3",
      "display_name": "Python 3"
    },
    "language_info": {
      "name": "python"
    }
  },
  "cells": [
    {
      "cell_type": "markdown",
      "metadata": {
        "id": "view-in-github",
        "colab_type": "text"
      },
      "source": [
        "<a href=\"https://colab.research.google.com/github/Ragorfish/Pyhton-Developement-Intern/blob/main/NumPy_Assignment_MohitSisodia.ipynb\" target=\"_parent\"><img src=\"https://colab.research.google.com/assets/colab-badge.svg\" alt=\"Open In Colab\"/></a>"
      ]
    },
    {
      "cell_type": "code",
      "execution_count": null,
      "metadata": {
        "id": "WbL_nvhP98u3"
      },
      "outputs": [],
      "source": [
        "#1. . Create a NumPy array 'arr' of integers from 0 to 5 and print its data type."
      ]
    },
    {
      "cell_type": "code",
      "source": [
        "import numpy as np\n",
        "\n",
        "# Create the NumPy array\n",
        "arr = np.array(range(6))\n",
        "\n",
        "# Print the data type of the array\n",
        "print(\"Array:\", arr)\n",
        "print(\"Data type:\", arr.dtype)\n"
      ],
      "metadata": {
        "colab": {
          "base_uri": "https://localhost:8080/"
        },
        "id": "g8rLQQI2-CDS",
        "outputId": "dc183fa6-ab51-4127-b1a4-fa424ba8a0cc"
      },
      "execution_count": 1,
      "outputs": [
        {
          "output_type": "stream",
          "name": "stdout",
          "text": [
            "Array: [0 1 2 3 4 5]\n",
            "Data type: int64\n"
          ]
        }
      ]
    },
    {
      "cell_type": "code",
      "source": [
        "#2. Given a NumPy array 'arr', check if its data type is float64.\n",
        "#   arr = np.array([1.5, 2.6, 3.7])"
      ],
      "metadata": {
        "id": "28cWJ-U7-OrQ"
      },
      "execution_count": 2,
      "outputs": []
    },
    {
      "cell_type": "code",
      "source": [
        "import numpy as np\n",
        "\n",
        "# Given NumPy array\n",
        "arr = np.array([1.5, 2.6, 3.7])\n",
        "\n",
        "# Check if the data type is float64\n",
        "if arr.dtype == np.float64:\n",
        "    print(\"The data type of 'arr' is float64.\")\n",
        "else:\n",
        "    print(\"The data type of 'arr' is not float64.\")\n"
      ],
      "metadata": {
        "colab": {
          "base_uri": "https://localhost:8080/"
        },
        "id": "s-xdZl4L-iBY",
        "outputId": "2ddef5af-6529-4e0d-ac42-09a6f884edfe"
      },
      "execution_count": 3,
      "outputs": [
        {
          "output_type": "stream",
          "name": "stdout",
          "text": [
            "The data type of 'arr' is float64.\n"
          ]
        }
      ]
    },
    {
      "cell_type": "code",
      "source": [
        "#3.  Create a NumPy array 'arr' with a data type of complex128 containing three complex numbers."
      ],
      "metadata": {
        "id": "ebQfIAD7-nTo"
      },
      "execution_count": 4,
      "outputs": []
    },
    {
      "cell_type": "code",
      "source": [
        "import numpy as np\n",
        "\n",
        "# Create the NumPy array with complex128 data type\n",
        "arr = np.array([1+2j, 3+4j, 5+6j], dtype=np.complex128)\n",
        "\n",
        "# Print the array and its data type\n",
        "print(\"Array:\", arr)\n",
        "print(\"Data type:\", arr.dtype)\n"
      ],
      "metadata": {
        "colab": {
          "base_uri": "https://localhost:8080/"
        },
        "id": "WqY22Lq2-twG",
        "outputId": "1b096eb5-406a-4b59-f4c1-a2eab37b972d"
      },
      "execution_count": 5,
      "outputs": [
        {
          "output_type": "stream",
          "name": "stdout",
          "text": [
            "Array: [1.+2.j 3.+4.j 5.+6.j]\n",
            "Data type: complex128\n"
          ]
        }
      ]
    },
    {
      "cell_type": "code",
      "source": [
        "#4. Convert an existing NumPy array 'arr' of integers to float32 data type."
      ],
      "metadata": {
        "id": "8HW5PvgE-wEN"
      },
      "execution_count": 6,
      "outputs": []
    },
    {
      "cell_type": "code",
      "source": [
        "import numpy as np\n",
        "\n",
        "# Existing NumPy array of integers\n",
        "arr = np.array([1, 2, 3, 4, 5])\n",
        "\n",
        "# Convert to float32 data type\n",
        "arr_float32 = arr.astype(np.float32)\n",
        "\n",
        "# Print the converted array and its data type\n",
        "print(\"Original array:\", arr)\n",
        "print(\"Original data type:\", arr.dtype)\n",
        "print(\"Converted array:\", arr_float32)\n",
        "print(\"Converted data type:\", arr_float32.dtype)\n"
      ],
      "metadata": {
        "colab": {
          "base_uri": "https://localhost:8080/"
        },
        "id": "xTXXEvnj-2AB",
        "outputId": "cb2908bb-1417-428d-a259-c27cf780a4ae"
      },
      "execution_count": 7,
      "outputs": [
        {
          "output_type": "stream",
          "name": "stdout",
          "text": [
            "Original array: [1 2 3 4 5]\n",
            "Original data type: int64\n",
            "Converted array: [1. 2. 3. 4. 5.]\n",
            "Converted data type: float32\n"
          ]
        }
      ]
    },
    {
      "cell_type": "code",
      "source": [
        "#5.  Given a NumPy array 'arr' with float64 data type, convert it to float32 to reduce decimal precision."
      ],
      "metadata": {
        "id": "06rkZFYj-35O"
      },
      "execution_count": 8,
      "outputs": []
    },
    {
      "cell_type": "code",
      "source": [
        "import numpy as np\n",
        "\n",
        "# Given NumPy array with float64 data type\n",
        "arr = np.array([1.123456789, 2.987654321, 3.456789123], dtype=np.float64)\n",
        "\n",
        "# Convert to float32 to reduce precision\n",
        "arr_float32 = arr.astype(np.float32)\n",
        "\n",
        "# Print the original and converted arrays along with their data types\n",
        "print(\"Original array:\", arr)\n",
        "print(\"Original data type:\", arr.dtype)\n",
        "print(\"Converted array:\", arr_float32)\n",
        "print(\"Converted data type:\", arr_float32.dtype)\n"
      ],
      "metadata": {
        "colab": {
          "base_uri": "https://localhost:8080/"
        },
        "id": "n3UgQGNW-9E7",
        "outputId": "82bfc09d-ac09-4fd4-e500-c90291938839"
      },
      "execution_count": 9,
      "outputs": [
        {
          "output_type": "stream",
          "name": "stdout",
          "text": [
            "Original array: [1.12345679 2.98765432 3.45678912]\n",
            "Original data type: float64\n",
            "Converted array: [1.1234568 2.9876542 3.456789 ]\n",
            "Converted data type: float32\n"
          ]
        }
      ]
    },
    {
      "cell_type": "code",
      "source": [
        " #6.  Write a function array_attributes that takes a NumPy array as input and returns its shape, size, and data\n",
        " #    type."
      ],
      "metadata": {
        "id": "TVXRa-OD_DfY"
      },
      "execution_count": 10,
      "outputs": []
    },
    {
      "cell_type": "code",
      "source": [
        "import numpy as np\n",
        "\n",
        "def array_attributes(arr):\n",
        "    \"\"\"\n",
        "    Function to return the shape, size, and data type of a NumPy array.\n",
        "\n",
        "    Parameters:\n",
        "        arr (numpy.ndarray): Input NumPy array.\n",
        "\n",
        "    Returns:\n",
        "        tuple: A tuple containing the shape, size, and data type of the array.\n",
        "    \"\"\"\n",
        "    shape = arr.shape\n",
        "    size = arr.size\n",
        "    dtype = arr.dtype\n",
        "    return shape, size, dtype\n",
        "\n",
        "# Example usage\n",
        "arr = np.array([[1, 2, 3], [4, 5, 6]], dtype=np.int32)\n",
        "shape, size, dtype = array_attributes(arr)\n",
        "print(\"Shape:\", shape)\n",
        "print(\"Size:\", size)\n",
        "print(\"Data type:\", dtype)\n"
      ],
      "metadata": {
        "colab": {
          "base_uri": "https://localhost:8080/"
        },
        "id": "DitucSsvCiYq",
        "outputId": "59fb2bf4-5298-4fa5-91ea-bb395c80296d"
      },
      "execution_count": 11,
      "outputs": [
        {
          "output_type": "stream",
          "name": "stdout",
          "text": [
            "Shape: (2, 3)\n",
            "Size: 6\n",
            "Data type: int32\n"
          ]
        }
      ]
    },
    {
      "cell_type": "code",
      "source": [
        "#7. Create a function array_dimension that takes a NumPy array as input and returns its dimensionality"
      ],
      "metadata": {
        "id": "o_cwTcUZCm7z"
      },
      "execution_count": 12,
      "outputs": []
    },
    {
      "cell_type": "code",
      "source": [
        "import numpy as np\n",
        "\n",
        "def array_dimension(arr):\n",
        "    \"\"\"\n",
        "    Function to return the dimensionality of a NumPy array.\n",
        "\n",
        "    Parameters:\n",
        "        arr (numpy.ndarray): Input NumPy array.\n",
        "\n",
        "    Returns:\n",
        "        int: Dimensionality (number of axes) of the array.\n",
        "    \"\"\"\n",
        "    return arr.ndim\n",
        "\n",
        "# Example usage\n",
        "arr = np.array([[1, 2, 3], [4, 5, 6]])\n",
        "dimensionality = array_dimension(arr)\n",
        "print(\"Dimensionality of the array:\", dimensionality)\n"
      ],
      "metadata": {
        "colab": {
          "base_uri": "https://localhost:8080/"
        },
        "id": "Z5B5ly9kCsy4",
        "outputId": "abfb957c-e5c4-4d5c-a1d0-8c1d8eacf0d4"
      },
      "execution_count": 13,
      "outputs": [
        {
          "output_type": "stream",
          "name": "stdout",
          "text": [
            "Dimensionality of the array: 2\n"
          ]
        }
      ]
    },
    {
      "cell_type": "code",
      "source": [
        "#8.  Design a function item_size_info that takes a NumPy array as input and returns the item size and the total\n",
        "#    size in bytes."
      ],
      "metadata": {
        "id": "Y675MnfJCvFI"
      },
      "execution_count": 14,
      "outputs": []
    },
    {
      "cell_type": "code",
      "source": [
        "import numpy as np\n",
        "\n",
        "def item_size_info(arr):\n",
        "    \"\"\"\n",
        "    Function to return the item size and total size in bytes of a NumPy array.\n",
        "\n",
        "    Parameters:\n",
        "        arr (numpy.ndarray): Input NumPy array.\n",
        "\n",
        "    Returns:\n",
        "        tuple: A tuple containing the item size (in bytes) and the total size (in bytes).\n",
        "    \"\"\"\n",
        "    item_size = arr.itemsize  # Size of one array element in bytes\n",
        "    total_size = arr.nbytes   # Total size of the array in bytes\n",
        "    return item_size, total_size\n",
        "\n",
        "# Example usage\n",
        "arr = np.array([[1, 2, 3], [4, 5, 6]], dtype=np.int32)\n",
        "item_size, total_size = item_size_info(arr)\n",
        "print(\"Item size (in bytes):\", item_size)\n",
        "print(\"Total size (in bytes):\", total_size)\n"
      ],
      "metadata": {
        "colab": {
          "base_uri": "https://localhost:8080/"
        },
        "id": "e2tq6ZkxC19J",
        "outputId": "d78263cc-31e6-40f7-acba-ef42249815fc"
      },
      "execution_count": 15,
      "outputs": [
        {
          "output_type": "stream",
          "name": "stdout",
          "text": [
            "Item size (in bytes): 4\n",
            "Total size (in bytes): 24\n"
          ]
        }
      ]
    },
    {
      "cell_type": "code",
      "source": [
        "#9.  Create a function array_strides that takes a NumPy array as input and returns the strides of the array."
      ],
      "metadata": {
        "id": "qFLzhEq4C6Mn"
      },
      "execution_count": 16,
      "outputs": []
    },
    {
      "cell_type": "code",
      "source": [
        "import numpy as np\n",
        "\n",
        "def array_strides(arr):\n",
        "    \"\"\"\n",
        "    Function to return the strides of a NumPy array.\n",
        "\n",
        "    Parameters:\n",
        "        arr (numpy.ndarray): Input NumPy array.\n",
        "\n",
        "    Returns:\n",
        "        tuple: A tuple containing the strides of the array.\n",
        "    \"\"\"\n",
        "    return arr.strides\n",
        "\n",
        "# Example usage\n",
        "arr = np.array([[1, 2, 3], [4, 5, 6]], dtype=np.int32)\n",
        "strides = array_strides(arr)\n",
        "print(\"Strides of the array:\", strides)\n"
      ],
      "metadata": {
        "colab": {
          "base_uri": "https://localhost:8080/"
        },
        "id": "zGogbqHLDFTB",
        "outputId": "bd022230-8724-45d5-c54c-fc29f83222af"
      },
      "execution_count": 17,
      "outputs": [
        {
          "output_type": "stream",
          "name": "stdout",
          "text": [
            "Strides of the array: (12, 4)\n"
          ]
        }
      ]
    },
    {
      "cell_type": "code",
      "source": [
        "#10. Design a function shape_stride_relationship that takes a NumPy array as input and returns the shape\n",
        "#    and strides of the array."
      ],
      "metadata": {
        "id": "O0iXucYdDHlr"
      },
      "execution_count": 18,
      "outputs": []
    },
    {
      "cell_type": "code",
      "source": [
        "import numpy as np\n",
        "\n",
        "def shape_stride_relationship(arr):\n",
        "    \"\"\"\n",
        "    Function to return the shape and strides of a NumPy array.\n",
        "\n",
        "    Parameters:\n",
        "        arr (numpy.ndarray): Input NumPy array.\n",
        "\n",
        "    Returns:\n",
        "        tuple: A tuple containing the shape and strides of the array.\n",
        "    \"\"\"\n",
        "    return arr.shape, arr.strides\n",
        "\n",
        "# Example usage\n",
        "arr = np.array([[1, 2, 3], [4, 5, 6]], dtype=np.int32)\n",
        "shape, strides = shape_stride_relationship(arr)\n",
        "print(\"Shape of the array:\", shape)\n",
        "print(\"Strides of the array:\", strides)\n"
      ],
      "metadata": {
        "colab": {
          "base_uri": "https://localhost:8080/"
        },
        "id": "2n5a_zhVDVeD",
        "outputId": "49688b11-8dcf-445a-aa64-8fdc2cb2062f"
      },
      "execution_count": 19,
      "outputs": [
        {
          "output_type": "stream",
          "name": "stdout",
          "text": [
            "Shape of the array: (2, 3)\n",
            "Strides of the array: (12, 4)\n"
          ]
        }
      ]
    },
    {
      "cell_type": "code",
      "source": [
        "#11. Create a function `create_zeros_array` that takes an integer `n` as input and returns a NumPy array of\n",
        "#    zeros with `n` elements."
      ],
      "metadata": {
        "id": "OBoShU8iDb0S"
      },
      "execution_count": 20,
      "outputs": []
    },
    {
      "cell_type": "code",
      "source": [
        "import numpy as np\n",
        "\n",
        "def create_zeros_array(n):\n",
        "    \"\"\"\n",
        "    Function to create a NumPy array of zeros with n elements.\n",
        "\n",
        "    Parameters:\n",
        "        n (int): The number of elements in the array.\n",
        "\n",
        "    Returns:\n",
        "        numpy.ndarray: A NumPy array of zeros with n elements.\n",
        "    \"\"\"\n",
        "    return np.zeros(n)\n",
        "\n",
        "# Example usage\n",
        "n = 5\n",
        "zeros_array = create_zeros_array(n)\n",
        "print(\"Array of zeros:\", zeros_array)\n"
      ],
      "metadata": {
        "colab": {
          "base_uri": "https://localhost:8080/"
        },
        "id": "HNHZzvv1DkUT",
        "outputId": "b59b4dcd-0c6e-4cfd-9ee3-77485d936c19"
      },
      "execution_count": 21,
      "outputs": [
        {
          "output_type": "stream",
          "name": "stdout",
          "text": [
            "Array of zeros: [0. 0. 0. 0. 0.]\n"
          ]
        }
      ]
    },
    {
      "cell_type": "code",
      "source": [
        "#12.  Write a function `create_ones_matrix` that takes integers `rows` and `cols` as inputs and generates a 2D\n",
        "#NumPy array filled with ones of size `rows x cols`."
      ],
      "metadata": {
        "id": "24TKy6H3Doyt"
      },
      "execution_count": 22,
      "outputs": []
    },
    {
      "cell_type": "code",
      "source": [
        "import numpy as np\n",
        "\n",
        "def create_ones_matrix(rows, cols):\n",
        "    \"\"\"\n",
        "    Function to create a 2D NumPy array filled with ones of size rows x cols.\n",
        "\n",
        "    Parameters:\n",
        "        rows (int): The number of rows in the array.\n",
        "        cols (int): The number of columns in the array.\n",
        "\n",
        "    Returns:\n",
        "        numpy.ndarray: A 2D NumPy array of ones with the given size.\n",
        "    \"\"\"\n",
        "    return np.ones((rows, cols))\n",
        "\n",
        "# Example usage\n",
        "rows = 3\n",
        "cols = 4\n",
        "ones_matrix = create_ones_matrix(rows, cols)\n",
        "print(\"Matrix of ones:\\n\", ones_matrix)\n"
      ],
      "metadata": {
        "colab": {
          "base_uri": "https://localhost:8080/"
        },
        "id": "m399kTZ4Dvk6",
        "outputId": "cafa809e-9a7d-4e49-c888-139ec5b09542"
      },
      "execution_count": 23,
      "outputs": [
        {
          "output_type": "stream",
          "name": "stdout",
          "text": [
            "Matrix of ones:\n",
            " [[1. 1. 1. 1.]\n",
            " [1. 1. 1. 1.]\n",
            " [1. 1. 1. 1.]]\n"
          ]
        }
      ]
    },
    {
      "cell_type": "code",
      "source": [
        "#13.  Write a function `generate_range_array` that takes three integers start, stop, and step as arguments and\n",
        "#creates a NumPy array with a range starting from `start`, ending at stop (exclusive), and with the specified\n",
        "#`step`."
      ],
      "metadata": {
        "id": "6tdtXjRMDyvk"
      },
      "execution_count": 24,
      "outputs": []
    },
    {
      "cell_type": "code",
      "source": [
        "import numpy as np\n",
        "\n",
        "def generate_range_array(start, stop, step):\n",
        "    \"\"\"\n",
        "    Function to generate a NumPy array with a range starting from 'start',\n",
        "    ending at 'stop' (exclusive), and with the specified 'step'.\n",
        "\n",
        "    Parameters:\n",
        "        start (int): The starting value of the range.\n",
        "        stop (int): The end value of the range (exclusive).\n",
        "        step (int): The step size between elements.\n",
        "\n",
        "    Returns:\n",
        "        numpy.ndarray: A NumPy array with the specified range.\n",
        "    \"\"\"\n",
        "    return np.arange(start, stop, step)\n",
        "\n",
        "# Example usage\n",
        "start = 0\n",
        "stop = 10\n",
        "step = 2\n",
        "range_array = generate_range_array(start, stop, step)\n",
        "print(\"Generated range array:\", range_array)\n"
      ],
      "metadata": {
        "colab": {
          "base_uri": "https://localhost:8080/"
        },
        "id": "zLl_U7Q3D9m2",
        "outputId": "6865367f-55eb-4868-bd37-2467bfd5fdec"
      },
      "execution_count": 25,
      "outputs": [
        {
          "output_type": "stream",
          "name": "stdout",
          "text": [
            "Generated range array: [0 2 4 6 8]\n"
          ]
        }
      ]
    },
    {
      "cell_type": "code",
      "source": [
        "#14.  Design a function `generate_linear_space` that takes two floats `start`, `stop`, and an integer `num` as\n",
        "#arguments and generates a NumPy array with num equally spaced values between `start` and `stop`\n",
        "#(inclusive)."
      ],
      "metadata": {
        "id": "jsTMaSs0EA90"
      },
      "execution_count": 26,
      "outputs": []
    },
    {
      "cell_type": "code",
      "source": [
        "import numpy as np\n",
        "\n",
        "def generate_linear_space(start, stop, num):\n",
        "    \"\"\"\n",
        "    Function to generate a NumPy array with `num` equally spaced values between\n",
        "    'start' and 'stop' (inclusive).\n",
        "\n",
        "    Parameters:\n",
        "        start (float): The starting value of the range.\n",
        "        stop (float): The end value of the range (inclusive).\n",
        "        num (int): The number of equally spaced values.\n",
        "\n",
        "    Returns:\n",
        "        numpy.ndarray: A NumPy array with `num` equally spaced values between `start` and `stop`.\n",
        "    \"\"\"\n",
        "    return np.linspace(start, stop, num)\n",
        "\n",
        "# Example usage\n",
        "start = 0.0\n",
        "stop = 10.0\n",
        "num = 5\n",
        "linear_space_array = generate_linear_space(start, stop, num)\n",
        "print(\"Generated linear space array:\", linear_space_array)\n"
      ],
      "metadata": {
        "colab": {
          "base_uri": "https://localhost:8080/"
        },
        "id": "rMbkTVK3EHS4",
        "outputId": "00ad864e-80fd-418e-ae44-105d9ce01b2a"
      },
      "execution_count": 27,
      "outputs": [
        {
          "output_type": "stream",
          "name": "stdout",
          "text": [
            "Generated linear space array: [ 0.   2.5  5.   7.5 10. ]\n"
          ]
        }
      ]
    },
    {
      "cell_type": "code",
      "source": [
        "#15.  Create a function `create_identity_matrix` that takes an integer `n` as input and generates a square\n",
        "#identity matrix of size `n x n` using `numpy.eye"
      ],
      "metadata": {
        "id": "Wg4_Xi37EJGA"
      },
      "execution_count": 28,
      "outputs": []
    },
    {
      "cell_type": "code",
      "source": [
        "import numpy as np\n",
        "\n",
        "def create_identity_matrix(n):\n",
        "    \"\"\"\n",
        "    Function to create a square identity matrix of size n x n.\n",
        "\n",
        "    Parameters:\n",
        "        n (int): The size of the identity matrix.\n",
        "\n",
        "    Returns:\n",
        "        numpy.ndarray: A square identity matrix of size n x n.\n",
        "    \"\"\"\n",
        "    return np.eye(n)\n",
        "\n",
        "# Example usage\n",
        "n = 4\n",
        "identity_matrix = create_identity_matrix(n)\n",
        "print(\"Identity matrix of size\", n, \"x\", n, \":\\n\", identity_matrix)\n"
      ],
      "metadata": {
        "colab": {
          "base_uri": "https://localhost:8080/"
        },
        "id": "1ctcSIe3EROs",
        "outputId": "25ff6d20-91b2-4ca9-dc39-113508818587"
      },
      "execution_count": 29,
      "outputs": [
        {
          "output_type": "stream",
          "name": "stdout",
          "text": [
            "Identity matrix of size 4 x 4 :\n",
            " [[1. 0. 0. 0.]\n",
            " [0. 1. 0. 0.]\n",
            " [0. 0. 1. 0.]\n",
            " [0. 0. 0. 1.]]\n"
          ]
        }
      ]
    },
    {
      "cell_type": "code",
      "source": [
        "#16. Write a function that takes a Python list and converts it into a NumPy array."
      ],
      "metadata": {
        "id": "wud-yPT8EVh3"
      },
      "execution_count": 30,
      "outputs": []
    },
    {
      "cell_type": "code",
      "source": [
        "import numpy as np\n",
        "\n",
        "def list_to_array(py_list):\n",
        "    \"\"\"\n",
        "    Function to convert a Python list into a NumPy array.\n",
        "\n",
        "    Parameters:\n",
        "        py_list (list): A Python list to be converted.\n",
        "\n",
        "    Returns:\n",
        "        numpy.ndarray: The NumPy array corresponding to the input list.\n",
        "    \"\"\"\n",
        "    return np.array(py_list)\n",
        "\n",
        "# Example usage\n",
        "py_list = [1, 2, 3, 4, 5]\n",
        "numpy_array = list_to_array(py_list)\n",
        "print(\"Converted NumPy array:\", numpy_array)\n"
      ],
      "metadata": {
        "colab": {
          "base_uri": "https://localhost:8080/"
        },
        "id": "uvCx-XWCEfcN",
        "outputId": "aaf6cb00-c61c-4c45-8bd1-ac211e38fb28"
      },
      "execution_count": 31,
      "outputs": [
        {
          "output_type": "stream",
          "name": "stdout",
          "text": [
            "Converted NumPy array: [1 2 3 4 5]\n"
          ]
        }
      ]
    },
    {
      "cell_type": "code",
      "source": [
        "#17. . Create a NumPy array and demonstrate the use of `numpy.view` to create a new array object with the\n",
        "#same data."
      ],
      "metadata": {
        "id": "h2Cn5i3dEhIM"
      },
      "execution_count": 32,
      "outputs": []
    },
    {
      "cell_type": "code",
      "source": [
        "import numpy as np\n",
        "\n",
        "# Create a NumPy array\n",
        "arr = np.array([1, 2, 3, 4, 5])\n",
        "\n",
        "# Use view to create a new array with the same data\n",
        "view_arr = arr.view()\n",
        "\n",
        "# Modify an element in the original array\n",
        "arr[0] = 99\n",
        "\n",
        "# Print both arrays to show that they share the same data\n",
        "print(\"Original array:\", arr)\n",
        "print(\"View array:\", view_arr)\n"
      ],
      "metadata": {
        "colab": {
          "base_uri": "https://localhost:8080/"
        },
        "id": "LeuTTgS6El_m",
        "outputId": "0c2bc605-45eb-4722-b071-6fa6818fcc36"
      },
      "execution_count": 33,
      "outputs": [
        {
          "output_type": "stream",
          "name": "stdout",
          "text": [
            "Original array: [99  2  3  4  5]\n",
            "View array: [99  2  3  4  5]\n"
          ]
        }
      ]
    },
    {
      "cell_type": "code",
      "source": [
        "#18. Write a function that takes two NumPy arrays and concatenates them along a specified axis."
      ],
      "metadata": {
        "id": "spltNC1mEpuu"
      },
      "execution_count": 34,
      "outputs": []
    },
    {
      "cell_type": "code",
      "source": [
        "import numpy as np\n",
        "\n",
        "def concatenate_arrays(arr1, arr2, axis=0):\n",
        "    \"\"\"\n",
        "    Function to concatenate two NumPy arrays along a specified axis.\n",
        "\n",
        "    Parameters:\n",
        "        arr1 (numpy.ndarray): The first NumPy array.\n",
        "        arr2 (numpy.ndarray): The second NumPy array.\n",
        "        axis (int): The axis along which the arrays should be concatenated (default is 0).\n",
        "\n",
        "    Returns:\n",
        "        numpy.ndarray: The concatenated NumPy array.\n",
        "    \"\"\"\n",
        "    return np.concatenate((arr1, arr2), axis=axis)\n",
        "\n",
        "# Example usage\n",
        "arr1 = np.array([[1, 2], [3, 4]])\n",
        "arr2 = np.array([[5, 6], [7, 8]])\n",
        "\n",
        "# Concatenate along axis 0 (rows)\n",
        "concatenated_arr_0 = concatenate_arrays(arr1, arr2, axis=0)\n",
        "print(\"Concatenated along axis 0:\\n\", concatenated_arr_0)\n",
        "\n",
        "# Concatenate along axis 1 (columns)\n",
        "concatenated_arr_1 = concatenate_arrays(arr1, arr2, axis=1)\n",
        "print(\"Concatenated along axis 1:\\n\", concatenated_arr_1)\n"
      ],
      "metadata": {
        "colab": {
          "base_uri": "https://localhost:8080/"
        },
        "id": "SAspzv5uEt_0",
        "outputId": "f1eb25ee-413c-4dac-ec0c-d29aee800fc2"
      },
      "execution_count": 35,
      "outputs": [
        {
          "output_type": "stream",
          "name": "stdout",
          "text": [
            "Concatenated along axis 0:\n",
            " [[1 2]\n",
            " [3 4]\n",
            " [5 6]\n",
            " [7 8]]\n",
            "Concatenated along axis 1:\n",
            " [[1 2 5 6]\n",
            " [3 4 7 8]]\n"
          ]
        }
      ]
    },
    {
      "cell_type": "code",
      "source": [
        "#19. Create two NumPy arrays with different shapes and concatenate them horizontally using `numpy.\n",
        "#concatenate`."
      ],
      "metadata": {
        "id": "qTZMcweJEwZz"
      },
      "execution_count": 36,
      "outputs": []
    },
    {
      "cell_type": "code",
      "source": [
        "import numpy as np\n",
        "\n",
        "# Create two NumPy arrays with different shapes\n",
        "arr1 = np.array([[1, 2], [3, 4]])  # Shape (2, 2)\n",
        "arr2 = np.array([[5], [6]])        # Shape (2, 1)\n",
        "\n",
        "# Concatenate them horizontally (along axis 1)\n",
        "concatenated_arr = np.concatenate((arr1, arr2), axis=1)\n",
        "\n",
        "print(\"Concatenated array along axis 1:\\n\", concatenated_arr)\n"
      ],
      "metadata": {
        "colab": {
          "base_uri": "https://localhost:8080/"
        },
        "id": "qV-ISyhmE2ae",
        "outputId": "c19f5b7d-c67e-4218-c11b-4039bd1137b7"
      },
      "execution_count": 37,
      "outputs": [
        {
          "output_type": "stream",
          "name": "stdout",
          "text": [
            "Concatenated array along axis 1:\n",
            " [[1 2 5]\n",
            " [3 4 6]]\n"
          ]
        }
      ]
    },
    {
      "cell_type": "code",
      "source": [
        "#20. Write a function that vertically stacks multiple NumPy arrays given as a list"
      ],
      "metadata": {
        "id": "p4OGvCWaE39Z"
      },
      "execution_count": 38,
      "outputs": []
    },
    {
      "cell_type": "code",
      "source": [
        "import numpy as np\n",
        "\n",
        "def vertical_stack_arrays(arrays):\n",
        "    \"\"\"\n",
        "    Function to vertically stack multiple NumPy arrays provided as a list.\n",
        "\n",
        "    Parameters:\n",
        "        arrays (list): A list containing NumPy arrays to be vertically stacked.\n",
        "\n",
        "    Returns:\n",
        "        numpy.ndarray: The vertically stacked NumPy array.\n",
        "    \"\"\"\n",
        "    return np.vstack(arrays)\n",
        "\n",
        "# Example usage\n",
        "arr1 = np.array([1, 2])\n",
        "arr2 = np.array([3, 4])\n",
        "arr3 = np.array([5, 6])\n",
        "\n",
        "# List of arrays to be stacked\n",
        "arrays = [arr1, arr2, arr3]\n",
        "\n",
        "# Vertically stack the arrays\n",
        "stacked_array = vertical_stack_arrays(arrays)\n",
        "print(\"Vertically stacked array:\\n\", stacked_array)\n"
      ],
      "metadata": {
        "colab": {
          "base_uri": "https://localhost:8080/"
        },
        "id": "xnQvaJLLE_T0",
        "outputId": "41cb3f20-831b-480d-821d-44f086e3f031"
      },
      "execution_count": 39,
      "outputs": [
        {
          "output_type": "stream",
          "name": "stdout",
          "text": [
            "Vertically stacked array:\n",
            " [[1 2]\n",
            " [3 4]\n",
            " [5 6]]\n"
          ]
        }
      ]
    },
    {
      "cell_type": "code",
      "source": [
        "#21. Write a Python function using NumPy to create an array of integers within a specified range (inclusive)\n",
        "#with a given step size."
      ],
      "metadata": {
        "id": "SxOozYcTFBMo"
      },
      "execution_count": 40,
      "outputs": []
    },
    {
      "cell_type": "code",
      "source": [
        "import numpy as np\n",
        "\n",
        "def create_range_array(start, stop, step):\n",
        "    \"\"\"\n",
        "    Function to create an array of integers within a specified range (inclusive) with a given step size.\n",
        "\n",
        "    Parameters:\n",
        "        start (int): The starting value of the range.\n",
        "        stop (int): The ending value of the range (inclusive).\n",
        "        step (int): The step size between consecutive values.\n",
        "\n",
        "    Returns:\n",
        "        numpy.ndarray: A NumPy array of integers within the specified range with the given step size.\n",
        "    \"\"\"\n",
        "    return np.arange(start, stop + 1, step)\n",
        "\n",
        "# Example usage\n",
        "start = 1\n",
        "stop = 10\n",
        "step = 2\n",
        "\n",
        "range_array = create_range_array(start, stop, step)\n",
        "print(\"Array within the range:\", range_array)\n"
      ],
      "metadata": {
        "colab": {
          "base_uri": "https://localhost:8080/"
        },
        "id": "bZ2FV-IuFGtH",
        "outputId": "b4b716a2-6e3e-465b-e481-370600385c3e"
      },
      "execution_count": 41,
      "outputs": [
        {
          "output_type": "stream",
          "name": "stdout",
          "text": [
            "Array within the range: [1 3 5 7 9]\n"
          ]
        }
      ]
    },
    {
      "cell_type": "code",
      "source": [
        "#22. Write a Python function using NumPy to generate an array of 10 equally spaced values between 0 and 1\n",
        "#(inclusive)."
      ],
      "metadata": {
        "id": "cg4bDAe2FKnl"
      },
      "execution_count": 42,
      "outputs": []
    },
    {
      "cell_type": "code",
      "source": [
        "import numpy as np\n",
        "\n",
        "def generate_equally_spaced_values():\n",
        "    \"\"\"\n",
        "    Function to generate an array of 10 equally spaced values between 0 and 1 (inclusive).\n",
        "\n",
        "    Returns:\n",
        "        numpy.ndarray: A NumPy array of 10 equally spaced values between 0 and 1 (inclusive).\n",
        "    \"\"\"\n",
        "    return np.linspace(0, 1, 10)\n",
        "\n",
        "# Example usage\n",
        "equally_spaced_values = generate_equally_spaced_values()\n",
        "print(\"Equally spaced values:\", equally_spaced_values)\n"
      ],
      "metadata": {
        "colab": {
          "base_uri": "https://localhost:8080/"
        },
        "id": "j6NNoqjeFPra",
        "outputId": "f818c3ae-586c-4888-d0fd-190aab57e138"
      },
      "execution_count": 43,
      "outputs": [
        {
          "output_type": "stream",
          "name": "stdout",
          "text": [
            "Equally spaced values: [0.         0.11111111 0.22222222 0.33333333 0.44444444 0.55555556\n",
            " 0.66666667 0.77777778 0.88888889 1.        ]\n"
          ]
        }
      ]
    },
    {
      "cell_type": "code",
      "source": [
        "#23. Write a Python function using NumPy to create an array of 5 logarithmically spaced values between 1 and\n",
        "#1000 (inclusive)."
      ],
      "metadata": {
        "id": "jDfe1HI9FTX3"
      },
      "execution_count": 44,
      "outputs": []
    },
    {
      "cell_type": "code",
      "source": [
        "import numpy as np\n",
        "\n",
        "def generate_log_spaced_values():\n",
        "    \"\"\"\n",
        "    Function to generate an array of 5 logarithmically spaced values between 1 and 1000 (inclusive).\n",
        "\n",
        "    Returns:\n",
        "        numpy.ndarray: A NumPy array of 5 logarithmically spaced values between 1 and 1000 (inclusive).\n",
        "    \"\"\"\n",
        "    return np.logspace(0, 3, 5)\n",
        "\n",
        "# Example usage\n",
        "log_spaced_values = generate_log_spaced_values()\n",
        "print(\"Logarithmically spaced values:\", log_spaced_values)\n"
      ],
      "metadata": {
        "colab": {
          "base_uri": "https://localhost:8080/"
        },
        "id": "ptNi7Sb9FYYD",
        "outputId": "ff89cae2-eef3-4743-c2fb-5b90dad34c72"
      },
      "execution_count": 45,
      "outputs": [
        {
          "output_type": "stream",
          "name": "stdout",
          "text": [
            "Logarithmically spaced values: [   1.            5.62341325   31.6227766   177.827941   1000.        ]\n"
          ]
        }
      ]
    },
    {
      "cell_type": "code",
      "source": [
        "#24.  Create a Pandas DataFrame using a NumPy array that contains 5 rows and 3 columns, where the values\n",
        "#are random integers between 1 and 100."
      ],
      "metadata": {
        "id": "mufNIillFaFp"
      },
      "execution_count": 46,
      "outputs": []
    },
    {
      "cell_type": "code",
      "source": [
        "import numpy as np\n",
        "import pandas as pd\n",
        "\n",
        "def create_dataframe():\n",
        "    \"\"\"\n",
        "    Function to create a Pandas DataFrame using a NumPy array with random integers\n",
        "    between 1 and 100, having 5 rows and 3 columns.\n",
        "\n",
        "    Returns:\n",
        "        pandas.DataFrame: The generated DataFrame.\n",
        "    \"\"\"\n",
        "    # Generate a NumPy array of random integers between 1 and 100, shape (5, 3)\n",
        "    random_array = np.random.randint(1, 101, size=(5, 3))\n",
        "\n",
        "    # Create a DataFrame from the NumPy array\n",
        "    df = pd.DataFrame(random_array, columns=['Column1', 'Column2', 'Column3'])\n",
        "\n",
        "    return df\n",
        "\n",
        "# Example usage\n",
        "df = create_dataframe()\n",
        "print(\"Generated DataFrame:\\n\", df)\n"
      ],
      "metadata": {
        "colab": {
          "base_uri": "https://localhost:8080/"
        },
        "id": "GBlYs-38Fgxc",
        "outputId": "1a8de672-816b-433e-ed3d-b10a0f013847"
      },
      "execution_count": 47,
      "outputs": [
        {
          "output_type": "stream",
          "name": "stdout",
          "text": [
            "Generated DataFrame:\n",
            "    Column1  Column2  Column3\n",
            "0       13       53       81\n",
            "1       11       26       88\n",
            "2       79       57       86\n",
            "3       19       97       73\n",
            "4       85       70       21\n"
          ]
        }
      ]
    },
    {
      "cell_type": "code",
      "source": [
        "#25. Write a function that takes a Pandas DataFrame and replaces all negative values in a specific column\n",
        "#with zeros. Use NumPy operations within the Pandas DataFrame."
      ],
      "metadata": {
        "id": "kRSWf_y5FjBH"
      },
      "execution_count": 48,
      "outputs": []
    },
    {
      "cell_type": "code",
      "source": [
        "import numpy as np\n",
        "import pandas as pd\n",
        "\n",
        "def replace_negative_with_zero(df, column_name):\n",
        "    \"\"\"\n",
        "    Function to replace all negative values in a specific column of a Pandas DataFrame with zeros.\n",
        "\n",
        "    Parameters:\n",
        "        df (pandas.DataFrame): The DataFrame to modify.\n",
        "        column_name (str): The column in which negative values will be replaced with zeros.\n",
        "\n",
        "    Returns:\n",
        "        pandas.DataFrame: The modified DataFrame with negative values replaced by zeros.\n",
        "    \"\"\"\n",
        "    # Use NumPy's where to replace negative values with zero in the specified column\n",
        "    df[column_name] = np.where(df[column_name] < 0, 0, df[column_name])\n",
        "\n",
        "    return df\n",
        "\n",
        "# Example usage\n",
        "data = {'Column1': [10, -5, 15, -3, 7],\n",
        "        'Column2': [4, -2, 8, 9, -1]}\n",
        "\n",
        "df = pd.DataFrame(data)\n",
        "\n",
        "print(\"Original DataFrame:\\n\", df)\n",
        "\n",
        "# Replace negative values in 'Column1' with zeros\n",
        "df_modified = replace_negative_with_zero(df, 'Column1')\n",
        "\n",
        "print(\"\\nModified DataFrame:\\n\", df_modified)\n"
      ],
      "metadata": {
        "colab": {
          "base_uri": "https://localhost:8080/"
        },
        "id": "etkXo4CiFpmB",
        "outputId": "c493aca3-8028-4dfa-b948-71c8b48e41bb"
      },
      "execution_count": 49,
      "outputs": [
        {
          "output_type": "stream",
          "name": "stdout",
          "text": [
            "Original DataFrame:\n",
            "    Column1  Column2\n",
            "0       10        4\n",
            "1       -5       -2\n",
            "2       15        8\n",
            "3       -3        9\n",
            "4        7       -1\n",
            "\n",
            "Modified DataFrame:\n",
            "    Column1  Column2\n",
            "0       10        4\n",
            "1        0       -2\n",
            "2       15        8\n",
            "3        0        9\n",
            "4        7       -1\n"
          ]
        }
      ]
    },
    {
      "cell_type": "code",
      "source": [
        "#26.  Access the 3rd element from the given NumPy array.\n",
        "#     arr = np.array([10, 20, 30, 40, 50])"
      ],
      "metadata": {
        "id": "Wu-qEK5sFrnH"
      },
      "execution_count": 50,
      "outputs": []
    },
    {
      "cell_type": "code",
      "source": [
        "import numpy as np\n",
        "\n",
        "arr = np.array([10, 20, 30, 40, 50])\n",
        "\n",
        "# Access the 3rd element (index 2)\n",
        "third_element = arr[2]\n",
        "\n",
        "print(\"The 3rd element is:\", third_element)\n"
      ],
      "metadata": {
        "colab": {
          "base_uri": "https://localhost:8080/"
        },
        "id": "69vGdcigGFyz",
        "outputId": "e88218ab-4554-480e-8823-63890a0ad902"
      },
      "execution_count": 51,
      "outputs": [
        {
          "output_type": "stream",
          "name": "stdout",
          "text": [
            "The 3rd element is: 30\n"
          ]
        }
      ]
    },
    {
      "cell_type": "code",
      "source": [
        "#27. Retrieve the element at index (1, 2) from the 2D NumPy array.\n",
        "#    arr_2d = np.array([[1, 2, 3],\n",
        "                  # [4, 5, 6],\n",
        "                  # [7, 8, 9]])arr_2d = np.array([[1, 2, 3],\n",
        "                  # [4, 5, 6],\n",
        "                  # [7, 8, 9]])"
      ],
      "metadata": {
        "id": "EOqkKrDDGIwA"
      },
      "execution_count": 52,
      "outputs": []
    },
    {
      "cell_type": "code",
      "source": [
        "import numpy as np\n",
        "\n",
        "arr_2d = np.array([[1, 2, 3],\n",
        "                   [4, 5, 6],\n",
        "                   [7, 8, 9]])\n",
        "\n",
        "# Retrieve the element at index (1, 2)\n",
        "element = arr_2d[1, 2]\n",
        "\n",
        "print(\"The element at index (1, 2) is:\", element)\n"
      ],
      "metadata": {
        "colab": {
          "base_uri": "https://localhost:8080/"
        },
        "id": "E_pKDU4GGlXj",
        "outputId": "929af0de-0471-43c5-a079-095c4f5b43ff"
      },
      "execution_count": 53,
      "outputs": [
        {
          "output_type": "stream",
          "name": "stdout",
          "text": [
            "The element at index (1, 2) is: 6\n"
          ]
        }
      ]
    },
    {
      "cell_type": "code",
      "source": [
        "#28. Using boolean indexing, extract elements greater than 5 from the given NumPy array.\n",
        "# arr = np.array([3, 8, 2, 10, 5, 7])"
      ],
      "metadata": {
        "id": "YL0SE0pWGnN0"
      },
      "execution_count": 54,
      "outputs": []
    },
    {
      "cell_type": "code",
      "source": [
        "import numpy as np\n",
        "\n",
        "arr = np.array([3, 8, 2, 10, 5, 7])\n",
        "\n",
        "# Use boolean indexing to extract elements greater than 5\n",
        "filtered_elements = arr[arr > 5]\n",
        "\n",
        "print(\"Elements greater than 5:\", filtered_elements)\n"
      ],
      "metadata": {
        "colab": {
          "base_uri": "https://localhost:8080/"
        },
        "id": "glPJt4XDHAU1",
        "outputId": "5352b759-e0e1-4ff1-c367-cb09e7753b83"
      },
      "execution_count": 55,
      "outputs": [
        {
          "output_type": "stream",
          "name": "stdout",
          "text": [
            "Elements greater than 5: [ 8 10  7]\n"
          ]
        }
      ]
    },
    {
      "cell_type": "code",
      "source": [
        "#29.  Perform basic slicing to extract elements from index 2 to 5 (inclusive) from the given NumPy array.\n",
        "# arr = np.array([1, 2, 3, 4, 5, 6, 7, 8, 9])\n"
      ],
      "metadata": {
        "id": "uyEugIpmHCRX"
      },
      "execution_count": 56,
      "outputs": []
    },
    {
      "cell_type": "code",
      "source": [
        "import numpy as np\n",
        "\n",
        "arr = np.array([1, 2, 3, 4, 5, 6, 7, 8, 9])\n",
        "\n",
        "# Perform basic slicing to extract elements from index 2 to 5 (inclusive)\n",
        "sliced_array = arr[2:6]\n",
        "\n",
        "print(\"Extracted elements:\", sliced_array)\n"
      ],
      "metadata": {
        "colab": {
          "base_uri": "https://localhost:8080/"
        },
        "id": "gKvHsHiaHLVB",
        "outputId": "a4026c09-2656-441e-a1b1-83e2e80ba03e"
      },
      "execution_count": 57,
      "outputs": [
        {
          "output_type": "stream",
          "name": "stdout",
          "text": [
            "Extracted elements: [3 4 5 6]\n"
          ]
        }
      ]
    },
    {
      "cell_type": "code",
      "source": [
        "#30.  Slice the 2D NumPy array to extract the sub-array `[[2, 3], [5, 6]]` from the given array\n",
        "#     arr_2d = np.array([[1, 2, 3],\n",
        "#                   [4, 5, 6],\n",
        "#                   [7, 8, 9]])"
      ],
      "metadata": {
        "id": "qvsKpH-oSMLu"
      },
      "execution_count": 58,
      "outputs": []
    },
    {
      "cell_type": "code",
      "source": [
        "import numpy as np\n",
        "\n",
        "arr_2d = np.array([[1, 2, 3],\n",
        "                   [4, 5, 6],\n",
        "                   [7, 8, 9]])\n",
        "\n",
        "# Slice the array to extract the desired sub-array\n",
        "sub_array = arr_2d[0:2, 1:3]\n",
        "\n",
        "print(\"Extracted sub-array:\\n\", sub_array)\n"
      ],
      "metadata": {
        "colab": {
          "base_uri": "https://localhost:8080/"
        },
        "id": "gxxoTZk8SXig",
        "outputId": "ab737fcd-cc71-4c10-9268-5a45a70a6738"
      },
      "execution_count": 59,
      "outputs": [
        {
          "output_type": "stream",
          "name": "stdout",
          "text": [
            "Extracted sub-array:\n",
            " [[2 3]\n",
            " [5 6]]\n"
          ]
        }
      ]
    },
    {
      "cell_type": "code",
      "source": [
        "#31. Write a NumPy function to extract elements in specific order from a given 2D array based on indices\n",
        "#provided in another array."
      ],
      "metadata": {
        "id": "T97JMc-ZSdxn"
      },
      "execution_count": 60,
      "outputs": []
    },
    {
      "cell_type": "code",
      "source": [
        "import numpy as np\n",
        "\n",
        "def extract_elements(arr, indices):\n",
        "    \"\"\"\n",
        "    Function to extract elements from a given 2D array based on indices provided in another array.\n",
        "\n",
        "    Parameters:\n",
        "        arr (numpy.ndarray): The 2D NumPy array to extract elements from.\n",
        "        indices (numpy.ndarray): A 2D array of indices specifying which elements to extract.\n",
        "\n",
        "    Returns:\n",
        "        numpy.ndarray: A 1D array of extracted elements in the specified order.\n",
        "    \"\"\"\n",
        "    # Use advanced indexing to extract the elements\n",
        "    return arr[indices[:, 0], indices[:, 1]]\n",
        "\n",
        "# Example usage\n",
        "arr_2d = np.array([[10, 20, 30],\n",
        "                   [40, 50, 60],\n",
        "                   [70, 80, 90]])\n",
        "\n",
        "indices = np.array([[0, 1],  # Element at row 0, column 1\n",
        "                    [2, 2],  # Element at row 2, column 2\n",
        "                    [1, 0]]) # Element at row 1, column 0\n",
        "\n",
        "extracted_elements = extract_elements(arr_2d, indices)\n",
        "print(\"Extracted elements:\", extracted_elements)\n"
      ],
      "metadata": {
        "colab": {
          "base_uri": "https://localhost:8080/"
        },
        "id": "LcyTRQXMSi9R",
        "outputId": "e3be8e09-1ccb-48be-e97e-e9f3c83f0d7b"
      },
      "execution_count": 61,
      "outputs": [
        {
          "output_type": "stream",
          "name": "stdout",
          "text": [
            "Extracted elements: [20 90 40]\n"
          ]
        }
      ]
    },
    {
      "cell_type": "code",
      "source": [
        "#32. Create a NumPy function that filters elements greater than a threshold from a given 1D array using\n",
        "#    boolean indexing."
      ],
      "metadata": {
        "id": "NoU08NNySnnN"
      },
      "execution_count": 62,
      "outputs": []
    },
    {
      "cell_type": "code",
      "source": [
        "import numpy as np\n",
        "\n",
        "def filter_greater_than_threshold(arr, threshold):\n",
        "    \"\"\"\n",
        "    Function to filter elements greater than a specified threshold from a 1D NumPy array.\n",
        "\n",
        "    Parameters:\n",
        "        arr (numpy.ndarray): The input 1D array.\n",
        "        threshold (float): The threshold value.\n",
        "\n",
        "    Returns:\n",
        "        numpy.ndarray: A 1D array containing elements greater than the threshold.\n",
        "    \"\"\"\n",
        "    # Use boolean indexing to filter elements greater than the threshold\n",
        "    return arr[arr > threshold]\n",
        "\n",
        "# Example usage\n",
        "array = np.array([1, 5, 8, 3, 10, 2, 7])\n",
        "threshold_value = 5\n",
        "\n",
        "filtered_array = filter_greater_than_threshold(array, threshold_value)\n",
        "print(\"Filtered array:\", filtered_array)\n"
      ],
      "metadata": {
        "colab": {
          "base_uri": "https://localhost:8080/"
        },
        "id": "aVo6u9juStTo",
        "outputId": "83a6b7ef-e2b1-453a-84ec-f6de75ef9068"
      },
      "execution_count": 63,
      "outputs": [
        {
          "output_type": "stream",
          "name": "stdout",
          "text": [
            "Filtered array: [ 8 10  7]\n"
          ]
        }
      ]
    },
    {
      "cell_type": "code",
      "source": [
        "#33.  Develop a NumPy function that extracts specific elements from a 3D array using indices provided in three\n",
        "#     separate arrays for each dimension."
      ],
      "metadata": {
        "id": "itaAMLGvSvI_"
      },
      "execution_count": 64,
      "outputs": []
    },
    {
      "cell_type": "code",
      "source": [
        "import numpy as np\n",
        "\n",
        "def extract_elements_3d(arr, x_indices, y_indices, z_indices):\n",
        "    \"\"\"\n",
        "    Function to extract specific elements from a 3D NumPy array using separate indices for each dimension.\n",
        "\n",
        "    Parameters:\n",
        "        arr (numpy.ndarray): The input 3D array.\n",
        "        x_indices (numpy.ndarray): 1D array of indices for the first dimension (x-axis).\n",
        "        y_indices (numpy.ndarray): 1D array of indices for the second dimension (y-axis).\n",
        "        z_indices (numpy.ndarray): 1D array of indices for the third dimension (z-axis).\n",
        "\n",
        "    Returns:\n",
        "        numpy.ndarray: A 1D array of extracted elements.\n",
        "    \"\"\"\n",
        "    # Use advanced indexing to extract elements\n",
        "    return arr[x_indices, y_indices, z_indices]\n",
        "\n",
        "# Example usage\n",
        "arr_3d = np.array([[[10, 20, 30],\n",
        "                    [40, 50, 60]],\n",
        "\n",
        "                   [[70, 80, 90],\n",
        "                    [100, 110, 120]]])\n",
        "\n",
        "x_indices = np.array([0, 1, 1])  # Indices along the x-axis\n",
        "y_indices = np.array([1, 0, 1])  # Indices along the y-axis\n",
        "z_indices = np.array([2, 1, 0])  # Indices along the z-axis\n",
        "\n",
        "extracted_elements = extract_elements_3d(arr_3d, x_indices, y_indices, z_indices)\n",
        "print(\"Extracted elements:\", extracted_elements)\n"
      ],
      "metadata": {
        "colab": {
          "base_uri": "https://localhost:8080/"
        },
        "id": "DdhaV9ZXS2io",
        "outputId": "5f05919d-7f4b-4eca-b474-fd1521a2cb0c"
      },
      "execution_count": 65,
      "outputs": [
        {
          "output_type": "stream",
          "name": "stdout",
          "text": [
            "Extracted elements: [ 60  80 100]\n"
          ]
        }
      ]
    },
    {
      "cell_type": "code",
      "source": [
        "#34. Write a NumPy function that returns elements from an array where both two conditions are satisfied\n",
        "#    using boolean indexing."
      ],
      "metadata": {
        "id": "ab7bT_leS5fX"
      },
      "execution_count": 66,
      "outputs": []
    },
    {
      "cell_type": "code",
      "source": [
        "import numpy as np\n",
        "\n",
        "def filter_with_conditions(arr, condition1, condition2):\n",
        "    \"\"\"\n",
        "    Function to filter elements from a NumPy array where two conditions are satisfied.\n",
        "\n",
        "    Parameters:\n",
        "        arr (numpy.ndarray): The input 1D array.\n",
        "        condition1 (callable): A function representing the first condition, e.g., lambda x: x > 5.\n",
        "        condition2 (callable): A function representing the second condition, e.g., lambda x: x < 20.\n",
        "\n",
        "    Returns:\n",
        "        numpy.ndarray: A 1D array containing elements that satisfy both conditions.\n",
        "    \"\"\"\n",
        "    # Combine the conditions using boolean indexing\n",
        "    return arr[np.logical_and(condition1(arr), condition2(arr))]\n",
        "\n",
        "# Example usage\n",
        "array = np.array([1, 5, 8, 15, 20, 25, 3, 10])\n",
        "filtered_array = filter_with_conditions(array, lambda x: x > 5, lambda x: x < 20)\n",
        "\n",
        "print(\"Filtered elements:\", filtered_array)\n"
      ],
      "metadata": {
        "colab": {
          "base_uri": "https://localhost:8080/"
        },
        "id": "ibnppcWQS-XP",
        "outputId": "9c41606c-a6af-44dc-e721-1e31810599d2"
      },
      "execution_count": 67,
      "outputs": [
        {
          "output_type": "stream",
          "name": "stdout",
          "text": [
            "Filtered elements: [ 8 15 10]\n"
          ]
        }
      ]
    },
    {
      "cell_type": "code",
      "source": [
        "#35.  Create a NumPy function that extracts elements from a 2D array using row and column indices provided\n",
        "#     in separate arrays."
      ],
      "metadata": {
        "id": "wHq0VKLVTAkA"
      },
      "execution_count": 68,
      "outputs": []
    },
    {
      "cell_type": "code",
      "source": [
        "import numpy as np\n",
        "\n",
        "def extract_elements_2d(arr, row_indices, col_indices):\n",
        "    \"\"\"\n",
        "    Function to extract elements from a 2D NumPy array using separate row and column indices.\n",
        "\n",
        "    Parameters:\n",
        "        arr (numpy.ndarray): The input 2D array.\n",
        "        row_indices (numpy.ndarray): 1D array of row indices.\n",
        "        col_indices (numpy.ndarray): 1D array of column indices.\n",
        "\n",
        "    Returns:\n",
        "        numpy.ndarray: A 1D array of extracted elements.\n",
        "    \"\"\"\n",
        "    # Use advanced indexing to extract elements\n",
        "    return arr[row_indices, col_indices]\n",
        "\n",
        "# Example usage\n",
        "arr_2d = np.array([[10, 20, 30],\n",
        "                   [40, 50, 60],\n",
        "                   [70, 80, 90]])\n",
        "\n",
        "row_indices = np.array([0, 1, 2])  # Row indices\n",
        "col_indices = np.array([1, 2, 0])  # Column indices\n",
        "\n",
        "extracted_elements = extract_elements_2d(arr_2d, row_indices, col_indices)\n",
        "print(\"Extracted elements:\", extracted_elements)\n"
      ],
      "metadata": {
        "colab": {
          "base_uri": "https://localhost:8080/"
        },
        "id": "9pap7MAcTFtp",
        "outputId": "15c829a2-f69d-4d7d-cb73-5fe27bacd634"
      },
      "execution_count": 69,
      "outputs": [
        {
          "output_type": "stream",
          "name": "stdout",
          "text": [
            "Extracted elements: [20 60 70]\n"
          ]
        }
      ]
    },
    {
      "cell_type": "code",
      "source": [
        "#36. Given an array arr of shape (3, 3), add a scalar value of 5 to each element using NumPy broadcasting."
      ],
      "metadata": {
        "id": "fFClAYiNTI31"
      },
      "execution_count": 70,
      "outputs": []
    },
    {
      "cell_type": "code",
      "source": [
        "import numpy as np\n",
        "\n",
        "# Define the array\n",
        "arr = np.array([[1, 2, 3],\n",
        "                [4, 5, 6],\n",
        "                [7, 8, 9]])\n",
        "\n",
        "# Add a scalar value of 5 using broadcasting\n",
        "result = arr + 5\n",
        "\n",
        "print(\"Original array:\\n\", arr)\n",
        "print(\"Array after adding 5:\\n\", result)\n"
      ],
      "metadata": {
        "colab": {
          "base_uri": "https://localhost:8080/"
        },
        "id": "8Dt5SS62TOTG",
        "outputId": "9ac835ac-dd74-4e4f-f2fe-e609a41b68fd"
      },
      "execution_count": 71,
      "outputs": [
        {
          "output_type": "stream",
          "name": "stdout",
          "text": [
            "Original array:\n",
            " [[1 2 3]\n",
            " [4 5 6]\n",
            " [7 8 9]]\n",
            "Array after adding 5:\n",
            " [[ 6  7  8]\n",
            " [ 9 10 11]\n",
            " [12 13 14]]\n"
          ]
        }
      ]
    },
    {
      "cell_type": "code",
      "source": [
        "#37. Consider two arrays arr1 of shape (1, 3) and arr2 of shape (3, 4). Multiply each row of arr2 by the\n",
        "#   corresponding element in arr1 using NumPy broadcasting"
      ],
      "metadata": {
        "id": "U0Aw4VlyTP55"
      },
      "execution_count": 72,
      "outputs": []
    },
    {
      "cell_type": "code",
      "source": [
        "import numpy as np\n",
        "\n",
        "# Define the arrays\n",
        "arr1 = np.array([[2, 3, 4]])  # Shape (1, 3)\n",
        "arr2 = np.array([[1, 2, 3, 4],\n",
        "                 [5, 6, 7, 8],\n",
        "                 [9, 10, 11, 12]])  # Shape (3, 4)\n",
        "\n",
        "# Use broadcasting to multiply each row of arr2 by the corresponding element in arr1\n",
        "result = arr1.T * arr2\n",
        "\n",
        "print(\"Array arr1:\\n\", arr1)\n",
        "print(\"Array arr2:\\n\", arr2)\n",
        "print(\"Result after broadcasting and multiplication:\\n\", result)\n"
      ],
      "metadata": {
        "colab": {
          "base_uri": "https://localhost:8080/"
        },
        "id": "Spu3K6nBTVIh",
        "outputId": "892ade97-e536-4bae-d5d3-4f74f3afd700"
      },
      "execution_count": 73,
      "outputs": [
        {
          "output_type": "stream",
          "name": "stdout",
          "text": [
            "Array arr1:\n",
            " [[2 3 4]]\n",
            "Array arr2:\n",
            " [[ 1  2  3  4]\n",
            " [ 5  6  7  8]\n",
            " [ 9 10 11 12]]\n",
            "Result after broadcasting and multiplication:\n",
            " [[ 2  4  6  8]\n",
            " [15 18 21 24]\n",
            " [36 40 44 48]]\n"
          ]
        }
      ]
    },
    {
      "cell_type": "code",
      "source": [
        "#38.  Given a 1D array arr1 of shape (1, 4) and a 2D array arr2 of shape (4, 3), add arr1 to each row of arr2 using\n",
        "#    NumPy broadcasting."
      ],
      "metadata": {
        "id": "SCtpzZnOTdSi"
      },
      "execution_count": 74,
      "outputs": []
    },
    {
      "cell_type": "code",
      "source": [
        "import numpy as np\n",
        "\n",
        "# Define the arrays\n",
        "arr1 = np.array([[1, 2, 3]])  # Shape (1, 3)\n",
        "arr2 = np.array([[10, 20, 30],\n",
        "                 [40, 50, 60],\n",
        "                 [70, 80, 90],\n",
        "                 [100, 110, 120]])  # Shape (4, 3)\n",
        "\n",
        "# Add arr1 to each row of arr2 using broadcasting\n",
        "result = arr2 + arr1\n",
        "\n",
        "print(\"Array arr1:\\n\", arr1)\n",
        "print(\"Array arr2:\\n\", arr2)\n",
        "print(\"Result after broadcasting and addition:\\n\", result)\n"
      ],
      "metadata": {
        "colab": {
          "base_uri": "https://localhost:8080/"
        },
        "id": "j7grZaiaTjQd",
        "outputId": "a9b12c91-77c5-4193-9ef4-c7e8c9352aff"
      },
      "execution_count": 75,
      "outputs": [
        {
          "output_type": "stream",
          "name": "stdout",
          "text": [
            "Array arr1:\n",
            " [[1 2 3]]\n",
            "Array arr2:\n",
            " [[ 10  20  30]\n",
            " [ 40  50  60]\n",
            " [ 70  80  90]\n",
            " [100 110 120]]\n",
            "Result after broadcasting and addition:\n",
            " [[ 11  22  33]\n",
            " [ 41  52  63]\n",
            " [ 71  82  93]\n",
            " [101 112 123]]\n"
          ]
        }
      ]
    },
    {
      "cell_type": "code",
      "source": [
        "#39.   Consider two arrays arr1 of shape (3, 1) and arr2 of shape (1, 3). Add these arrays using NumPy\n",
        "#      broadcasting."
      ],
      "metadata": {
        "id": "ljQd1a4yTlhV"
      },
      "execution_count": 76,
      "outputs": []
    },
    {
      "cell_type": "code",
      "source": [
        "import numpy as np\n",
        "\n",
        "# Define the arrays\n",
        "arr1 = np.array([[1],\n",
        "                 [2],\n",
        "                 [3]])  # Shape (3, 1)\n",
        "\n",
        "arr2 = np.array([[10, 20, 30]])  # Shape (1, 3)\n",
        "\n",
        "# Add the arrays using broadcasting\n",
        "result = arr1 + arr2\n",
        "\n",
        "print(\"Array arr1:\\n\", arr1)\n",
        "print(\"Array arr2:\\n\", arr2)\n",
        "print(\"Result after broadcasting and addition:\\n\", result)\n"
      ],
      "metadata": {
        "colab": {
          "base_uri": "https://localhost:8080/"
        },
        "id": "zVtqYqX3T1xX",
        "outputId": "7fbe129a-c98c-4f68-82d9-254c798f00cc"
      },
      "execution_count": 77,
      "outputs": [
        {
          "output_type": "stream",
          "name": "stdout",
          "text": [
            "Array arr1:\n",
            " [[1]\n",
            " [2]\n",
            " [3]]\n",
            "Array arr2:\n",
            " [[10 20 30]]\n",
            "Result after broadcasting and addition:\n",
            " [[11 21 31]\n",
            " [12 22 32]\n",
            " [13 23 33]]\n"
          ]
        }
      ]
    },
    {
      "cell_type": "code",
      "source": [
        "#40. Given arrays arr1 of shape (2, 3) and arr2 of shape (2, 2), perform multiplication using NumPy\n",
        "#    broadcasting. Handle the shape incompatibility."
      ],
      "metadata": {
        "id": "Tm0wI_yCT5OJ"
      },
      "execution_count": 78,
      "outputs": []
    },
    {
      "cell_type": "code",
      "source": [
        "import numpy as np\n",
        "\n",
        "# Define the arrays\n",
        "arr1 = np.array([[1, 2, 3],\n",
        "                 [4, 5, 6]])  # Shape (2, 3)\n",
        "\n",
        "arr2 = np.array([[1, 2],\n",
        "                 [3, 4]])  # Shape (2, 2)\n",
        "\n",
        "# Reshape arr2 to (2, 1, 2) to make it compatible for broadcasting with arr1\n",
        "arr2_reshaped = arr2[:, np.newaxis, :]  # Shape becomes (2, 1, 2)\n",
        "\n",
        "# Now arr1 has shape (2, 3) and arr2_reshaped has shape (2, 1, 2)\n",
        "# Broadcasting will align them for element-wise multiplication\n",
        "result = arr1[:, :, np.newaxis] * arr2_reshaped\n",
        "\n",
        "print(\"Array arr1:\\n\", arr1)\n",
        "print(\"Array arr2:\\n\", arr2)\n",
        "print(\"Result after broadcasting and multiplication:\\n\", result)\n",
        "\n"
      ],
      "metadata": {
        "colab": {
          "base_uri": "https://localhost:8080/"
        },
        "id": "Bmf1SVjvUBCG",
        "outputId": "d2a6e730-8439-4ffa-d2da-bf7ef5e5c671"
      },
      "execution_count": 81,
      "outputs": [
        {
          "output_type": "stream",
          "name": "stdout",
          "text": [
            "Array arr1:\n",
            " [[1 2 3]\n",
            " [4 5 6]]\n",
            "Array arr2:\n",
            " [[1 2]\n",
            " [3 4]]\n",
            "Result after broadcasting and multiplication:\n",
            " [[[ 1  2]\n",
            "  [ 2  4]\n",
            "  [ 3  6]]\n",
            "\n",
            " [[12 16]\n",
            "  [15 20]\n",
            "  [18 24]]]\n"
          ]
        }
      ]
    },
    {
      "cell_type": "code",
      "source": [
        "#41. Calculate column wise mean for the given array:\n",
        "#    arr = np.array([[1, 2, 3], [4, 5, 6]])\n"
      ],
      "metadata": {
        "id": "HsDprz3nUEdq"
      },
      "execution_count": 82,
      "outputs": []
    },
    {
      "cell_type": "code",
      "source": [
        "import numpy as np\n",
        "\n",
        "# Define the array\n",
        "arr = np.array([[1, 2, 3],\n",
        "                [4, 5, 6]])\n",
        "\n",
        "# Calculate the column-wise mean\n",
        "column_wise_mean = np.mean(arr, axis=0)\n",
        "\n",
        "print(\"Column-wise mean:\", column_wise_mean)\n"
      ],
      "metadata": {
        "colab": {
          "base_uri": "https://localhost:8080/"
        },
        "id": "bIOoZ6IiUe4H",
        "outputId": "cd1843f2-bca3-4d91-c649-4ea0d6e4e257"
      },
      "execution_count": 83,
      "outputs": [
        {
          "output_type": "stream",
          "name": "stdout",
          "text": [
            "Column-wise mean: [2.5 3.5 4.5]\n"
          ]
        }
      ]
    },
    {
      "cell_type": "code",
      "source": [
        "#42.  Find maximum value in each row of the given array:\n",
        "#     arr = np.array([[1, 2, 3], [4, 5, 6]])"
      ],
      "metadata": {
        "id": "5OIPhB2cUjGg"
      },
      "execution_count": 84,
      "outputs": []
    },
    {
      "cell_type": "code",
      "source": [
        "import numpy as np\n",
        "\n",
        "# Define the array\n",
        "arr = np.array([[1, 2, 3],\n",
        "                [4, 5, 6]])\n",
        "\n",
        "# Find the maximum value in each row\n",
        "row_max = np.max(arr, axis=1)\n",
        "\n",
        "print(\"Maximum value in each row:\", row_max)\n"
      ],
      "metadata": {
        "colab": {
          "base_uri": "https://localhost:8080/"
        },
        "id": "alhpAJ6ZUmvI",
        "outputId": "efee3cf8-d185-41ba-8cda-775d993a00e1"
      },
      "execution_count": 85,
      "outputs": [
        {
          "output_type": "stream",
          "name": "stdout",
          "text": [
            "Maximum value in each row: [3 6]\n"
          ]
        }
      ]
    },
    {
      "cell_type": "code",
      "source": [
        "#43.  For the given array, find indices of maximum value in each column.\n",
        "#     arr = np.array([[1, 2, 3], [4, 5, 6]])\n"
      ],
      "metadata": {
        "id": "qZZf07kxU0ru"
      },
      "execution_count": 86,
      "outputs": []
    },
    {
      "cell_type": "code",
      "source": [
        "import numpy as np\n",
        "\n",
        "# Define the array\n",
        "arr = np.array([[1, 2, 3],\n",
        "                [4, 5, 6]])\n",
        "\n",
        "# Find the indices of the maximum value in each column\n",
        "column_max_indices = np.argmax(arr, axis=0)\n",
        "\n",
        "print(\"Indices of maximum values in each column:\", column_max_indices)\n"
      ],
      "metadata": {
        "colab": {
          "base_uri": "https://localhost:8080/"
        },
        "id": "NjPZKy3AU-P4",
        "outputId": "f28e575f-292f-4869-8cf1-ef0699123bd7"
      },
      "execution_count": 87,
      "outputs": [
        {
          "output_type": "stream",
          "name": "stdout",
          "text": [
            "Indices of maximum values in each column: [1 1 1]\n"
          ]
        }
      ]
    },
    {
      "cell_type": "code",
      "source": [
        "#44. For the given array, apply custom function to calculate moving sum along rows.\n",
        "#    arr = np.array([[1, 2, 3], [4, 5, 6]])"
      ],
      "metadata": {
        "id": "yaw6xIuTVAM2"
      },
      "execution_count": 88,
      "outputs": []
    },
    {
      "cell_type": "code",
      "source": [
        "import numpy as np\n",
        "\n",
        "# Define the array\n",
        "arr = np.array([[1, 2, 3],\n",
        "                [4, 5, 6]])\n",
        "\n",
        "# Custom function to calculate the moving sum along rows\n",
        "def moving_sum(arr):\n",
        "    return np.cumsum(arr, axis=1)\n",
        "\n",
        "# Apply the custom function\n",
        "result = moving_sum(arr)\n",
        "\n",
        "print(\"Moving sum along rows:\\n\", result)\n"
      ],
      "metadata": {
        "colab": {
          "base_uri": "https://localhost:8080/"
        },
        "id": "P_WzaBRcVLax",
        "outputId": "805a4b83-2a81-4d7c-8014-05a2a81bf93d"
      },
      "execution_count": 89,
      "outputs": [
        {
          "output_type": "stream",
          "name": "stdout",
          "text": [
            "Moving sum along rows:\n",
            " [[ 1  3  6]\n",
            " [ 4  9 15]]\n"
          ]
        }
      ]
    },
    {
      "cell_type": "code",
      "source": [
        "#45.  In the given array, check if all elements in each column are even.\n",
        "#     arr = np.array([[2, 4, 6], [3, 5, 7]])"
      ],
      "metadata": {
        "id": "EuyCChmXVL0U"
      },
      "execution_count": 90,
      "outputs": []
    },
    {
      "cell_type": "code",
      "source": [
        "import numpy as np\n",
        "\n",
        "# Define the array\n",
        "arr = np.array([[2, 4, 6],\n",
        "                [3, 5, 7]])\n",
        "\n",
        "# Check if all elements in each column are even\n",
        "all_even = np.all(np.mod(arr, 2) == 0, axis=0)\n",
        "\n",
        "print(\"Are all elements in each column even?\", all_even)\n"
      ],
      "metadata": {
        "colab": {
          "base_uri": "https://localhost:8080/"
        },
        "id": "-sOHbFS6VZpS",
        "outputId": "a6ff24f2-4855-442c-ac1b-37c1e0327a1a"
      },
      "execution_count": 91,
      "outputs": [
        {
          "output_type": "stream",
          "name": "stdout",
          "text": [
            "Are all elements in each column even? [False False False]\n"
          ]
        }
      ]
    },
    {
      "cell_type": "code",
      "source": [
        "#46.  Given a NumPy array arr, reshape it into a matrix of dimensions `m` rows and `n` columns. Return the\n",
        "#     reshaped matrix.\n",
        "#     original_array = np.array([1, 2, 3, 4, 5, 6])\n"
      ],
      "metadata": {
        "id": "9G1dsgNcViLd"
      },
      "execution_count": 92,
      "outputs": []
    },
    {
      "cell_type": "code",
      "source": [
        "import numpy as np\n",
        "\n",
        "# Define the original array\n",
        "original_array = np.array([1, 2, 3, 4, 5, 6])\n",
        "\n",
        "# Reshape the array into a matrix of dimensions 2x3 (2 rows and 3 columns)\n",
        "reshaped_matrix = original_array.reshape(2, 3)\n",
        "\n",
        "print(\"Reshaped Matrix:\\n\", reshaped_matrix)\n"
      ],
      "metadata": {
        "colab": {
          "base_uri": "https://localhost:8080/"
        },
        "id": "eJW7pMflVtBB",
        "outputId": "27fe25a0-a8e7-4493-be51-989690e39c77"
      },
      "execution_count": 93,
      "outputs": [
        {
          "output_type": "stream",
          "name": "stdout",
          "text": [
            "Reshaped Matrix:\n",
            " [[1 2 3]\n",
            " [4 5 6]]\n"
          ]
        }
      ]
    },
    {
      "cell_type": "code",
      "source": [
        "#47.  Create a function that takes a matrix as input and returns the flattened array.\n",
        "#     input_matrix = np.array([[1, 2, 3], [4, 5, 6]])\n"
      ],
      "metadata": {
        "id": "anxbkiGSVvcs"
      },
      "execution_count": 94,
      "outputs": []
    },
    {
      "cell_type": "code",
      "source": [
        "import numpy as np\n",
        "\n",
        "# Define the function to flatten the matrix\n",
        "def flatten_matrix(matrix):\n",
        "    return matrix.flatten()\n",
        "\n",
        "# Define the input matrix\n",
        "input_matrix = np.array([[1, 2, 3], [4, 5, 6]])\n",
        "\n",
        "# Call the function to flatten the matrix\n",
        "flattened_array = flatten_matrix(input_matrix)\n",
        "\n",
        "print(\"Flattened Array:\", flattened_array)\n"
      ],
      "metadata": {
        "colab": {
          "base_uri": "https://localhost:8080/"
        },
        "id": "Buwj_N4nV9WD",
        "outputId": "b89658d6-1b59-47fa-f093-375e5199ed09"
      },
      "execution_count": 95,
      "outputs": [
        {
          "output_type": "stream",
          "name": "stdout",
          "text": [
            "Flattened Array: [1 2 3 4 5 6]\n"
          ]
        }
      ]
    },
    {
      "cell_type": "code",
      "source": [
        "#48. Write a function that concatenates two given arrays along a specified axis.\n",
        "#    array1 = np.array([[1, 2], [3, 4]])\n",
        "#    array2 = np.array([[5, 6], [7, 8]])"
      ],
      "metadata": {
        "id": "ZyVo5P1yV_xr"
      },
      "execution_count": 96,
      "outputs": []
    },
    {
      "cell_type": "code",
      "source": [
        "import numpy as np\n",
        "\n",
        "# Define the function to concatenate two arrays along a specified axis\n",
        "def concatenate_arrays(array1, array2, axis):\n",
        "    return np.concatenate((array1, array2), axis=axis)\n",
        "\n",
        "# Define the input arrays\n",
        "array1 = np.array([[1, 2], [3, 4]])\n",
        "array2 = np.array([[5, 6], [7, 8]])\n",
        "\n",
        "# Concatenate along axis 0 (vertically)\n",
        "result_axis_0 = concatenate_arrays(array1, array2, axis=0)\n",
        "print(\"Concatenated along axis 0:\\n\", result_axis_0)\n",
        "\n",
        "# Concatenate along axis 1 (horizontally)\n",
        "result_axis_1 = concatenate_arrays(array1, array2, axis=1)\n",
        "print(\"\\nConcatenated along axis 1:\\n\", result_axis_1)\n"
      ],
      "metadata": {
        "colab": {
          "base_uri": "https://localhost:8080/"
        },
        "id": "zPCbLeomWD-J",
        "outputId": "b522add5-c77c-42c9-e37b-d4a1618fc457"
      },
      "execution_count": 97,
      "outputs": [
        {
          "output_type": "stream",
          "name": "stdout",
          "text": [
            "Concatenated along axis 0:\n",
            " [[1 2]\n",
            " [3 4]\n",
            " [5 6]\n",
            " [7 8]]\n",
            "\n",
            "Concatenated along axis 1:\n",
            " [[1 2 5 6]\n",
            " [3 4 7 8]]\n"
          ]
        }
      ]
    },
    {
      "cell_type": "code",
      "source": [
        "#49. Create a function that splits an array into multiple sub-arrays along a specified axis.\n",
        "#    original_array = np.array([[1, 2, 3], [4, 5, 6], [7, 8, 9]])"
      ],
      "metadata": {
        "id": "O1kBIjljWOOv"
      },
      "execution_count": 98,
      "outputs": []
    },
    {
      "cell_type": "code",
      "source": [
        "import numpy as np\n",
        "\n",
        "# Define the function to split the array along a specified axis\n",
        "def split_array(array, axis, num_splits):\n",
        "    return np.array_split(array, num_splits, axis=axis)\n",
        "\n",
        "# Define the original array\n",
        "original_array = np.array([[1, 2, 3],\n",
        "                           [4, 5, 6],\n",
        "                           [7, 8, 9]])\n",
        "\n",
        "# Split the array along axis 0 (rows)\n",
        "result_axis_0 = split_array(original_array, axis=0, num_splits=3)\n",
        "print(\"Array split along axis 0 (rows):\")\n",
        "for sub_array in result_axis_0:\n",
        "    print(sub_array)\n",
        "\n",
        "# Split the array along axis 1 (columns)\n",
        "result_axis_1 = split_array(original_array, axis=1, num_splits=3)\n",
        "print(\"\\nArray split along axis 1 (columns):\")\n",
        "for sub_array in result_axis_1:\n",
        "    print(sub_array)\n"
      ],
      "metadata": {
        "colab": {
          "base_uri": "https://localhost:8080/"
        },
        "id": "VLrW2CFUWXLo",
        "outputId": "9335b230-7324-4d92-8203-5b5d2fe50bc3"
      },
      "execution_count": 99,
      "outputs": [
        {
          "output_type": "stream",
          "name": "stdout",
          "text": [
            "Array split along axis 0 (rows):\n",
            "[[1 2 3]]\n",
            "[[4 5 6]]\n",
            "[[7 8 9]]\n",
            "\n",
            "Array split along axis 1 (columns):\n",
            "[[1]\n",
            " [4]\n",
            " [7]]\n",
            "[[2]\n",
            " [5]\n",
            " [8]]\n",
            "[[3]\n",
            " [6]\n",
            " [9]]\n"
          ]
        }
      ]
    },
    {
      "cell_type": "code",
      "source": [
        "#50. Write a function that inserts and then deletes elements from a given array at specified indices.\n",
        "#    original_array = np.array([1, 2, 3, 4, 5])\n",
        "#    indices_to_insert = [2, 4]\n",
        "#    values_to_insert = [10, 11]\n",
        "#    indices_to_delete = [1, 3]"
      ],
      "metadata": {
        "id": "X1GTyLJpWZVf"
      },
      "execution_count": 100,
      "outputs": []
    },
    {
      "cell_type": "code",
      "source": [
        "import numpy as np\n",
        "\n",
        "# Define the function to insert and delete elements\n",
        "def modify_array(original_array, indices_to_insert, values_to_insert, indices_to_delete):\n",
        "    # Insert elements at specified indices\n",
        "    modified_array = np.insert(original_array, indices_to_insert, values_to_insert)\n",
        "\n",
        "    # Delete elements at specified indices\n",
        "    modified_array = np.delete(modified_array, indices_to_delete)\n",
        "\n",
        "    return modified_array\n",
        "\n",
        "# Define the original array\n",
        "original_array = np.array([1, 2, 3, 4, 5])\n",
        "\n",
        "# Indices and values for insertion\n",
        "indices_to_insert = [2, 4]\n",
        "values_to_insert = [10, 11]\n",
        "\n",
        "# Indices for deletion\n",
        "indices_to_delete = [1, 3]\n",
        "\n",
        "# Call the function to modify the array\n",
        "result_array = modify_array(original_array, indices_to_insert, values_to_insert, indices_to_delete)\n",
        "\n",
        "print(\"Modified Array:\", result_array)\n"
      ],
      "metadata": {
        "colab": {
          "base_uri": "https://localhost:8080/"
        },
        "id": "LVBFfp6dWnTj",
        "outputId": "05aeed50-a81f-40a5-8a3e-2f565914ff78"
      },
      "execution_count": 101,
      "outputs": [
        {
          "output_type": "stream",
          "name": "stdout",
          "text": [
            "Modified Array: [ 1 10  4 11  5]\n"
          ]
        }
      ]
    },
    {
      "cell_type": "code",
      "source": [
        "#51. Create a NumPy array `arr1` with random integers and another array `arr2` with integers from 1 to 10.\n",
        "#    Perform element-wise addition between `arr1` and `arr2`."
      ],
      "metadata": {
        "id": "1klzaqc4Wr2w"
      },
      "execution_count": 102,
      "outputs": []
    },
    {
      "cell_type": "code",
      "source": [
        "import numpy as np\n",
        "\n",
        "# Create a random integer array arr1 of shape (3, 3) with values between 1 and 100\n",
        "arr1 = np.random.randint(1, 100, size=(3, 3))\n",
        "\n",
        "# Create an array arr2 with integers from 1 to 10\n",
        "arr2 = np.arange(1, 10).reshape(3, 3)\n",
        "\n",
        "# Perform element-wise addition\n",
        "result = arr1 + arr2\n",
        "\n",
        "# Print the arrays and the result\n",
        "print(\"Array 1 (Random Integers):\\n\", arr1)\n",
        "print(\"\\nArray 2 (Integers from 1 to 10):\\n\", arr2)\n",
        "print(\"\\nElement-wise Addition Result:\\n\", result)\n"
      ],
      "metadata": {
        "colab": {
          "base_uri": "https://localhost:8080/"
        },
        "id": "47jCLCdOWxtb",
        "outputId": "c1beb0fd-089c-42e8-c134-7a2279b4d953"
      },
      "execution_count": 103,
      "outputs": [
        {
          "output_type": "stream",
          "name": "stdout",
          "text": [
            "Array 1 (Random Integers):\n",
            " [[76 77 15]\n",
            " [49 58 98]\n",
            " [40 27 25]]\n",
            "\n",
            "Array 2 (Integers from 1 to 10):\n",
            " [[1 2 3]\n",
            " [4 5 6]\n",
            " [7 8 9]]\n",
            "\n",
            "Element-wise Addition Result:\n",
            " [[ 77  79  18]\n",
            " [ 53  63 104]\n",
            " [ 47  35  34]]\n"
          ]
        }
      ]
    },
    {
      "cell_type": "code",
      "source": [
        "#52. Generate a NumPy array `arr1` with sequential integers from 10 to 1 and another array `arr2` with integers\n",
        "#    from 1 to 10. Subtract `arr2` from `arr1` element-wise."
      ],
      "metadata": {
        "id": "DRomH6AEW06g"
      },
      "execution_count": 104,
      "outputs": []
    },
    {
      "cell_type": "code",
      "source": [
        "import numpy as np\n",
        "\n",
        "# Generate arr1 with sequential integers from 10 to 1 (descending order)\n",
        "arr1 = np.arange(10, 0, -1)\n",
        "\n",
        "# Generate arr2 with integers from 1 to 10\n",
        "arr2 = np.arange(1, 11)\n",
        "\n",
        "# Perform element-wise subtraction\n",
        "result = arr1 - arr2\n",
        "\n",
        "# Print the arrays and the result\n",
        "print(\"Array 1 (Sequential integers from 10 to 1):\\n\", arr1)\n",
        "print(\"\\nArray 2 (Integers from 1 to 10):\\n\", arr2)\n",
        "print(\"\\nElement-wise Subtraction Result (arr1 - arr2):\\n\", result)\n"
      ],
      "metadata": {
        "colab": {
          "base_uri": "https://localhost:8080/"
        },
        "id": "CkIAfbTRW6Tv",
        "outputId": "5276e187-6468-410e-9c8d-654509577cf6"
      },
      "execution_count": 105,
      "outputs": [
        {
          "output_type": "stream",
          "name": "stdout",
          "text": [
            "Array 1 (Sequential integers from 10 to 1):\n",
            " [10  9  8  7  6  5  4  3  2  1]\n",
            "\n",
            "Array 2 (Integers from 1 to 10):\n",
            " [ 1  2  3  4  5  6  7  8  9 10]\n",
            "\n",
            "Element-wise Subtraction Result (arr1 - arr2):\n",
            " [ 9  7  5  3  1 -1 -3 -5 -7 -9]\n"
          ]
        }
      ]
    },
    {
      "cell_type": "code",
      "source": [
        "#53. Create a NumPy array `arr1` with random integers and another array `arr2` with integers from 1 to 5.\n",
        "#    Perform element-wise multiplication between `arr1` and `arr2`."
      ],
      "metadata": {
        "id": "XXxqDg6kW8IZ"
      },
      "execution_count": 106,
      "outputs": []
    },
    {
      "cell_type": "code",
      "source": [
        "import numpy as np\n",
        "\n",
        "# Create arr1 with random integers, for example, in the range 1 to 10, and shape (3, 3)\n",
        "arr1 = np.random.randint(1, 10, size=(3, 3))\n",
        "\n",
        "# Create arr2 with integers from 1 to 3 (3 values), reshaped to match the rows of arr1\n",
        "arr2 = np.arange(1, 4).reshape(3, 1)  # Shape is (3, 1), so it can be broadcast across arr1\n",
        "\n",
        "# Perform element-wise multiplication\n",
        "result = arr1 * arr2\n",
        "\n",
        "# Print the arrays and the result\n",
        "print(\"Array 1 (Random Integers):\\n\", arr1)\n",
        "print(\"\\nArray 2 (Integers from 1 to 3, reshaped):\\n\", arr2)\n",
        "print(\"\\nElement-wise Multiplication Result:\\n\", result)\n",
        "\n",
        "\n"
      ],
      "metadata": {
        "colab": {
          "base_uri": "https://localhost:8080/"
        },
        "id": "uIVV5CUEXI9J",
        "outputId": "2b7d7076-5ad3-4897-c218-e169be7c2a68"
      },
      "execution_count": 108,
      "outputs": [
        {
          "output_type": "stream",
          "name": "stdout",
          "text": [
            "Array 1 (Random Integers):\n",
            " [[7 7 4]\n",
            " [9 9 7]\n",
            " [6 7 9]]\n",
            "\n",
            "Array 2 (Integers from 1 to 3, reshaped):\n",
            " [[1]\n",
            " [2]\n",
            " [3]]\n",
            "\n",
            "Element-wise Multiplication Result:\n",
            " [[ 7  7  4]\n",
            " [18 18 14]\n",
            " [18 21 27]]\n"
          ]
        }
      ]
    },
    {
      "cell_type": "code",
      "source": [
        "#54. Generate a NumPy array `arr1` with even integers from 2 to 10 and another array `arr2` with integers from 1\n",
        "#    to 5. Perform element-wise division of `arr1` by `arr2`."
      ],
      "metadata": {
        "id": "sl-Y06-kXJWp"
      },
      "execution_count": 109,
      "outputs": []
    },
    {
      "cell_type": "code",
      "source": [
        "import numpy as np\n",
        "\n",
        "# Create arr1 with even integers from 2 to 10\n",
        "arr1 = np.arange(2, 11, 2)\n",
        "\n",
        "# Create arr2 with integers from 1 to 5\n",
        "arr2 = np.arange(1, 6)\n",
        "\n",
        "# Perform element-wise division\n",
        "result = arr1 / arr2\n",
        "\n",
        "# Print the arrays and the result\n",
        "print(\"Array 1 (Even Integers from 2 to 10):\\n\", arr1)\n",
        "print(\"\\nArray 2 (Integers from 1 to 5):\\n\", arr2)\n",
        "print(\"\\nElement-wise Division Result:\\n\", result)\n"
      ],
      "metadata": {
        "colab": {
          "base_uri": "https://localhost:8080/"
        },
        "id": "4lSjvJOkXgAh",
        "outputId": "a1d8e5bd-2e87-4048-be18-94b5002ed412"
      },
      "execution_count": 110,
      "outputs": [
        {
          "output_type": "stream",
          "name": "stdout",
          "text": [
            "Array 1 (Even Integers from 2 to 10):\n",
            " [ 2  4  6  8 10]\n",
            "\n",
            "Array 2 (Integers from 1 to 5):\n",
            " [1 2 3 4 5]\n",
            "\n",
            "Element-wise Division Result:\n",
            " [2. 2. 2. 2. 2.]\n"
          ]
        }
      ]
    },
    {
      "cell_type": "code",
      "source": [
        "#55. Create a NumPy array `arr1` with integers from 1 to 5 and another array `arr2` with the same numbers\n",
        "#    reversed. Calculate the exponentiation of `arr1` raised to the power of `arr2` element-wise."
      ],
      "metadata": {
        "id": "NJTTBjWYXiMq"
      },
      "execution_count": 111,
      "outputs": []
    },
    {
      "cell_type": "code",
      "source": [
        "import numpy as np\n",
        "\n",
        "# Create arr1 with integers from 1 to 5\n",
        "arr1 = np.array([1, 2, 3, 4, 5])\n",
        "\n",
        "# Create arr2 with the same numbers reversed\n",
        "arr2 = arr1[::-1]\n",
        "\n",
        "# Perform element-wise exponentiation (arr1 raised to the power of arr2)\n",
        "result = np.power(arr1, arr2)\n",
        "\n",
        "# Print the arrays and the result\n",
        "print(\"Array 1 (Integers from 1 to 5):\\n\", arr1)\n",
        "print(\"\\nArray 2 (Reversed of Array 1):\\n\", arr2)\n",
        "print(\"\\nElement-wise Exponentiation Result (arr1^arr2):\\n\", result)\n"
      ],
      "metadata": {
        "colab": {
          "base_uri": "https://localhost:8080/"
        },
        "id": "cJcLBzVVXp1y",
        "outputId": "992d227e-65fd-4480-8b5a-b7ee8941448f"
      },
      "execution_count": 112,
      "outputs": [
        {
          "output_type": "stream",
          "name": "stdout",
          "text": [
            "Array 1 (Integers from 1 to 5):\n",
            " [1 2 3 4 5]\n",
            "\n",
            "Array 2 (Reversed of Array 1):\n",
            " [5 4 3 2 1]\n",
            "\n",
            "Element-wise Exponentiation Result (arr1^arr2):\n",
            " [ 1 16 27 16  5]\n"
          ]
        }
      ]
    },
    {
      "cell_type": "code",
      "source": [
        "#56. Write a function that counts the occurrences of a specific substring within a NumPy array of strings.\n",
        "#    arr = np.array(['hello', 'world', 'hello', 'numpy', 'hello'])"
      ],
      "metadata": {
        "id": "tPcV8luYXykm"
      },
      "execution_count": 113,
      "outputs": []
    },
    {
      "cell_type": "code",
      "source": [
        "import numpy as np\n",
        "\n",
        "def count_substring_occurrences(arr, substring):\n",
        "    # Use np.char.count to count occurrences of substring in each element of the array\n",
        "    count_array = np.char.count(arr, substring)\n",
        "    # Sum the occurrences to get the total count\n",
        "    total_count = count_array.sum()\n",
        "    return total_count\n",
        "\n",
        "# Example array\n",
        "arr = np.array(['hello', 'world', 'hello', 'numpy', 'hello'])\n",
        "\n",
        "# Count occurrences of the substring 'hello'\n",
        "substring = 'hello'\n",
        "result = count_substring_occurrences(arr, substring)\n",
        "\n",
        "print(f\"Occurrences of '{substring}': {result}\")\n"
      ],
      "metadata": {
        "colab": {
          "base_uri": "https://localhost:8080/"
        },
        "id": "Jh5dxuIPYF1e",
        "outputId": "c92b6266-1624-4159-bc3d-724258600e5c"
      },
      "execution_count": 114,
      "outputs": [
        {
          "output_type": "stream",
          "name": "stdout",
          "text": [
            "Occurrences of 'hello': 3\n"
          ]
        }
      ]
    },
    {
      "cell_type": "code",
      "source": [
        "#57. Write a function that extracts uppercase characters from a NumPy array of strings.\n",
        "# arr = np.array(['Hello', 'World', 'OpenAI', 'GPT'])"
      ],
      "metadata": {
        "id": "KUFPVXHzYH4d"
      },
      "execution_count": 3,
      "outputs": []
    },
    {
      "cell_type": "code",
      "source": [
        "import numpy as np\n",
        "\n",
        "def extract_uppercase(arr):\n",
        "    # Use np.char to iterate over each string in the array and extract uppercase characters\n",
        "    uppercase_chars = [ ''.join([char for char in word if char.isupper()]) for word in arr ]\n",
        "    return np.array(uppercase_chars)\n",
        "\n",
        "# Example array\n",
        "arr = np.array(['Hello', 'World', 'OpenAI', 'GPT'])\n",
        "\n",
        "# Extract uppercase characters\n",
        "result = extract_uppercase(arr)\n",
        "\n",
        "print(f\"Extracted Uppercase Characters:\\n\", result)\n"
      ],
      "metadata": {
        "colab": {
          "base_uri": "https://localhost:8080/"
        },
        "id": "N-oUnCNl1C_q",
        "outputId": "29325186-9efd-4bd3-a0b6-a823d44f30b4"
      },
      "execution_count": 2,
      "outputs": [
        {
          "output_type": "stream",
          "name": "stdout",
          "text": [
            "Extracted Uppercase Characters:\n",
            " ['H' 'W' 'OAI' 'GPT']\n"
          ]
        }
      ]
    },
    {
      "cell_type": "code",
      "source": [
        "#58.  Write a function that replaces occurrences of a substring in a NumPy array of strings with a new string.\n",
        "#     arr = np.array(['apple', 'banana', 'grape', 'pineapple'])"
      ],
      "metadata": {
        "id": "4ZiEOAeg1Fx-"
      },
      "execution_count": 4,
      "outputs": []
    },
    {
      "cell_type": "code",
      "source": [
        "import numpy as np\n",
        "\n",
        "def replace_substring(arr, old_substring, new_substring):\n",
        "    # Use np.char.replace to replace occurrences of old_substring with new_substring\n",
        "    return np.char.replace(arr, old_substring, new_substring)\n",
        "\n",
        "# Example array\n",
        "arr = np.array(['apple', 'banana', 'grape', 'pineapple'])\n",
        "\n",
        "# Replace occurrences of 'apple' with 'orange'\n",
        "old_substring = 'apple'\n",
        "new_substring = 'orange'\n",
        "\n",
        "# Get the result after replacement\n",
        "result = replace_substring(arr, old_substring, new_substring)\n",
        "\n",
        "print(f\"Array after replacement:\\n\", result)\n"
      ],
      "metadata": {
        "colab": {
          "base_uri": "https://localhost:8080/"
        },
        "id": "W8ie7NSX1ZzO",
        "outputId": "120368a0-946d-4cca-eb94-afce8a84e0eb"
      },
      "execution_count": 5,
      "outputs": [
        {
          "output_type": "stream",
          "name": "stdout",
          "text": [
            "Array after replacement:\n",
            " ['orange' 'banana' 'grape' 'pineorange']\n"
          ]
        }
      ]
    },
    {
      "cell_type": "code",
      "source": [
        "#59. Write a function that concatenates strings in a NumPy array element-wise.\n",
        "#    arr1 = np.array(['Hello', 'World'])\n",
        "#    arr2 = np.array(['Open', 'AI'])"
      ],
      "metadata": {
        "id": "XH47z4jH1e_r"
      },
      "execution_count": 6,
      "outputs": []
    },
    {
      "cell_type": "code",
      "source": [
        "import numpy as np\n",
        "\n",
        "def concatenate_strings(arr1, arr2):\n",
        "    # Use np.char.add to concatenate strings element-wise\n",
        "    return np.char.add(arr1, arr2)\n",
        "\n",
        "# Example arrays\n",
        "arr1 = np.array(['Hello', 'World'])\n",
        "arr2 = np.array(['Open', 'AI'])\n",
        "\n",
        "# Concatenate the strings element-wise\n",
        "result = concatenate_strings(arr1, arr2)\n",
        "\n",
        "print(f\"Concatenated Array:\\n\", result)\n"
      ],
      "metadata": {
        "colab": {
          "base_uri": "https://localhost:8080/"
        },
        "id": "11Bew0gt1ppt",
        "outputId": "fe861a64-15a4-4350-a898-3f09fdaa6c1a"
      },
      "execution_count": 7,
      "outputs": [
        {
          "output_type": "stream",
          "name": "stdout",
          "text": [
            "Concatenated Array:\n",
            " ['HelloOpen' 'WorldAI']\n"
          ]
        }
      ]
    },
    {
      "cell_type": "code",
      "source": [
        "#60. Write a function that finds the length of the longest string in a NumPy array.\n",
        "#    arr = np.array(['apple', 'banana', 'grape', 'pineapple'])"
      ],
      "metadata": {
        "id": "BnxL6x0w1v6o"
      },
      "execution_count": 8,
      "outputs": []
    },
    {
      "cell_type": "code",
      "source": [
        "import numpy as np\n",
        "\n",
        "def longest_string_length(arr):\n",
        "    # Use np.char.str_len to find the length of each string\n",
        "    string_lengths = np.char.str_len(arr)\n",
        "    # Find the maximum length\n",
        "    return np.max(string_lengths)\n",
        "\n",
        "# Example array\n",
        "arr = np.array(['apple', 'banana', 'grape', 'pineapple'])\n",
        "\n",
        "# Find the length of the longest string\n",
        "result = longest_string_length(arr)\n",
        "\n",
        "print(f\"The length of the longest string is: {result}\")\n"
      ],
      "metadata": {
        "colab": {
          "base_uri": "https://localhost:8080/"
        },
        "id": "AllRxry-18F6",
        "outputId": "912ff39e-a1a3-4ecd-e22a-e1a9e86ce27b"
      },
      "execution_count": 9,
      "outputs": [
        {
          "output_type": "stream",
          "name": "stdout",
          "text": [
            "The length of the longest string is: 9\n"
          ]
        }
      ]
    },
    {
      "cell_type": "code",
      "source": [
        "#61. Create a dataset of 100 random integers between 1 and 1000. Compute the mean, median, variance, and\n",
        "#    standard deviation of the dataset using NumPy's functions."
      ],
      "metadata": {
        "id": "80wCSxtQ1-t4"
      },
      "execution_count": 10,
      "outputs": []
    },
    {
      "cell_type": "code",
      "source": [
        "import numpy as np\n",
        "\n",
        "# Create a dataset of 100 random integers between 1 and 1000\n",
        "dataset = np.random.randint(1, 1001, 100)\n",
        "\n",
        "# Compute the mean, median, variance, and standard deviation\n",
        "mean = np.mean(dataset)\n",
        "median = np.median(dataset)\n",
        "variance = np.var(dataset)\n",
        "std_dev = np.std(dataset)\n",
        "\n",
        "# Print the results\n",
        "print(f\"Mean: {mean}\")\n",
        "print(f\"Median: {median}\")\n",
        "print(f\"Variance: {variance}\")\n",
        "print(f\"Standard Deviation: {std_dev}\")\n"
      ],
      "metadata": {
        "colab": {
          "base_uri": "https://localhost:8080/"
        },
        "id": "AhM0sMej2DvC",
        "outputId": "a7469f50-f4c1-4a22-9e75-3de0a48d5cb7"
      },
      "execution_count": 11,
      "outputs": [
        {
          "output_type": "stream",
          "name": "stdout",
          "text": [
            "Mean: 512.65\n",
            "Median: 546.0\n",
            "Variance: 77757.48749999999\n",
            "Standard Deviation: 278.8502958578312\n"
          ]
        }
      ]
    },
    {
      "cell_type": "code",
      "source": [
        "#62.  Generate an array of 50 random numbers between 1 and 100. Find the 25th and 75th percentiles of the\n",
        "#     dataset."
      ],
      "metadata": {
        "id": "vrTttlE42PWm"
      },
      "execution_count": 12,
      "outputs": []
    },
    {
      "cell_type": "code",
      "source": [
        "import numpy as np\n",
        "\n",
        "# Generate an array of 50 random numbers between 1 and 100\n",
        "dataset = np.random.randint(1, 101, 50)\n",
        "\n",
        "# Find the 25th and 75th percentiles of the dataset\n",
        "percentile_25 = np.percentile(dataset, 25)\n",
        "percentile_75 = np.percentile(dataset, 75)\n",
        "\n",
        "# Print the results\n",
        "print(f\"25th Percentile: {percentile_25}\")\n",
        "print(f\"75th Percentile: {percentile_75}\")\n"
      ],
      "metadata": {
        "colab": {
          "base_uri": "https://localhost:8080/"
        },
        "id": "EOBgvz282W1P",
        "outputId": "d55aff13-b89a-4f09-ef5b-3faa129ab2fd"
      },
      "execution_count": 13,
      "outputs": [
        {
          "output_type": "stream",
          "name": "stdout",
          "text": [
            "25th Percentile: 33.0\n",
            "75th Percentile: 82.5\n"
          ]
        }
      ]
    },
    {
      "cell_type": "code",
      "source": [
        "#63. Create two arrays representing two sets of variables. Compute the correlation coefficient between these\n",
        "#    arrays using NumPy's `corrcoef` function."
      ],
      "metadata": {
        "id": "bGmXz-f22gIS"
      },
      "execution_count": 14,
      "outputs": []
    },
    {
      "cell_type": "code",
      "source": [
        "import numpy as np\n",
        "\n",
        "# Create two arrays representing two sets of variables\n",
        "arr1 = np.array([1, 2, 3, 4, 5])\n",
        "arr2 = np.array([5, 4, 3, 2, 1])\n",
        "\n",
        "# Compute the correlation coefficient between the two arrays\n",
        "correlation_matrix = np.corrcoef(arr1, arr2)\n",
        "\n",
        "# Extract the correlation coefficient from the matrix\n",
        "correlation_coefficient = correlation_matrix[0, 1]\n",
        "\n",
        "# Print the correlation coefficient\n",
        "print(f\"Correlation Coefficient: {correlation_coefficient}\")\n"
      ],
      "metadata": {
        "colab": {
          "base_uri": "https://localhost:8080/"
        },
        "id": "vmEX17Dd2l2H",
        "outputId": "258eded6-218a-4507-a1dd-6bd4c9827666"
      },
      "execution_count": 15,
      "outputs": [
        {
          "output_type": "stream",
          "name": "stdout",
          "text": [
            "Correlation Coefficient: -0.9999999999999999\n"
          ]
        }
      ]
    },
    {
      "cell_type": "code",
      "source": [
        "#64.  Create two matrices and perform matrix multiplication using NumPy's `dot` function."
      ],
      "metadata": {
        "id": "7F2jfRP82oZD"
      },
      "execution_count": 16,
      "outputs": []
    },
    {
      "cell_type": "code",
      "source": [
        "import numpy as np\n",
        "\n",
        "# Create two matrices\n",
        "matrix1 = np.array([[1, 2], [3, 4]])\n",
        "matrix2 = np.array([[5, 6], [7, 8]])\n",
        "\n",
        "# Perform matrix multiplication using np.dot\n",
        "result = np.dot(matrix1, matrix2)\n",
        "\n",
        "# Print the result\n",
        "print(\"Result of matrix multiplication:\")\n",
        "print(result)\n"
      ],
      "metadata": {
        "colab": {
          "base_uri": "https://localhost:8080/"
        },
        "id": "i_7QxoQi2tGt",
        "outputId": "233fd1b2-d02a-4414-e90b-f8871d060dc6"
      },
      "execution_count": 17,
      "outputs": [
        {
          "output_type": "stream",
          "name": "stdout",
          "text": [
            "Result of matrix multiplication:\n",
            "[[19 22]\n",
            " [43 50]]\n"
          ]
        }
      ]
    },
    {
      "cell_type": "code",
      "source": [
        "#65. Create an array of 50 integers between 10 and 1000. Calculate the 10th, 50th (median), and 90th\n",
        "#    percentiles along with the first and third quartiles."
      ],
      "metadata": {
        "id": "cqhU17SU2xMp"
      },
      "execution_count": 18,
      "outputs": []
    },
    {
      "cell_type": "code",
      "source": [
        "import numpy as np\n",
        "\n",
        "# Generate an array of 50 integers between 10 and 1000\n",
        "arr = np.random.randint(10, 1001, 50)\n",
        "\n",
        "# Calculate the 10th, 50th (median), and 90th percentiles\n",
        "percentile_10 = np.percentile(arr, 10)\n",
        "percentile_50 = np.percentile(arr, 50)  # This is also the median\n",
        "percentile_90 = np.percentile(arr, 90)\n",
        "\n",
        "# Calculate the first and third quartiles\n",
        "q1 = np.percentile(arr, 25)\n",
        "q3 = np.percentile(arr, 75)\n",
        "\n",
        "# Print the results\n",
        "print(f\"10th Percentile: {percentile_10}\")\n",
        "print(f\"50th Percentile (Median): {percentile_50}\")\n",
        "print(f\"90th Percentile: {percentile_90}\")\n",
        "print(f\"First Quartile (Q1): {q1}\")\n",
        "print(f\"Third Quartile (Q3): {q3}\")\n"
      ],
      "metadata": {
        "colab": {
          "base_uri": "https://localhost:8080/"
        },
        "id": "UmyGE4WR23y7",
        "outputId": "31e14b29-cf66-4a18-e38c-b71eae3d9573"
      },
      "execution_count": 19,
      "outputs": [
        {
          "output_type": "stream",
          "name": "stdout",
          "text": [
            "10th Percentile: 106.2\n",
            "50th Percentile (Median): 586.5\n",
            "90th Percentile: 935.0\n",
            "First Quartile (Q1): 287.75\n",
            "Third Quartile (Q3): 807.75\n"
          ]
        }
      ]
    },
    {
      "cell_type": "code",
      "source": [
        "#66.  Create a NumPy array of integers and find the index of a specific element"
      ],
      "metadata": {
        "id": "V8GFpePO2-lx"
      },
      "execution_count": 20,
      "outputs": []
    },
    {
      "cell_type": "code",
      "source": [
        "import numpy as np\n",
        "\n",
        "# Create a NumPy array of integers\n",
        "arr = np.array([10, 20, 30, 40, 50])\n",
        "\n",
        "# Specify the element you want to find\n",
        "element = 30\n",
        "\n",
        "# Find the index of the specified element\n",
        "index = np.where(arr == element)\n",
        "\n",
        "# Print the index\n",
        "print(f\"The index of {element} is: {index[0][0]}\")\n"
      ],
      "metadata": {
        "colab": {
          "base_uri": "https://localhost:8080/"
        },
        "id": "7cXahrrq3DU5",
        "outputId": "3243aa77-cabc-4add-ed79-f676ff5612ce"
      },
      "execution_count": 21,
      "outputs": [
        {
          "output_type": "stream",
          "name": "stdout",
          "text": [
            "The index of 30 is: 2\n"
          ]
        }
      ]
    },
    {
      "cell_type": "code",
      "source": [
        "#67.  Generate a random NumPy array and sort it in ascending order."
      ],
      "metadata": {
        "id": "_4OeyfLt3Frc"
      },
      "execution_count": 22,
      "outputs": []
    },
    {
      "cell_type": "code",
      "source": [
        "import numpy as np\n",
        "\n",
        "# Generate a random NumPy array with 10 random integers between 1 and 100\n",
        "arr = np.random.randint(1, 101, 10)\n",
        "\n",
        "# Sort the array in ascending order\n",
        "sorted_arr = np.sort(arr)\n",
        "\n",
        "# Print the original and sorted arrays\n",
        "print(\"Original Array:\", arr)\n",
        "print(\"Sorted Array:\", sorted_arr)\n"
      ],
      "metadata": {
        "colab": {
          "base_uri": "https://localhost:8080/"
        },
        "id": "7LkT4yby3J_V",
        "outputId": "35da93b4-7b02-41d6-ba1d-58c9d9aa9981"
      },
      "execution_count": 23,
      "outputs": [
        {
          "output_type": "stream",
          "name": "stdout",
          "text": [
            "Original Array: [50 97 79 49 95 73  9 35 70 66]\n",
            "Sorted Array: [ 9 35 49 50 66 70 73 79 95 97]\n"
          ]
        }
      ]
    },
    {
      "cell_type": "code",
      "source": [
        "#68.  Filter elements >20  in the given NumPy array\n",
        "#     arr = np.array([12, 25, 6, 42, 8, 30])"
      ],
      "metadata": {
        "id": "FkD1P1FT3LrL"
      },
      "execution_count": 24,
      "outputs": []
    },
    {
      "cell_type": "code",
      "source": [
        "import numpy as np\n",
        "\n",
        "# Given array\n",
        "arr = np.array([12, 25, 6, 42, 8, 30])\n",
        "\n",
        "# Filter elements greater than 20\n",
        "filtered_arr = arr[arr > 20]\n",
        "\n",
        "# Print the filtered array\n",
        "print(\"Filtered Array:\", filtered_arr)\n"
      ],
      "metadata": {
        "colab": {
          "base_uri": "https://localhost:8080/"
        },
        "id": "L0psdOVE3T6t",
        "outputId": "424f9ca4-40e7-4938-fbc2-5c5b22b86f8f"
      },
      "execution_count": 25,
      "outputs": [
        {
          "output_type": "stream",
          "name": "stdout",
          "text": [
            "Filtered Array: [25 42 30]\n"
          ]
        }
      ]
    },
    {
      "cell_type": "code",
      "source": [
        "#69.  Filter elements which are divisible by 3 from a given NumPy array\n",
        "#     arr = np.array([1, 5, 8, 12, 15])"
      ],
      "metadata": {
        "id": "lSIT_5aA3fSw"
      },
      "execution_count": 26,
      "outputs": []
    },
    {
      "cell_type": "code",
      "source": [
        "import numpy as np\n",
        "\n",
        "# Given array\n",
        "arr = np.array([1, 5, 8, 12, 15])\n",
        "\n",
        "# Filter elements divisible by 3\n",
        "filtered_arr = arr[arr % 3 == 0]\n",
        "\n",
        "# Print the filtered array\n",
        "print(\"Filtered Array:\", filtered_arr)\n"
      ],
      "metadata": {
        "colab": {
          "base_uri": "https://localhost:8080/"
        },
        "id": "HyalqWkj3mJU",
        "outputId": "b7e6dc35-33d5-48bb-fac3-cdf1b4deca97"
      },
      "execution_count": 27,
      "outputs": [
        {
          "output_type": "stream",
          "name": "stdout",
          "text": [
            "Filtered Array: [12 15]\n"
          ]
        }
      ]
    },
    {
      "cell_type": "code",
      "source": [
        "#70. Filter elements which are ≥ 20 and ≤ 40 from a given NumPy array.\n",
        "#    arr = np.array([10, 20, 30, 40, 50])"
      ],
      "metadata": {
        "id": "YpJQEteE3qBz"
      },
      "execution_count": 28,
      "outputs": []
    },
    {
      "cell_type": "code",
      "source": [
        "import numpy as np\n",
        "\n",
        "# Given array\n",
        "arr = np.array([10, 20, 30, 40, 50])\n",
        "\n",
        "# Filter elements between 20 and 40 (inclusive)\n",
        "filtered_arr = arr[(arr >= 20) & (arr <= 40)]\n",
        "\n",
        "# Print the filtered array\n",
        "print(\"Filtered Array:\", filtered_arr)\n"
      ],
      "metadata": {
        "colab": {
          "base_uri": "https://localhost:8080/"
        },
        "id": "xDY6RS7I30Hc",
        "outputId": "f96cfe90-26ba-41b7-9be7-4904fd47bce9"
      },
      "execution_count": 29,
      "outputs": [
        {
          "output_type": "stream",
          "name": "stdout",
          "text": [
            "Filtered Array: [20 30 40]\n"
          ]
        }
      ]
    },
    {
      "cell_type": "code",
      "source": [
        "#71. For the given NumPy array, check its byte order using the dtype attribute byteorder\n",
        "#    arr = np.array([1, 2, 3])"
      ],
      "metadata": {
        "id": "h774tf5r33cu"
      },
      "execution_count": 30,
      "outputs": []
    },
    {
      "cell_type": "code",
      "source": [
        "import numpy as np\n",
        "\n",
        "# Given array\n",
        "arr = np.array([1, 2, 3])\n",
        "\n",
        "# Check the byte order using dtype.byteorder\n",
        "byte_order = arr.dtype.byteorder\n",
        "\n",
        "# Print the byte order\n",
        "print(\"Byte order:\", byte_order)\n"
      ],
      "metadata": {
        "colab": {
          "base_uri": "https://localhost:8080/"
        },
        "id": "6hZmUkmt4C2k",
        "outputId": "676d9c9b-0510-47cd-b086-ca60489e8a17"
      },
      "execution_count": 31,
      "outputs": [
        {
          "output_type": "stream",
          "name": "stdout",
          "text": [
            "Byte order: =\n"
          ]
        }
      ]
    },
    {
      "cell_type": "code",
      "source": [
        "#72. For the given NumPy array, perform byte swapping in place using `byteswap()`.\n",
        "#    arr = np.array([1, 2, 3], dtype=np.int32)"
      ],
      "metadata": {
        "id": "C06VcA_U4F4a"
      },
      "execution_count": 32,
      "outputs": []
    },
    {
      "cell_type": "code",
      "source": [
        "import numpy as np\n",
        "\n",
        "# Given array with dtype=np.int32\n",
        "arr = np.array([1, 2, 3], dtype=np.int32)\n",
        "\n",
        "# Perform byte swapping in place\n",
        "arr.byteswap(True)\n",
        "\n",
        "# Print the array after byte swapping\n",
        "print(\"Array after byte swapping:\", arr)\n"
      ],
      "metadata": {
        "colab": {
          "base_uri": "https://localhost:8080/"
        },
        "id": "s8oftXvE4SBr",
        "outputId": "fb8932a1-f827-40a2-a2d6-3bb551b0351a"
      },
      "execution_count": 33,
      "outputs": [
        {
          "output_type": "stream",
          "name": "stdout",
          "text": [
            "Array after byte swapping: [16777216 33554432 50331648]\n"
          ]
        }
      ]
    },
    {
      "cell_type": "code",
      "source": [
        "#73. For the given NumPy array, swap its byte order without modifying the original array using\n",
        "#    `newbyteorder()`.\n",
        "#    arr = np.array([1, 2, 3], dtype=np.int32)"
      ],
      "metadata": {
        "id": "qnq4h3HQ4UHP"
      },
      "execution_count": 34,
      "outputs": []
    },
    {
      "cell_type": "code",
      "source": [
        "import numpy as np\n",
        "\n",
        "# Given array with dtype=np.int32\n",
        "arr = np.array([1, 2, 3], dtype=np.int32)\n",
        "\n",
        "# Swap the byte order without modifying the original array\n",
        "swapped_arr = arr.newbyteorder()\n",
        "\n",
        "# Print the original and the new array\n",
        "print(\"Original Array:\", arr)\n",
        "print(\"Array with swapped byte order:\", swapped_arr)\n"
      ],
      "metadata": {
        "colab": {
          "base_uri": "https://localhost:8080/"
        },
        "id": "8qzrEcJX4eqb",
        "outputId": "3a17883e-8870-4431-fb60-31f6065de1ba"
      },
      "execution_count": 35,
      "outputs": [
        {
          "output_type": "stream",
          "name": "stdout",
          "text": [
            "Original Array: [1 2 3]\n",
            "Array with swapped byte order: [16777216 33554432 50331648]\n"
          ]
        }
      ]
    },
    {
      "cell_type": "code",
      "source": [
        "#74. For the given NumPy array and swap its byte order conditionally based on system endianness using\n",
        "#    `newbyteorder()`.\n",
        "#    arr = np.array([1, 2, 3], dtype=np.int32)"
      ],
      "metadata": {
        "id": "s2tJJ5bQ4icb"
      },
      "execution_count": 36,
      "outputs": []
    },
    {
      "cell_type": "code",
      "source": [
        "import numpy as np\n",
        "import sys\n",
        "\n",
        "# Given array with dtype=np.int32\n",
        "arr = np.array([1, 2, 3], dtype=np.int32)\n",
        "\n",
        "# Get the system's byte order\n",
        "system_endianness = sys.byteorder\n",
        "\n",
        "# Check if the system's byte order differs from the array's byte order\n",
        "if arr.dtype.byteorder != system_endianness:\n",
        "    # Swap the byte order conditionally based on system endianness\n",
        "    swapped_arr = arr.newbyteorder()\n",
        "else:\n",
        "    # No need to swap if the byte order matches the system's endianness\n",
        "    swapped_arr = arr\n",
        "\n",
        "# Print the original and the conditionally swapped array\n",
        "print(\"Original Array:\", arr)\n",
        "print(\"Conditionally Byte Swapped Array:\", swapped_arr)\n"
      ],
      "metadata": {
        "colab": {
          "base_uri": "https://localhost:8080/"
        },
        "id": "VzRXTq-E4xhy",
        "outputId": "5ca3d13e-fa03-4c32-ced8-da39ca4656fa"
      },
      "execution_count": 37,
      "outputs": [
        {
          "output_type": "stream",
          "name": "stdout",
          "text": [
            "Original Array: [1 2 3]\n",
            "Conditionally Byte Swapped Array: [16777216 33554432 50331648]\n"
          ]
        }
      ]
    },
    {
      "cell_type": "code",
      "source": [
        "#75. For the given NumPy array, check if byte swapping is necessary for the current system using `dtype`\n",
        "#    attribute `byteorder`.\n",
        "#    arr = np.array([1, 2, 3], dtype=np.int32)"
      ],
      "metadata": {
        "id": "-kTcVA3O4zSB"
      },
      "execution_count": 38,
      "outputs": []
    },
    {
      "cell_type": "code",
      "source": [
        "import numpy as np\n",
        "import sys\n",
        "\n",
        "# Given array with dtype=np.int32\n",
        "arr = np.array([1, 2, 3], dtype=np.int32)\n",
        "\n",
        "# Get the system's byte order\n",
        "system_endianness = sys.byteorder\n",
        "\n",
        "# Check if the byte order of the array differs from the system's byte order\n",
        "if arr.dtype.byteorder != system_endianness:\n",
        "    print(\"Byte swapping is necessary.\")\n",
        "else:\n",
        "    print(\"Byte swapping is not necessary.\")\n"
      ],
      "metadata": {
        "colab": {
          "base_uri": "https://localhost:8080/"
        },
        "id": "8_622ojM4-GD",
        "outputId": "2b0420db-42e6-47b2-ae7b-c97f80623cff"
      },
      "execution_count": 39,
      "outputs": [
        {
          "output_type": "stream",
          "name": "stdout",
          "text": [
            "Byte swapping is necessary.\n"
          ]
        }
      ]
    },
    {
      "cell_type": "code",
      "source": [
        "#76. Create a NumPy array `arr1` with values from 1 to 10. Create a copy of `arr1` named `copy_arr` and modify\n",
        "#    an element in `copy_arr`. Check if modifying `copy_arr` affects `arr1`."
      ],
      "metadata": {
        "id": "RS8PXVpW5AMG"
      },
      "execution_count": 40,
      "outputs": []
    },
    {
      "cell_type": "code",
      "source": [
        "import numpy as np\n",
        "\n",
        "# Create an array with values from 1 to 10\n",
        "arr1 = np.array([1, 2, 3, 4, 5, 6, 7, 8, 9, 10])\n",
        "\n",
        "# Create a copy of arr1\n",
        "copy_arr = arr1.copy()\n",
        "\n",
        "# Modify an element in copy_arr\n",
        "copy_arr[0] = 100\n",
        "\n",
        "# Print both arrays to see if arr1 is affected\n",
        "print(\"Original array (arr1):\", arr1)\n",
        "print(\"Modified copy array (copy_arr):\", copy_arr)\n"
      ],
      "metadata": {
        "colab": {
          "base_uri": "https://localhost:8080/"
        },
        "id": "sMecyDnC5EhD",
        "outputId": "adf65b4d-9955-48ce-d399-0a72dc740108"
      },
      "execution_count": 41,
      "outputs": [
        {
          "output_type": "stream",
          "name": "stdout",
          "text": [
            "Original array (arr1): [ 1  2  3  4  5  6  7  8  9 10]\n",
            "Modified copy array (copy_arr): [100   2   3   4   5   6   7   8   9  10]\n"
          ]
        }
      ]
    },
    {
      "cell_type": "code",
      "source": [
        "#77. Create a 2D NumPy array `matrix` of shape (3, 3) with random integers. Extract a slice `view_slice` from\n",
        "#    the matrix. Modify an element in `view_slice` and observe if it changes the original `matrix`."
      ],
      "metadata": {
        "id": "KsR8NEAV5GWH"
      },
      "execution_count": 42,
      "outputs": []
    },
    {
      "cell_type": "code",
      "source": [
        "import numpy as np\n",
        "\n",
        "# Create a 2D NumPy array (3x3) with random integers\n",
        "matrix = np.random.randint(1, 100, size=(3, 3))\n",
        "\n",
        "# Extract a slice from the matrix (e.g., the first two rows and columns)\n",
        "view_slice = matrix[:2, :2]\n",
        "\n",
        "# Print the original matrix and the slice\n",
        "print(\"Original matrix (matrix):\")\n",
        "print(matrix)\n",
        "\n",
        "print(\"\\nSlice (view_slice):\")\n",
        "print(view_slice)\n",
        "\n",
        "# Modify an element in the slice\n",
        "view_slice[0, 0] = 999\n",
        "\n",
        "# Print the modified slice and the original matrix after modification\n",
        "print(\"\\nModified slice (view_slice):\")\n",
        "print(view_slice)\n",
        "\n",
        "print(\"\\nOriginal matrix (matrix) after modifying slice:\")\n",
        "print(matrix)\n"
      ],
      "metadata": {
        "colab": {
          "base_uri": "https://localhost:8080/"
        },
        "id": "B4pzTCvI5Ls1",
        "outputId": "59f88f3d-61ba-4591-e2b0-063a6aa4fdf2"
      },
      "execution_count": 43,
      "outputs": [
        {
          "output_type": "stream",
          "name": "stdout",
          "text": [
            "Original matrix (matrix):\n",
            "[[45 15 99]\n",
            " [77 26 77]\n",
            " [80 36 60]]\n",
            "\n",
            "Slice (view_slice):\n",
            "[[45 15]\n",
            " [77 26]]\n",
            "\n",
            "Modified slice (view_slice):\n",
            "[[999  15]\n",
            " [ 77  26]]\n",
            "\n",
            "Original matrix (matrix) after modifying slice:\n",
            "[[999  15  99]\n",
            " [ 77  26  77]\n",
            " [ 80  36  60]]\n"
          ]
        }
      ]
    },
    {
      "cell_type": "code",
      "source": [
        "#78. Create a NumPy array `array_a` of shape (4, 3) with sequential integers from 1 to 12. Extract a slice\n",
        "#    `view_b` from `array_a` and broadcast the addition of 5 to view_b. Check if it alters the original `array_a`."
      ],
      "metadata": {
        "id": "7RnFUJAl5P4p"
      },
      "execution_count": 44,
      "outputs": []
    },
    {
      "cell_type": "code",
      "source": [
        "import numpy as np\n",
        "\n",
        "# Create a 2D NumPy array of shape (4, 3) with sequential integers from 1 to 12\n",
        "array_a = np.arange(1, 13).reshape(4, 3)\n",
        "\n",
        "# Extract a slice (view) from the array (e.g., the first two rows and columns)\n",
        "view_b = array_a[:2, :2]\n",
        "\n",
        "# Print the original array and the slice\n",
        "print(\"Original array (array_a):\")\n",
        "print(array_a)\n",
        "\n",
        "print(\"\\nSlice (view_b):\")\n",
        "print(view_b)\n",
        "\n",
        "# Broadcast the addition of 5 to the slice\n",
        "view_b += 5\n",
        "\n",
        "# Print the modified slice and the original array after the modification\n",
        "print(\"\\nModified slice (view_b) after adding 5:\")\n",
        "print(view_b)\n",
        "\n",
        "print(\"\\nOriginal array (array_a) after modifying slice:\")\n",
        "print(array_a)\n"
      ],
      "metadata": {
        "colab": {
          "base_uri": "https://localhost:8080/"
        },
        "id": "qR5IARRj5UPY",
        "outputId": "bd7ea076-2e09-4e0e-befc-18812d788e3c"
      },
      "execution_count": 45,
      "outputs": [
        {
          "output_type": "stream",
          "name": "stdout",
          "text": [
            "Original array (array_a):\n",
            "[[ 1  2  3]\n",
            " [ 4  5  6]\n",
            " [ 7  8  9]\n",
            " [10 11 12]]\n",
            "\n",
            "Slice (view_b):\n",
            "[[1 2]\n",
            " [4 5]]\n",
            "\n",
            "Modified slice (view_b) after adding 5:\n",
            "[[ 6  7]\n",
            " [ 9 10]]\n",
            "\n",
            "Original array (array_a) after modifying slice:\n",
            "[[ 6  7  3]\n",
            " [ 9 10  6]\n",
            " [ 7  8  9]\n",
            " [10 11 12]]\n"
          ]
        }
      ]
    },
    {
      "cell_type": "code",
      "source": [
        "#79. Create a NumPy array `orig_array` of shape (2, 4) with values from 1 to 8. Create a reshaped view\n",
        "#    `reshaped_view` of shape (4, 2) from orig_array. Modify an element in `reshaped_view` and check if it\n",
        "#    reflects changes in the original `orig_array`."
      ],
      "metadata": {
        "id": "sS6Bid0f5bV_"
      },
      "execution_count": 46,
      "outputs": []
    },
    {
      "cell_type": "code",
      "source": [
        "import numpy as np\n",
        "\n",
        "# Create a NumPy array 'orig_array' of shape (2, 4) with values from 1 to 8\n",
        "orig_array = np.arange(1, 9).reshape(2, 4)\n",
        "\n",
        "# Create a reshaped view 'reshaped_view' of shape (4, 2) from 'orig_array'\n",
        "reshaped_view = orig_array.reshape(4, 2)\n",
        "\n",
        "# Print the original array and reshaped view\n",
        "print(\"Original array (orig_array):\")\n",
        "print(orig_array)\n",
        "\n",
        "print(\"\\nReshaped view (reshaped_view):\")\n",
        "print(reshaped_view)\n",
        "\n",
        "# Modify an element in the reshaped view (e.g., change element at index [1, 1])\n",
        "reshaped_view[1, 1] = 99\n",
        "\n",
        "# Print the modified reshaped view and the original array after modification\n",
        "print(\"\\nModified reshaped view (reshaped_view):\")\n",
        "print(reshaped_view)\n",
        "\n",
        "print(\"\\nOriginal array (orig_array) after modifying reshaped view:\")\n",
        "print(orig_array)\n"
      ],
      "metadata": {
        "colab": {
          "base_uri": "https://localhost:8080/"
        },
        "id": "qU4EndMP5hhV",
        "outputId": "b96576f8-2ae1-49d6-f7cf-e0b17e42fe3e"
      },
      "execution_count": 47,
      "outputs": [
        {
          "output_type": "stream",
          "name": "stdout",
          "text": [
            "Original array (orig_array):\n",
            "[[1 2 3 4]\n",
            " [5 6 7 8]]\n",
            "\n",
            "Reshaped view (reshaped_view):\n",
            "[[1 2]\n",
            " [3 4]\n",
            " [5 6]\n",
            " [7 8]]\n",
            "\n",
            "Modified reshaped view (reshaped_view):\n",
            "[[ 1  2]\n",
            " [ 3 99]\n",
            " [ 5  6]\n",
            " [ 7  8]]\n",
            "\n",
            "Original array (orig_array) after modifying reshaped view:\n",
            "[[ 1  2  3 99]\n",
            " [ 5  6  7  8]]\n"
          ]
        }
      ]
    },
    {
      "cell_type": "code",
      "source": [
        "#80. Create a NumPy array `data` of shape (3, 4) with random integers. Extract a copy `data_copy` of\n",
        "#    elements greater than 5. Modify an element in `data_copy` and verify if it affects the original `data`."
      ],
      "metadata": {
        "id": "x0FN2ZL35lMp"
      },
      "execution_count": 48,
      "outputs": []
    },
    {
      "cell_type": "code",
      "source": [
        "import numpy as np\n",
        "\n",
        "# Create a NumPy array 'data' of shape (3, 4) with random integers\n",
        "data = np.random.randint(1, 10, size=(3, 4))\n",
        "\n",
        "# Print the original 'data' array\n",
        "print(\"Original data array:\")\n",
        "print(data)\n",
        "\n",
        "# Extract a copy of elements greater than 5\n",
        "data_copy = data[data > 5].copy()\n",
        "\n",
        "# Print the 'data_copy' array\n",
        "print(\"\\nExtracted data_copy (elements > 5):\")\n",
        "print(data_copy)\n",
        "\n",
        "# Modify an element in the 'data_copy'\n",
        "data_copy[0] = 99\n",
        "\n",
        "# Print the modified 'data_copy' array\n",
        "print(\"\\nModified data_copy:\")\n",
        "print(data_copy)\n",
        "\n",
        "# Print the original 'data' array after modification\n",
        "print(\"\\nOriginal data array after modifying data_copy:\")\n",
        "print(data)\n"
      ],
      "metadata": {
        "colab": {
          "base_uri": "https://localhost:8080/"
        },
        "id": "VKi5t7Cj5sQm",
        "outputId": "5f42eab0-8bea-477a-bb09-5ec1393f56f6"
      },
      "execution_count": 50,
      "outputs": [
        {
          "output_type": "stream",
          "name": "stdout",
          "text": [
            "Original data array:\n",
            "[[7 6 4 5]\n",
            " [4 8 9 8]\n",
            " [9 4 9 4]]\n",
            "\n",
            "Extracted data_copy (elements > 5):\n",
            "[7 6 8 9 8 9 9]\n",
            "\n",
            "Modified data_copy:\n",
            "[99  6  8  9  8  9  9]\n",
            "\n",
            "Original data array after modifying data_copy:\n",
            "[[7 6 4 5]\n",
            " [4 8 9 8]\n",
            " [9 4 9 4]]\n"
          ]
        }
      ]
    },
    {
      "cell_type": "code",
      "source": [
        "#81.  Create two matrices A and B of identical shape containing integers and perform addition and subtraction\n",
        "#     operations between them."
      ],
      "metadata": {
        "id": "j0z4O8nk5vJE"
      },
      "execution_count": 51,
      "outputs": []
    },
    {
      "cell_type": "code",
      "source": [
        "import numpy as np\n",
        "\n",
        "# Create two matrices A and B of identical shape containing random integers\n",
        "A = np.random.randint(1, 10, size=(3, 3))  # 3x3 matrix with random integers from 1 to 9\n",
        "B = np.random.randint(1, 10, size=(3, 3))  # 3x3 matrix with random integers from 1 to 9\n",
        "\n",
        "# Print the original matrices\n",
        "print(\"Matrix A:\")\n",
        "print(A)\n",
        "\n",
        "print(\"\\nMatrix B:\")\n",
        "print(B)\n",
        "\n",
        "# Perform addition operation\n",
        "addition_result = A + B\n",
        "print(\"\\nAddition (A + B):\")\n",
        "print(addition_result)\n",
        "\n",
        "# Perform subtraction operation\n",
        "subtraction_result = A - B\n",
        "print(\"\\nSubtraction (A - B):\")\n",
        "print(subtraction_result)\n"
      ],
      "metadata": {
        "colab": {
          "base_uri": "https://localhost:8080/"
        },
        "id": "TRsiVN3n506u",
        "outputId": "d04f64d2-3572-41d2-fe1a-dd149f996c25"
      },
      "execution_count": 52,
      "outputs": [
        {
          "output_type": "stream",
          "name": "stdout",
          "text": [
            "Matrix A:\n",
            "[[6 7 3]\n",
            " [8 7 9]\n",
            " [6 8 7]]\n",
            "\n",
            "Matrix B:\n",
            "[[5 9 5]\n",
            " [6 9 9]\n",
            " [4 4 5]]\n",
            "\n",
            "Addition (A + B):\n",
            "[[11 16  8]\n",
            " [14 16 18]\n",
            " [10 12 12]]\n",
            "\n",
            "Subtraction (A - B):\n",
            "[[ 1 -2 -2]\n",
            " [ 2 -2  0]\n",
            " [ 2  4  2]]\n"
          ]
        }
      ]
    },
    {
      "cell_type": "code",
      "source": [
        "#82. Generate two matrices `C` (3x2) and `D` (2x4) and perform matrix multiplication."
      ],
      "metadata": {
        "id": "-bZW2qhF524q"
      },
      "execution_count": 53,
      "outputs": []
    },
    {
      "cell_type": "code",
      "source": [
        "import numpy as np\n",
        "\n",
        "# Create matrix C of shape (3, 2) with random integers\n",
        "C = np.random.randint(1, 10, size=(3, 2))\n",
        "\n",
        "# Create matrix D of shape (2, 4) with random integers\n",
        "D = np.random.randint(1, 10, size=(2, 4))\n",
        "\n",
        "# Print the matrices\n",
        "print(\"Matrix C (3x2):\")\n",
        "print(C)\n",
        "\n",
        "print(\"\\nMatrix D (2x4):\")\n",
        "print(D)\n",
        "\n",
        "# Perform matrix multiplication (C * D)\n",
        "result = np.dot(C, D)\n",
        "\n",
        "# Alternatively, you can use the '@' operator for matrix multiplication\n",
        "# result = C @ D\n",
        "\n",
        "# Print the result of matrix multiplication\n",
        "print(\"\\nMatrix multiplication result (C * D):\")\n",
        "print(result)\n"
      ],
      "metadata": {
        "colab": {
          "base_uri": "https://localhost:8080/"
        },
        "id": "kc18OfaE57UN",
        "outputId": "e8869de1-54c8-4cff-95d6-f0971137ea45"
      },
      "execution_count": 54,
      "outputs": [
        {
          "output_type": "stream",
          "name": "stdout",
          "text": [
            "Matrix C (3x2):\n",
            "[[1 3]\n",
            " [6 3]\n",
            " [3 3]]\n",
            "\n",
            "Matrix D (2x4):\n",
            "[[3 4 6 7]\n",
            " [3 2 9 3]]\n",
            "\n",
            "Matrix multiplication result (C * D):\n",
            "[[12 10 33 16]\n",
            " [27 30 63 51]\n",
            " [18 18 45 30]]\n"
          ]
        }
      ]
    },
    {
      "cell_type": "code",
      "source": [
        "#83. Create a matrix `E` and find its transpose"
      ],
      "metadata": {
        "id": "isEJaF9u59sk"
      },
      "execution_count": 55,
      "outputs": []
    },
    {
      "cell_type": "code",
      "source": [
        "import numpy as np\n",
        "\n",
        "# Create matrix E with random integers, for example a 3x2 matrix\n",
        "E = np.random.randint(1, 10, size=(3, 2))\n",
        "\n",
        "# Print the original matrix E\n",
        "print(\"Matrix E:\")\n",
        "print(E)\n",
        "\n",
        "# Find the transpose of matrix E\n",
        "E_transpose = np.transpose(E)\n",
        "\n",
        "# Alternatively, you can use the shorthand .T\n",
        "# E_transpose = E.T\n",
        "\n",
        "# Print the transpose of matrix E\n",
        "print(\"\\nTranspose of Matrix E:\")\n",
        "print(E_transpose)\n"
      ],
      "metadata": {
        "colab": {
          "base_uri": "https://localhost:8080/"
        },
        "id": "OvbpuTIA6Bi_",
        "outputId": "02e158cd-aa7b-497e-920b-2e194958ef73"
      },
      "execution_count": 56,
      "outputs": [
        {
          "output_type": "stream",
          "name": "stdout",
          "text": [
            "Matrix E:\n",
            "[[3 2]\n",
            " [9 6]\n",
            " [7 7]]\n",
            "\n",
            "Transpose of Matrix E:\n",
            "[[3 9 7]\n",
            " [2 6 7]]\n"
          ]
        }
      ]
    },
    {
      "cell_type": "code",
      "source": [
        "#84. Generate a square matrix `F` and compute its determinant"
      ],
      "metadata": {
        "id": "Z49L1ezB6Fw1"
      },
      "execution_count": 57,
      "outputs": []
    },
    {
      "cell_type": "code",
      "source": [
        "import numpy as np\n",
        "\n",
        "# Create a square matrix F (for example, a 3x3 matrix)\n",
        "F = np.random.randint(1, 10, size=(3, 3))\n",
        "\n",
        "# Print the original matrix F\n",
        "print(\"Matrix F:\")\n",
        "print(F)\n",
        "\n",
        "# Compute the determinant of matrix F\n",
        "det_F = np.linalg.det(F)\n",
        "\n",
        "# Print the determinant\n",
        "print(\"\\nDeterminant of Matrix F:\")\n",
        "print(det_F)\n"
      ],
      "metadata": {
        "colab": {
          "base_uri": "https://localhost:8080/"
        },
        "id": "urW2Azlw6KZK",
        "outputId": "bb593c1f-f711-44ae-d7ce-c601bb872810"
      },
      "execution_count": 58,
      "outputs": [
        {
          "output_type": "stream",
          "name": "stdout",
          "text": [
            "Matrix F:\n",
            "[[7 2 6]\n",
            " [5 5 4]\n",
            " [5 5 7]]\n",
            "\n",
            "Determinant of Matrix F:\n",
            "75.00000000000004\n"
          ]
        }
      ]
    },
    {
      "cell_type": "code",
      "source": [
        "#85. Create a square matrix `G` and find its inverse."
      ],
      "metadata": {
        "id": "jkntPBDs6NQ9"
      },
      "execution_count": 59,
      "outputs": []
    },
    {
      "cell_type": "code",
      "source": [
        "import numpy as np\n",
        "\n",
        "# Create a square matrix G (for example, a 3x3 matrix)\n",
        "G = np.random.randint(1, 10, size=(3, 3))\n",
        "\n",
        "# Print the original matrix G\n",
        "print(\"Matrix G:\")\n",
        "print(G)\n",
        "\n",
        "# Check if the matrix is invertible (determinant should not be zero)\n",
        "det_G = np.linalg.det(G)\n",
        "\n",
        "if det_G != 0:\n",
        "    # Compute the inverse of matrix G\n",
        "    G_inverse = np.linalg.inv(G)\n",
        "\n",
        "    # Print the inverse of matrix G\n",
        "    print(\"\\nInverse of Matrix G:\")\n",
        "    print(G_inverse)\n",
        "else:\n",
        "    print(\"\\nMatrix G is singular, and cannot be inverted (determinant is 0).\")\n"
      ],
      "metadata": {
        "colab": {
          "base_uri": "https://localhost:8080/"
        },
        "id": "a6ANzHR56Rq4",
        "outputId": "f779523e-d417-44c9-dfde-ac9be9acfb9b"
      },
      "execution_count": 60,
      "outputs": [
        {
          "output_type": "stream",
          "name": "stdout",
          "text": [
            "Matrix G:\n",
            "[[6 9 7]\n",
            " [6 6 9]\n",
            " [4 8 8]]\n",
            "\n",
            "Inverse of Matrix G:\n",
            "[[ 0.28571429  0.19047619 -0.46428571]\n",
            " [ 0.14285714 -0.23809524  0.14285714]\n",
            " [-0.28571429  0.14285714  0.21428571]]\n"
          ]
        }
      ]
    },
    {
      "cell_type": "code",
      "source": [],
      "metadata": {
        "id": "n8mlqIQW6T8m"
      },
      "execution_count": null,
      "outputs": []
    }
  ]
}